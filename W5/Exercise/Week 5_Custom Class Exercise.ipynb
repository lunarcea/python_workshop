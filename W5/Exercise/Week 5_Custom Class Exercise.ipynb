{
 "cells": [
  {
   "cell_type": "markdown",
   "metadata": {},
   "source": [
    "# Academic Participant Class Workshop\n",
    "\n",
    "This workshop will introduce you to object-oriented programming by creating a custom class.\n",
    "\n",
    "You'll implement an AcademicParticipant class with these core features:\n",
    "\n",
    "* Constructor that initializes Institution Name, Participant's First Name and Last Name\n",
    "* Methods for modifying these attributes\n",
    "* A string representation method that returns \"{FirstName} {LastName} participates at {InstitutionName}\"\n",
    "\n",
    "Feel free to im"
   ]
  },
  {
   "cell_type": "code",
   "execution_count": 1,
   "metadata": {},
   "outputs": [],
   "source": [
    "#Define your class below\n",
    "\"\"\"\n",
    "For your reference, here's a basic class structure:\n",
    "\n",
    "class ClassName:\n",
    "    def __init__(self):\n",
    "        pass\n",
    "\n",
    "\"\"\"\n",
    "\n",
    "class AcademicParticipant:\n",
    "    \n",
    "    def __init__(self, institutionName, firstName, lastName):\n",
    "        self.institutionName = institutionName\n",
    "        self.firstName = firstName\n",
    "        self.lastName = lastName\n",
    "    \n",
    "    def modifyInstitution(self, newInstitutionName):\n",
    "        self.institutionName = newInstitutionName\n",
    "        return self\n",
    "    \n",
    "    def modifyFirstName(self, newFirstName):\n",
    "        self.firstName = newFirstName\n",
    "        return self\n",
    "    \n",
    "    def modifyLastName(self, newLastName):\n",
    "        self.lastName = newLastName\n",
    "        return self\n",
    "    \n",
    "    def __str__(self):\n",
    "        return f\"{self.firstName} {self.lastName} participates at {self.institutionName}\""
   ]
  },
  {
   "cell_type": "code",
   "execution_count": 2,
   "metadata": {},
   "outputs": [
    {
     "name": "stdout",
     "output_type": "stream",
     "text": [
      "Morgan Chen participates at Design Academy\n"
     ]
    }
   ],
   "source": [
    "#Testing code for your implementation\n",
    "\n",
    "participant1 = AcademicParticipant('Metropolitan University', 'Morgan', 'Chen')\n",
    "participant1.modifyInstitution('Design Academy')\n",
    "print(str(participant1))"
   ]
  },
  {
   "cell_type": "markdown",
   "metadata": {},
   "source": [
    "### Enhancement Challenges\n",
    "\n",
    "Before diving into these challenges, consider what additional features an AcademicParticipant might need. You could add fields like enrolled courses, expected graduation date, academic status, etc. The flexibility of classes allows you to model your understanding of the problem domain.\n",
    "\n",
    "These challenges will extend your base class functionality, exploring class attributes, special methods, inheritance, and iteration. Feel free to consult Python documentation for implementation guidance!\n",
    "\n",
    "#### Challenge #1: Add behavioral methods\n",
    "What behaviors should an academic participant exhibit? Do they study? Conduct research? Choose a specialization?\n",
    "\n",
    "Implement methods and appropriate attributes that allow a participant to output statements about themselves.\n",
    "\n",
    "#### Challenge #2: Implement class-wide participant tracking\n",
    "Create a class attribute to count how many participants have been created. Use this to assign each participant a unique identifier.\n",
    "\n",
    "#### Challenge #3: Create an AdvancedParticipant subclass\n",
    "Develop a subclass that inherits from the base AcademicParticipant class. How should AdvancedParticipants differ from regular participants? Add unique attributes or methods that reflect these differences.\n",
    "\n",
    "#### Challenge #4: Implement iteration functionality\n",
    "Add iterator support to make objects of your class iterable, allowing loops to iterate through all participant instances."
   ]
  },
  {
   "cell_type": "code",
   "execution_count": 3,
   "metadata": {},
   "outputs": [],
   "source": [
    "class AcademicParticipant:\n",
    "    \n",
    "    def __init__(self, institutionName, firstName, lastName):\n",
    "        self.institutionName = institutionName\n",
    "        self.firstName = firstName\n",
    "        self.lastName = lastName\n",
    "        self.courses = []\n",
    "        self.specialization = None\n",
    "    \n",
    "    def modifyInstitution(self, newInstitutionName):\n",
    "        self.institutionName = newInstitutionName\n",
    "        return self\n",
    "    \n",
    "    def modifyFirstName(self, newFirstName):\n",
    "        self.firstName = newFirstName\n",
    "        return self\n",
    "    \n",
    "    def modifyLastName(self, newLastName):\n",
    "        self.lastName = newLastName\n",
    "        return self\n",
    "    \n",
    "    # Challenge 1: Behavioral methods\n",
    "    def declareSpecialization(self, specialization):\n",
    "        self.specialization = specialization\n",
    "        print(f\"{self.firstName} has declared {specialization} as their specialization.\")\n",
    "    \n",
    "    def enrollInCourse(self, course):\n",
    "        self.courses.append(course)\n",
    "        print(f\"{self.firstName} has enrolled in {course}.\")\n",
    "    \n",
    "    def introduceYourself(self):\n",
    "        introduction = f\"Hello, I'm {self.firstName} {self.lastName} from {self.institutionName}.\"\n",
    "        if self.specialization:\n",
    "            introduction += f\" I'm specializing in {self.specialization}.\"\n",
    "        if self.courses:\n",
    "            introduction += f\" I'm currently taking {', '.join(self.courses)}.\"\n",
    "        print(introduction)\n",
    "    \n",
    "    def __str__(self):\n",
    "        return f\"{self.firstName} {self.lastName} participates at {self.institutionName}\""
   ]
  },
  {
   "cell_type": "code",
   "execution_count": 4,
   "metadata": {},
   "outputs": [
    {
     "name": "stdout",
     "output_type": "stream",
     "text": [
      "Morgan has declared Data Science as their specialization.\n",
      "Morgan has enrolled in Python Programming.\n",
      "Morgan has enrolled in Statistics.\n",
      "Hello, I'm Morgan Chen from Metropolitan University. I'm specializing in Data Science. I'm currently taking Python Programming, Statistics.\n"
     ]
    }
   ],
   "source": [
    "# Testing behavioral methods\n",
    "participant1 = AcademicParticipant('Metropolitan University', 'Morgan', 'Chen')\n",
    "participant1.declareSpecialization('Data Science')\n",
    "participant1.enrollInCourse('Python Programming')\n",
    "participant1.enrollInCourse('Statistics')\n",
    "participant1.introduceYourself()"
   ]
  },
  {
   "cell_type": "code",
   "execution_count": 5,
   "metadata": {},
   "outputs": [],
   "source": [
    "class AcademicParticipant:\n",
    "    \n",
    "    # Challenge 2: Class-wide participant tracking\n",
    "    participant_count = 0\n",
    "    \n",
    "    def __init__(self, institutionName, firstName, lastName):\n",
    "        self.institutionName = institutionName\n",
    "        self.firstName = firstName\n",
    "        self.lastName = lastName\n",
    "        self.courses = []\n",
    "        self.specialization = None\n",
    "        \n",
    "        # Increment count and assign ID\n",
    "        AcademicParticipant.participant_count += 1\n",
    "        self.participantID = AcademicParticipant.participant_count\n",
    "    \n",
    "    def modifyInstitution(self, newInstitutionName):\n",
    "        self.institutionName = newInstitutionName\n",
    "        return self\n",
    "    \n",
    "    def modifyFirstName(self, newFirstName):\n",
    "        self.firstName = newFirstName\n",
    "        return self\n",
    "    \n",
    "    def modifyLastName(self, newLastName):\n",
    "        self.lastName = newLastName\n",
    "        return self\n",
    "    \n",
    "    def declareSpecialization(self, specialization):\n",
    "        self.specialization = specialization\n",
    "        print(f\"{self.firstName} has declared {specialization} as their specialization.\")\n",
    "    \n",
    "    def enrollInCourse(self, course):\n",
    "        self.courses.append(course)\n",
    "        print(f\"{self.firstName} has enrolled in {course}.\")\n",
    "    \n",
    "    def introduceYourself(self):\n",
    "        introduction = f\"Hello, I'm {self.firstName} {self.lastName} (ID: {self.participantID}) from {self.institutionName}.\"\n",
    "        if self.specialization:\n",
    "            introduction += f\" I'm specializing in {self.specialization}.\"\n",
    "        if self.courses:\n",
    "            introduction += f\" I'm currently taking {', '.join(self.courses)}.\"\n",
    "        print(introduction)\n",
    "    \n",
    "    def __str__(self):\n",
    "        return f\"{self.firstName} {self.lastName} (ID: {self.participantID}) participates at {self.institutionName}\""
   ]
  },
  {
   "cell_type": "code",
   "execution_count": 6,
   "metadata": {},
   "outputs": [
    {
     "name": "stdout",
     "output_type": "stream",
     "text": [
      "Total participants: 3\n",
      "Morgan Chen (ID: 1) participates at Metropolitan University\n",
      "Alex Johnson (ID: 2) participates at Metropolitan University\n",
      "Jordan Smith (ID: 3) participates at Technology Institute\n"
     ]
    }
   ],
   "source": [
    "# Testing participant tracking\n",
    "participant1 = AcademicParticipant('Metropolitan University', 'Morgan', 'Chen')\n",
    "participant2 = AcademicParticipant('Metropolitan University', 'Alex', 'Johnson')\n",
    "participant3 = AcademicParticipant('Technology Institute', 'Jordan', 'Smith')\n",
    "\n",
    "print(f\"Total participants: {AcademicParticipant.participant_count}\")\n",
    "print(participant1)\n",
    "print(participant2)\n",
    "print(participant3)"
   ]
  },
  {
   "cell_type": "code",
   "execution_count": 8,
   "metadata": {},
   "outputs": [],
   "source": [
    "class AdvancedParticipant(AcademicParticipant):\n",
    "    \n",
    "    advanced_count = 0\n",
    "    \n",
    "    def __init__(self, institutionName, firstName, lastName, researchFocus):\n",
    "        # Call the parent class constructor\n",
    "        super().__init__(institutionName, firstName, lastName)\n",
    "        \n",
    "        # Add unique attributes\n",
    "        self.researchFocus = researchFocus\n",
    "        self.publications = []\n",
    "        self.advisors = []\n",
    "        \n",
    "        # Track advanced participants separately\n",
    "        AdvancedParticipant.advanced_count += 1\n",
    "    \n",
    "    def addPublication(self, title, journal, year):\n",
    "        publication = {\n",
    "            'title': title,\n",
    "            'journal': journal,\n",
    "            'year': year\n",
    "        }\n",
    "        self.publications.append(publication)\n",
    "        print(f\"Added publication: {title}\")\n",
    "    \n",
    "    def addAdvisor(self, advisor):\n",
    "        self.advisors.append(advisor)\n",
    "        print(f\"Added {advisor} as an advisor\")\n",
    "    \n",
    "    def presentResearch(self):\n",
    "        print(f\"Presenting research on {self.researchFocus}\")\n",
    "        if self.publications:\n",
    "            print(\"Referenced publications:\")\n",
    "            for pub in self.publications:\n",
    "                print(f\"- {pub['title']} ({pub['year']})\")\n",
    "    \n",
    "    def __str__(self):\n",
    "         return f\"{self.firstName} {self.lastName} (ID: {self.participantID}) is an advanced participant at {self.institutionName} researching {self.researchFocus}\""
   ]
  },
  {
   "cell_type": "code",
   "execution_count": 9,
   "metadata": {},
   "outputs": [
    {
     "name": "stdout",
     "output_type": "stream",
     "text": [
      "Added Dr. Emily Parker as an advisor\n",
      "Added publication: Machine Learning Applications\n",
      "Taylor has enrolled in Advanced Research Methods.\n",
      "Presenting research on Artificial Intelligence\n",
      "Referenced publications:\n",
      "- Machine Learning Applications (2024)\n",
      "Hello, I'm Taylor Rivera (ID: 4) from Research University. I'm currently taking Advanced Research Methods.\n",
      "\n",
      "Regular participants: 4\n",
      "Advanced participants: 1\n"
     ]
    }
   ],
   "source": [
    "# Testing AdvancedParticipant\n",
    "advanced1 = AdvancedParticipant('Research University', 'Taylor', 'Rivera', 'Artificial Intelligence')\n",
    "advanced1.addAdvisor('Dr. Emily Parker')\n",
    "advanced1.addPublication('Machine Learning Applications', 'Journal of AI', 2024)\n",
    "advanced1.enrollInCourse('Advanced Research Methods')\n",
    "advanced1.presentResearch()\n",
    "advanced1.introduceYourself()\n",
    "\n",
    "print(f\"\\nRegular participants: {AcademicParticipant.participant_count}\")\n",
    "print(f\"Advanced participants: {AdvancedParticipant.advanced_count}\")"
   ]
  },
  {
   "cell_type": "code",
   "execution_count": 10,
   "metadata": {},
   "outputs": [],
   "source": [
    "class AcademicParticipant:\n",
    "    \n",
    "    participant_count = 0\n",
    "    all_participants = []\n",
    "    \n",
    "    def __init__(self, institutionName, firstName, lastName):\n",
    "        self.institutionName = institutionName\n",
    "        self.firstName = firstName\n",
    "        self.lastName = lastName\n",
    "        self.courses = []\n",
    "        self.specialization = None\n",
    "        \n",
    "        # Increment count and assign ID\n",
    "        AcademicParticipant.participant_count += 1\n",
    "        self.participantID = AcademicParticipant.participant_count\n",
    "        \n",
    "        # Add to class-wide list for iteration\n",
    "        AcademicParticipant.all_participants.append(self)\n",
    "    \n",
    "    def modifyInstitution(self, newInstitutionName):\n",
    "        self.institutionName = newInstitutionName\n",
    "        return self\n",
    "    \n",
    "    def modifyFirstName(self, newFirstName):\n",
    "        self.firstName = newFirstName\n",
    "        return self\n",
    "    \n",
    "    def modifyLastName(self, newLastName):\n",
    "        self.lastName = newLastName\n",
    "        return self\n",
    "    \n",
    "    def declareSpecialization(self, specialization):\n",
    "        self.specialization = specialization\n",
    "        print(f\"{self.firstName} has declared {specialization} as their specialization.\")\n",
    "    \n",
    "    def enrollInCourse(self, course):\n",
    "        self.courses.append(course)\n",
    "        print(f\"{self.firstName} has enrolled in {course}.\")\n",
    "    \n",
    "    def introduceYourself(self):\n",
    "        introduction = f\"Hello, I'm {self.firstName} {self.lastName} (ID: {self.participantID}) from {self.institutionName}.\"\n",
    "        if self.specialization:\n",
    "            introduction += f\" I'm specializing in {self.specialization}.\"\n",
    "        if self.courses:\n",
    "            introduction += f\" I'm currently taking {', '.join(self.courses)}.\"\n",
    "        print(introduction)\n",
    "    \n",
    "    def __str__(self):\n",
    "        return f\"{self.firstName} {self.lastName} (ID: {self.participantID}) participates at {self.institutionName}\"\n",
    "    \n",
    "    # Challenge 4: Iterator implementation\n",
    "    @classmethod\n",
    "    def __iter__(cls):\n",
    "        return iter(cls.all_participants)"
   ]
  },
  {
   "cell_type": "code",
   "execution_count": 12,
   "metadata": {},
   "outputs": [
    {
     "name": "stdout",
     "output_type": "stream",
     "text": [
      "All participants:\n",
      "- Morgan Chen (ID: 1) participates at Metropolitan University\n",
      "- Alex Johnson (ID: 2) participates at Metropolitan University\n",
      "- Jordan Smith (ID: 3) participates at Technology Institute\n"
     ]
    }
   ],
   "source": [
    "# Reset for clean testing\n",
    "AcademicParticipant.participant_count = 0\n",
    "AcademicParticipant.all_participants = []\n",
    "\n",
    "# Create participants\n",
    "participant1 = AcademicParticipant('Metropolitan University', 'Morgan', 'Chen')\n",
    "participant2 = AcademicParticipant('Metropolitan University', 'Alex', 'Johnson')\n",
    "participant3 = AcademicParticipant('Technology Institute', 'Jordan', 'Smith')\n",
    "\n",
    "# Test iteration - use the all_participants list\n",
    "print(\"All participants:\")\n",
    "for participant in AcademicParticipant.all_participants:\n",
    "    print(f\"- {participant}\")"
   ]
  },
  {
   "cell_type": "code",
   "execution_count": null,
   "metadata": {},
   "outputs": [],
   "source": []
  }
 ],
 "metadata": {
  "kernelspec": {
   "display_name": "Python 3",
   "language": "python",
   "name": "python3"
  },
  "language_info": {
   "codemirror_mode": {
    "name": "ipython",
    "version": 3
   },
   "file_extension": ".py",
   "mimetype": "text/x-python",
   "name": "python",
   "nbconvert_exporter": "python",
   "pygments_lexer": "ipython3",
   "version": "3.8.5"
  }
 },
 "nbformat": 4,
 "nbformat_minor": 4
}
