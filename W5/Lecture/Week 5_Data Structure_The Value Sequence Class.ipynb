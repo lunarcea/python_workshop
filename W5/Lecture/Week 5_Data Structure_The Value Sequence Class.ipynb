{
 "cells": [
  {
   "cell_type": "markdown",
   "metadata": {},
   "source": [
    "# Understanding Python Data Structures: The ValueSequence Class\n",
    "\n",
    "This notebook explores how to create a custom data structure in Python using classes. We'll build a versatile container for numerical data that provides various mathematical operations and integrates seamlessly with Python's built-in functionality.\n",
    "\n",
    "## Core Concepts We'll Cover\n",
    "* Creating a custom class for numerical data\n",
    "* Implementing intuitive data manipulation methods\n",
    "* Integrating with Python's special methods\n",
    "* Practical testing and usage examples"
   ]
  },
  {
   "cell_type": "code",
   "execution_count": 1,
   "metadata": {},
   "outputs": [],
   "source": [
    "class ValueSequence:\n",
    "    \n",
    "    # Constructor method\n",
    "    def __init__(self, *input_values):\n",
    "        # Initialize our internal storage\n",
    "        self.data_points = []\n",
    "        \n",
    "        # If values were provided, add them to our sequence\n",
    "        if input_values:\n",
    "            for value in input_values:\n",
    "                self.append(value)\n",
    "    \n",
    "    # Method to add new values to our sequence\n",
    "    def append(self, *input_values):\n",
    "        # Return early if no values provided\n",
    "        if not input_values:\n",
    "            return\n",
    "        \n",
    "        # Add each value to our internal list\n",
    "        for value in input_values:\n",
    "            self.data_points.append(value)\n",
    "        \n",
    "        # Return self for method chaining\n",
    "        return self\n",
    "    \n",
    "    # Calculate the sum of all values\n",
    "    def sum_values(self):\n",
    "        return sum(self.data_points)\n",
    "    \n",
    "    # Calculate the average of all values\n",
    "    def average(self):\n",
    "        if not self.data_points:\n",
    "            raise ValueError(\"Cannot calculate average of empty sequence\")\n",
    "        return self.sum_values() / len(self.data_points)\n",
    "    \n",
    "    # Remove all values from the sequence\n",
    "    def clear_all(self):\n",
    "        self.data_points = []\n",
    "        return self.data_points\n",
    "    \n",
    "    # Merge another ValueSequence into this one\n",
    "    def merge(self, *other_sequences):\n",
    "        for sequence in other_sequences:\n",
    "            self.data_points = self.data_points + sequence.data_points\n",
    "        return self.data_points\n",
    "    \n",
    "    # --- Special methods for Python integration ---\n",
    "    \n",
    "    # Support for the len() function\n",
    "    def __len__(self):\n",
    "        return len(self.data_points)\n",
    "    \n",
    "    # Support for the + operator\n",
    "    def __add__(self, other_sequence):\n",
    "        return self.data_points + other_sequence.data_points\n",
    "    \n",
    "    # Support for indexing with [] notation\n",
    "    def __getitem__(self, index):\n",
    "        if index is None:\n",
    "            return self.data_points\n",
    "        return self.data_points[index]\n",
    "    \n",
    "    # Support for assignment with [] notation\n",
    "    def __setitem__(self, index, value):\n",
    "        if index is None:\n",
    "            return self.data_points\n",
    "        \n",
    "        # Handle potential index errors gracefully\n",
    "        try:\n",
    "            self.data_points[index] = value\n",
    "        except IndexError as e:\n",
    "            print(f\"Index error: {e}\")\n",
    "        \n",
    "        return self.data_points"
   ]
  },
  {
   "cell_type": "markdown",
   "metadata": {},
   "source": [
    "# Testing Our ValueSequence Implementation\n",
    "\n",
    "To ensure our ValueSequence class works as expected, we'll create instances with \n",
    "different initialization approaches and test the various methods we've implemented.\n",
    "\n",
    "First, let's create two instances: one empty and one with initial values."
   ]
  },
  {
   "cell_type": "code",
   "execution_count": 2,
   "metadata": {},
   "outputs": [
    {
     "name": "stdout",
     "output_type": "stream",
     "text": [
      "Initial state:\n",
      "sequence1: []\n",
      "sequence2: [5, 10, 15, 20, 25]\n"
     ]
    }
   ],
   "source": [
    "# Create two test instances\n",
    "sequence1 = ValueSequence()\n",
    "sequence2 = ValueSequence(5, 10, 15, 20, 25)\n",
    "\n",
    "# Display initial state\n",
    "print(\"Initial state:\")\n",
    "print(f\"sequence1: {sequence1.data_points}\")\n",
    "print(f\"sequence2: {sequence2.data_points}\")"
   ]
  },
  {
   "cell_type": "markdown",
   "metadata": {},
   "source": [
    "# Testing ValueSequence Methods\n",
    "\n",
    "Now let's test our various methods to ensure they work correctly:\n",
    "1. Adding values\n",
    "2. Calculating sum and average\n",
    "3. Merging sequences\n",
    "4. Clearing values"
   ]
  },
  {
   "cell_type": "code",
   "execution_count": 3,
   "metadata": {},
   "outputs": [
    {
     "name": "stdout",
     "output_type": "stream",
     "text": [
      "\n",
      "After adding values:\n",
      "sequence1: [30, 35, 40, 45, 50]\n",
      "Sum of sequence1: 200\n",
      "\n",
      "Sequence statistics and merging:\n",
      "Average of sequence2: 15.0\n",
      "sequence2 after merging with sequence1: [5, 10, 15, 20, 25, 30, 35, 40, 45, 50]\n",
      "\n",
      "Clearing sequence:\n",
      "sequence1 after clearing: []\n"
     ]
    }
   ],
   "source": [
    "# Test adding values and calculating sum\n",
    "sequence1.append(30, 35, 40, 45, 50)\n",
    "total = sequence1.sum_values()\n",
    "\n",
    "print(\"\\nAfter adding values:\")\n",
    "print(f\"sequence1: {sequence1.data_points}\")\n",
    "print(f\"Sum of sequence1: {total}\")\n",
    "\n",
    "# Test calculating average and merging sequences\n",
    "print(\"\\nSequence statistics and merging:\")\n",
    "print(f\"Average of sequence2: {sequence2.average()}\")\n",
    "\n",
    "sequence2.merge(sequence1)\n",
    "print(f\"sequence2 after merging with sequence1: {sequence2.data_points}\")\n",
    "\n",
    "# Test clearing a sequence\n",
    "print(\"\\nClearing sequence:\")\n",
    "sequence1.clear_all()\n",
    "print(f\"sequence1 after clearing: {sequence1.data_points}\")"
   ]
  },
  {
   "cell_type": "markdown",
   "metadata": {},
   "source": [
    "# Testing Special (Magic) Methods\n",
    "\n",
    "Python's \"magic methods\" allow our custom class to integrate with Python's built-in\n",
    "functionality. Let's test some of these special methods:"
   ]
  },
  {
   "cell_type": "code",
   "execution_count": 4,
   "metadata": {},
   "outputs": [
    {
     "name": "stdout",
     "output_type": "stream",
     "text": [
      "Length of seq_a: 3\n",
      "Result of seq_a + seq_b: [1, 2, 3, 4, 5, 6]\n",
      "seq_a[1]: 2\n",
      "seq_a after setting index 0 to 10: [10, 2, 3]\n",
      "Index error: list assignment index out of range\n",
      "seq_a after attempted invalid assignment: [10, 2, 3]\n"
     ]
    }
   ],
   "source": [
    "# Create new instances for testing\n",
    "seq_a = ValueSequence(1, 2, 3)\n",
    "seq_b = ValueSequence(4, 5, 6)\n",
    "\n",
    "# Test __len__ method\n",
    "print(f\"Length of seq_a: {len(seq_a)}\")\n",
    "\n",
    "# Test __add__ method\n",
    "combined = seq_a + seq_b\n",
    "print(f\"Result of seq_a + seq_b: {combined}\")\n",
    "\n",
    "# Test __getitem__ method\n",
    "print(f\"seq_a[1]: {seq_a[1]}\")\n",
    "\n",
    "# Test __setitem__ method\n",
    "seq_a[0] = 10\n",
    "print(f\"seq_a after setting index 0 to 10: {seq_a.data_points}\")\n",
    "\n",
    "# Test error handling in __setitem__\n",
    "seq_a[10] = 100  # This should print an error but not crash\n",
    "print(f\"seq_a after attempted invalid assignment: {seq_a.data_points}\")"
   ]
  },
  {
   "cell_type": "markdown",
   "metadata": {},
   "source": [
    "# Conclusion: Benefits of Custom Data Structures\n",
    "\n",
    "Creating custom data structures like our ValueSequence offers several advantages:\n",
    "\n",
    "1. **Encapsulation**: Data and related operations are bundled together\n",
    "2. **Abstraction**: Complex implementation details are hidden behind a simple interface\n",
    "3. **Reusability**: Once defined, these structures can be used across your project\n",
    "4. **Integration**: By implementing special methods, our class behaves like built-in types\n",
    "\n",
    "This approach shows how object-oriented programming can improve code organization\n",
    "and readability while providing powerful functionality tailored to specific needs.\n",
    "\n",
    "Custom data structures are particularly useful when built-in types don't quite fit\n",
    "your specific requirements or when you find yourself repeatedly performing the\n",
    "same set of operations on collections of data."
   ]
  },
  {
   "cell_type": "code",
   "execution_count": null,
   "metadata": {},
   "outputs": [],
   "source": []
  }
 ],
 "metadata": {
  "kernelspec": {
   "display_name": "Python 3",
   "language": "python",
   "name": "python3"
  },
  "language_info": {
   "codemirror_mode": {
    "name": "ipython",
    "version": 3
   },
   "file_extension": ".py",
   "mimetype": "text/x-python",
   "name": "python",
   "nbconvert_exporter": "python",
   "pygments_lexer": "ipython3",
   "version": "3.8.5"
  }
 },
 "nbformat": 4,
 "nbformat_minor": 4
}
