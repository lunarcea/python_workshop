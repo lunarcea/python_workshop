{
 "cells": [
  {
   "cell_type": "markdown",
   "metadata": {},
   "source": [
    "# Understanding Sequence Traversal in Python\n",
    "This notebook explores the core concepts of sequence traversal in Python programming.\n",
    "\n",
    "* What are Traversable Objects?\n",
    "* What is a Sequence Navigator?\n",
    "* Understanding Loop Structures\n",
    "<hr>\n",
    "\n",
    "## What are Traversable Objects?\n",
    "*In simple terms:*\n",
    "Traversable objects are data structures that can deliver their elements one at a time when processed in a loop.\n",
    "\n",
    "Python features several built-in traversable objects including `lists`, `tuples`, `sets`, `dictionaries`, and `strings`.\n",
    "\n",
    "Let's examine what makes these objects 'traversable' with an example:"
   ]
  },
  {
   "cell_type": "code",
   "execution_count": 8,
   "metadata": {},
   "outputs": [],
   "source": [
    "# Create a sample list to demonstrate iteration\n",
    "sample_names = ['alex', 'taylor', 'morgan']"
   ]
  },
  {
   "cell_type": "code",
   "execution_count": 10,
   "metadata": {},
   "outputs": [
    {
     "name": "stdout",
     "output_type": "stream",
     "text": [
      "['alex', 'taylor', 'morgan']\n"
     ]
    }
   ],
   "source": [
    "# Output the entire list at once\n",
    "print(sample_names)"
   ]
  },
  {
   "cell_type": "code",
   "execution_count": 12,
   "metadata": {},
   "outputs": [
    {
     "name": "stdout",
     "output_type": "stream",
     "text": [
      "alex\n",
      "taylor\n",
      "morgan\n"
     ]
    }
   ],
   "source": [
    "# Access each element individually using a loop\n",
    "for name in sample_names:\n",
    "    print(name)"
   ]
  },
  {
   "cell_type": "markdown",
   "metadata": {},
   "source": [
    "**How does Python enable looping through objects?**\n",
    "\n",
    "From a technical perspective, an iterable object implements a special method called `__iter__()` that returns an `iterator` object (more details below). Any object with this method can be looped over.\n",
    "\n",
    "All built-in collection types (lists, tuples, sets, dictionaries) and strings implement this method. We can verify this using the `dir()` function to inspect available methods."
   ]
  },
  {
   "cell_type": "code",
   "execution_count": 13,
   "metadata": {},
   "outputs": [
    {
     "data": {
      "text/plain": [
       "['__add__',\n",
       " '__class__',\n",
       " '__contains__',\n",
       " '__delattr__',\n",
       " '__delitem__',\n",
       " '__dir__',\n",
       " '__doc__',\n",
       " '__eq__',\n",
       " '__format__',\n",
       " '__ge__',\n",
       " '__getattribute__',\n",
       " '__getitem__',\n",
       " '__gt__',\n",
       " '__hash__',\n",
       " '__iadd__',\n",
       " '__imul__',\n",
       " '__init__',\n",
       " '__init_subclass__',\n",
       " '__iter__',\n",
       " '__le__',\n",
       " '__len__',\n",
       " '__lt__',\n",
       " '__mul__',\n",
       " '__ne__',\n",
       " '__new__',\n",
       " '__reduce__',\n",
       " '__reduce_ex__',\n",
       " '__repr__',\n",
       " '__reversed__',\n",
       " '__rmul__',\n",
       " '__setattr__',\n",
       " '__setitem__',\n",
       " '__sizeof__',\n",
       " '__str__',\n",
       " '__subclasshook__',\n",
       " 'append',\n",
       " 'clear',\n",
       " 'copy',\n",
       " 'count',\n",
       " 'extend',\n",
       " 'index',\n",
       " 'insert',\n",
       " 'pop',\n",
       " 'remove',\n",
       " 'reverse',\n",
       " 'sort']"
      ]
     },
     "execution_count": 13,
     "metadata": {},
     "output_type": "execute_result"
    }
   ],
   "source": [
    "# View all available methods on our list object\n",
    "dir(sample_names)"
   ]
  },
  {
   "cell_type": "code",
   "execution_count": 14,
   "metadata": {},
   "outputs": [
    {
     "name": "stdout",
     "output_type": "stream",
     "text": [
      "P\n",
      "y\n",
      "t\n",
      "h\n",
      "o\n",
      "n\n"
     ]
    }
   ],
   "source": [
    "# Demonstrate that strings are also iterable\n",
    "programming_language = \"Python\"\n",
    "\n",
    "for character in programming_language:\n",
    "    print(character)"
   ]
  },
  {
   "cell_type": "code",
   "execution_count": 15,
   "metadata": {},
   "outputs": [
    {
     "data": {
      "text/plain": [
       "['__add__',\n",
       " '__class__',\n",
       " '__contains__',\n",
       " '__delattr__',\n",
       " '__dir__',\n",
       " '__doc__',\n",
       " '__eq__',\n",
       " '__format__',\n",
       " '__ge__',\n",
       " '__getattribute__',\n",
       " '__getitem__',\n",
       " '__getnewargs__',\n",
       " '__gt__',\n",
       " '__hash__',\n",
       " '__init__',\n",
       " '__init_subclass__',\n",
       " '__iter__',\n",
       " '__le__',\n",
       " '__len__',\n",
       " '__lt__',\n",
       " '__mod__',\n",
       " '__mul__',\n",
       " '__ne__',\n",
       " '__new__',\n",
       " '__reduce__',\n",
       " '__reduce_ex__',\n",
       " '__repr__',\n",
       " '__rmod__',\n",
       " '__rmul__',\n",
       " '__setattr__',\n",
       " '__sizeof__',\n",
       " '__str__',\n",
       " '__subclasshook__',\n",
       " 'capitalize',\n",
       " 'casefold',\n",
       " 'center',\n",
       " 'count',\n",
       " 'encode',\n",
       " 'endswith',\n",
       " 'expandtabs',\n",
       " 'find',\n",
       " 'format',\n",
       " 'format_map',\n",
       " 'index',\n",
       " 'isalnum',\n",
       " 'isalpha',\n",
       " 'isascii',\n",
       " 'isdecimal',\n",
       " 'isdigit',\n",
       " 'isidentifier',\n",
       " 'islower',\n",
       " 'isnumeric',\n",
       " 'isprintable',\n",
       " 'isspace',\n",
       " 'istitle',\n",
       " 'isupper',\n",
       " 'join',\n",
       " 'ljust',\n",
       " 'lower',\n",
       " 'lstrip',\n",
       " 'maketrans',\n",
       " 'partition',\n",
       " 'replace',\n",
       " 'rfind',\n",
       " 'rindex',\n",
       " 'rjust',\n",
       " 'rpartition',\n",
       " 'rsplit',\n",
       " 'rstrip',\n",
       " 'split',\n",
       " 'splitlines',\n",
       " 'startswith',\n",
       " 'strip',\n",
       " 'swapcase',\n",
       " 'title',\n",
       " 'translate',\n",
       " 'upper',\n",
       " 'zfill']"
      ]
     },
     "execution_count": 15,
     "metadata": {},
     "output_type": "execute_result"
    }
   ],
   "source": [
    "# Confirm __iter__ exists for strings as well\n",
    "dir(programming_language)"
   ]
  },
  {
   "cell_type": "markdown",
   "metadata": {},
   "source": [
    "## Iterator Objects\n",
    "\n",
    "When we use a for loop on an iterable object, Python calls the `__iter__()` method behind the scenes. This method returns an `iterator`.\n",
    "\n",
    "**Definition:**  \n",
    "An **iterator** is an object that manages the state of iteration. It keeps track of which element comes next during iteration.\n",
    "\n",
    "**Technical implementation:**  \n",
    "An iterator has both an `__iter__()` method and a `__next__()` method. The `__next__()` method retrieves the next value in the sequence.\n",
    "\n",
    "Key points:\n",
    "* `__iter__()` returns the iterator object  \n",
    "* `__next__()` delivers the next value using this iterator\n",
    "\n",
    "**Important distinction:** Lists, strings, and other iterables are NOT iterators (they lack the `__next__()` method). Let's confirm this:"
   ]
  },
  {
   "cell_type": "code",
   "execution_count": 16,
   "metadata": {},
   "outputs": [
    {
     "name": "stdout",
     "output_type": "stream",
     "text": [
      "Error: 'list' object is not an iterator\n"
     ]
    }
   ],
   "source": [
    "# This will raise an error - lists are iterables but not iterators\n",
    "try:\n",
    "    next(sample_names)\n",
    "except TypeError as e:\n",
    "    print(f\"Error: {e}\")"
   ]
  },
  {
   "cell_type": "code",
   "execution_count": 17,
   "metadata": {},
   "outputs": [
    {
     "name": "stdout",
     "output_type": "stream",
     "text": [
      "<list_iterator object at 0x000002EA18E5B1C0>\n"
     ]
    }
   ],
   "source": [
    "# Create an iterator from our list\n",
    "names_iterator = iter(sample_names)\n",
    "print(names_iterator)"
   ]
  },
  {
   "cell_type": "code",
   "execution_count": 18,
   "metadata": {},
   "outputs": [
    {
     "name": "stdout",
     "output_type": "stream",
     "text": [
      "<list_iterator object at 0x000002EA18B9DA00>\n"
     ]
    }
   ],
   "source": [
    "# The longer way to create an iterator \n",
    "names_iterator2 = sample_names.__iter__()\n",
    "print(names_iterator2)"
   ]
  },
  {
   "cell_type": "code",
   "execution_count": 19,
   "metadata": {},
   "outputs": [
    {
     "data": {
      "text/plain": [
       "['__class__',\n",
       " '__delattr__',\n",
       " '__dir__',\n",
       " '__doc__',\n",
       " '__eq__',\n",
       " '__format__',\n",
       " '__ge__',\n",
       " '__getattribute__',\n",
       " '__gt__',\n",
       " '__hash__',\n",
       " '__init__',\n",
       " '__init_subclass__',\n",
       " '__iter__',\n",
       " '__le__',\n",
       " '__length_hint__',\n",
       " '__lt__',\n",
       " '__ne__',\n",
       " '__new__',\n",
       " '__next__',\n",
       " '__reduce__',\n",
       " '__reduce_ex__',\n",
       " '__repr__',\n",
       " '__setattr__',\n",
       " '__setstate__',\n",
       " '__sizeof__',\n",
       " '__str__',\n",
       " '__subclasshook__']"
      ]
     },
     "execution_count": 19,
     "metadata": {},
     "output_type": "execute_result"
    }
   ],
   "source": [
    "# Examine the methods of our iterator object\n",
    "# Note both __iter__ and __next__ methods\n",
    "dir(names_iterator)"
   ]
  },
  {
   "cell_type": "code",
   "execution_count": 20,
   "metadata": {},
   "outputs": [
    {
     "name": "stdout",
     "output_type": "stream",
     "text": [
      "alex\n"
     ]
    }
   ],
   "source": [
    "# Get the first element using the iterator\n",
    "print(next(names_iterator))"
   ]
  },
  {
   "cell_type": "code",
   "execution_count": 21,
   "metadata": {},
   "outputs": [
    {
     "name": "stdout",
     "output_type": "stream",
     "text": [
      "taylor\n"
     ]
    }
   ],
   "source": [
    "# Get the second element - the iterator remembers its position\n",
    "print(next(names_iterator))"
   ]
  },
  {
   "cell_type": "code",
   "execution_count": 22,
   "metadata": {},
   "outputs": [
    {
     "name": "stdout",
     "output_type": "stream",
     "text": [
      "morgan\n"
     ]
    }
   ],
   "source": [
    "# Get the third element\n",
    "print(next(names_iterator))"
   ]
  },
  {
   "cell_type": "code",
   "execution_count": 23,
   "metadata": {},
   "outputs": [
    {
     "name": "stdout",
     "output_type": "stream",
     "text": [
      "No more elements available!\n"
     ]
    }
   ],
   "source": [
    "# This will raise StopIteration since we've exhausted the iterator\n",
    "try:\n",
    "    print(next(names_iterator))\n",
    "except StopIteration:\n",
    "    print(\"No more elements available!\")"
   ]
  },
  {
   "cell_type": "markdown",
   "metadata": {},
   "source": [
    "## Understanding For Loops\n",
    "\n",
    "Now we can see how for loops work internally:\n",
    "1. When we use a `for` loop on an iterable → Python calls `iter()` method\n",
    "2. This returns an iterator → which Python then uses to call `next()` repeatedly\n",
    "3. The for loop automatically handles the StopIteration exception when elements are exhausted\n",
    "\n",
    "Note: Iteration is one-directional. The `next()` method only moves forward until no values remain. There is no built-in \"previous\" method. To start iteration again, you must create a new iterator."
   ]
  },
  {
   "cell_type": "code",
   "execution_count": 24,
   "metadata": {},
   "outputs": [
    {
     "name": "stdout",
     "output_type": "stream",
     "text": [
      "alex\n",
      "taylor\n",
      "morgan\n"
     ]
    }
   ],
   "source": [
    "# Simple for loop\n",
    "for name in sample_names:\n",
    "    print(name)"
   ]
  },
  {
   "cell_type": "code",
   "execution_count": 25,
   "metadata": {},
   "outputs": [
    {
     "name": "stdout",
     "output_type": "stream",
     "text": [
      "alex\n",
      "taylor\n",
      "morgan\n"
     ]
    }
   ],
   "source": [
    "# Simulate the internal working of a for loop manually\n",
    "# This demonstrates what Python does behind the scenes\n",
    "\n",
    "# 1. Create iterator\n",
    "fresh_iterator = iter(sample_names)\n",
    "\n",
    "# 2. Loop through elements with exception handling\n",
    "while True:\n",
    "    try:\n",
    "        element = next(fresh_iterator)\n",
    "        print(element)\n",
    "    # 3. Stop when no more elements\n",
    "    except StopIteration:\n",
    "        break"
   ]
  },
  {
   "cell_type": "markdown",
   "metadata": {},
   "source": [
    "## Key Concepts Review\n",
    "\n",
    "* An **iterable** is an object you can loop over. Technically, it implements `__iter__()` which returns an iterator.\n",
    "\n",
    "* An **iterator** is a stateful object used to traverse an iterable. It implements both `__iter__()` and `__next__()` methods.\n",
    "\n",
    "* Every **iterator** is also an **iterable** (it has `__iter__()`), but not every **iterable** is an **iterator** (many lack `__next__()`).\n",
    "\n",
    "* A **for loop** provides a convenient way to iterate over any iterable object, handling all the iteration mechanics automatically."
   ]
  },
  {
   "cell_type": "code",
   "execution_count": null,
   "metadata": {},
   "outputs": [],
   "source": []
  }
 ],
 "metadata": {
  "kernelspec": {
   "display_name": "Python 3",
   "language": "python",
   "name": "python3"
  },
  "language_info": {
   "codemirror_mode": {
    "name": "ipython",
    "version": 3
   },
   "file_extension": ".py",
   "mimetype": "text/x-python",
   "name": "python",
   "nbconvert_exporter": "python",
   "pygments_lexer": "ipython3",
   "version": "3.8.5"
  }
 },
 "nbformat": 4,
 "nbformat_minor": 4
}
