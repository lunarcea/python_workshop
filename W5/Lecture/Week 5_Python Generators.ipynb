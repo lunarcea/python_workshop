{
 "cells": [
  {
   "cell_type": "markdown",
   "metadata": {},
   "source": [
    "# Python Generators\n",
    "\n",
    "## What are Generators?\n",
    "\n",
    "Generators provide an elegant way to implement iterators without the complexity of creating classes with `__iter__()` and `__next__()` methods.\n",
    "\n",
    "## Benefits of Generators:\n",
    "\n",
    "1. Memory efficiency - values are generated on-demand\n",
    "2. CPU efficiency - processing happens only when needed\n",
    "3. Cleaner code with fewer variables and data structures \n",
    "4. More readable and maintainable code\n",
    "5. Less boilerplate compared to iterator classes\n",
    "\n",
    "## Identifying Generator Opportunities\n",
    "\n",
    "Look for patterns in your code where you:\n",
    "- Build a list incrementally in a loop\n",
    "- Return the entire list at the end\n",
    "\n",
    "These patterns can often be replaced with generators for better efficiency."
   ]
  },
  {
   "cell_type": "code",
   "execution_count": 1,
   "metadata": {},
   "outputs": [
    {
     "name": "stdout",
     "output_type": "stream",
     "text": [
      "1\n",
      "2\n",
      "3\n"
     ]
    }
   ],
   "source": [
    "# Basic generator function example\n",
    "def simple_counter():\n",
    "    yield 1\n",
    "    yield 2\n",
    "    yield 3\n",
    "\n",
    "# Using the generator with next()\n",
    "counter = simple_counter()\n",
    "print(next(counter))  # 1\n",
    "print(next(counter))  # 2\n",
    "print(next(counter))  # 3"
   ]
  },
  {
   "cell_type": "markdown",
   "metadata": {},
   "source": [
    "## Yield vs Return\n",
    "\n",
    "- `return` terminates a function completely\n",
    "- `yield` pauses the function and maintains its state\n",
    "- When called again, a generator resumes right after the last yield\n",
    "- This enables producing values progressively rather than all at once\n",
    "- Perfect for processing large sequences without loading everything into memory"
   ]
  },
  {
   "cell_type": "code",
   "execution_count": 2,
   "metadata": {},
   "outputs": [
    {
     "name": "stdout",
     "output_type": "stream",
     "text": [
      "0\n",
      "5\n",
      "10\n",
      "15\n",
      "20\n",
      "25\n"
     ]
    }
   ],
   "source": [
    "def counting_by_fives():\n",
    "    \"\"\"Infinite generator that counts by 5\"\"\"\n",
    "    num = 0\n",
    "    while True:\n",
    "        yield num\n",
    "        num += 5\n",
    "\n",
    "# Manually iterate a few times\n",
    "counter = counting_by_fives()\n",
    "for _ in range(6):\n",
    "    print(next(counter))"
   ]
  },
  {
   "cell_type": "code",
   "execution_count": 3,
   "metadata": {},
   "outputs": [
    {
     "name": "stdout",
     "output_type": "stream",
     "text": [
      "1\n",
      "6\n",
      "11\n",
      "16\n",
      "21\n",
      "26\n"
     ]
    }
   ],
   "source": [
    "def number_sequence(max_value):\n",
    "    \"\"\"Finite generator that counts up to a maximum value\"\"\"\n",
    "    num = 1\n",
    "    while num <= max_value:\n",
    "        yield num\n",
    "        num += 5\n",
    "\n",
    "# Iterate through the complete sequence\n",
    "for value in number_sequence(30):\n",
    "    print(value)"
   ]
  },
  {
   "cell_type": "code",
   "execution_count": 4,
   "metadata": {},
   "outputs": [
    {
     "name": "stdout",
     "output_type": "stream",
     "text": [
      "1\n",
      "2\n",
      "4\n",
      "8\n",
      "16\n",
      "32\n",
      "64\n",
      "128\n",
      "256\n",
      "512\n",
      "1024\n"
     ]
    }
   ],
   "source": [
    "def powers_of_two(max_exponent):\n",
    "    \"\"\"Generate powers of 2 from 2^0 up to 2^max_exponent\"\"\"\n",
    "    exponent = 0\n",
    "    while exponent <= max_exponent:\n",
    "        yield 2 ** exponent\n",
    "        exponent += 1\n",
    "\n",
    "# Display all powers of 2 up to 2^10\n",
    "for value in powers_of_two(10):\n",
    "    print(value)"
   ]
  },
  {
   "cell_type": "code",
   "execution_count": 5,
   "metadata": {},
   "outputs": [
    {
     "name": "stdout",
     "output_type": "stream",
     "text": [
      "5\n",
      "6\n",
      "7\n",
      "8\n",
      "9\n",
      "10\n"
     ]
    }
   ],
   "source": [
    "def custom_range(start, end):\n",
    "    \"\"\"Create a sequence from start to end (inclusive)\"\"\"\n",
    "    current = start\n",
    "    while current <= end:\n",
    "        yield current\n",
    "        current += 1\n",
    "\n",
    "# Use our custom range generator\n",
    "for num in custom_range(5, 10):\n",
    "    print(num)"
   ]
  },
  {
   "cell_type": "code",
   "execution_count": 6,
   "metadata": {},
   "outputs": [
    {
     "name": "stdout",
     "output_type": "stream",
     "text": [
      "Generators\n",
      "make\n",
      "iteration\n",
      "elegant\n",
      "and\n",
      "efficient\n"
     ]
    }
   ],
   "source": [
    "def word_generator(text):\n",
    "    \"\"\"Generate each word in a text\"\"\"\n",
    "    for word in text.split():\n",
    "        yield word\n",
    "\n",
    "# Process each word in a sentence\n",
    "sentence = \"Generators make iteration elegant and efficient\"\n",
    "for word in word_generator(sentence):\n",
    "    print(word)"
   ]
  },
  {
   "cell_type": "code",
   "execution_count": 7,
   "metadata": {},
   "outputs": [
    {
     "name": "stdout",
     "output_type": "stream",
     "text": [
      "lufrewop era srotareneg nohtyP\n"
     ]
    }
   ],
   "source": [
    "def reverse_string_generator(text):\n",
    "    \"\"\"Generate characters from a string in reverse order\"\"\"\n",
    "    for i in range(len(text) - 1, -1, -1):\n",
    "        yield text[i]\n",
    "\n",
    "# Reverse a string character by character\n",
    "message = \"Python generators are powerful\"\n",
    "for char in reverse_string_generator(message):\n",
    "    print(char, end='')\n",
    "print()  # Add a newline at the end"
   ]
  },
  {
   "cell_type": "markdown",
   "metadata": {},
   "source": [
    "# Generator Expressions\n",
    "\n",
    "Generator expressions provide a concise way to create generators with syntax similar to list comprehensions:\n",
    "\n",
    "## List Comprehension vs Generator Expression:\n",
    "\n",
    "```python\n",
    "# List comprehension (stores all values in memory)\n",
    "[x*x for x in range(10)]\n",
    "\n",
    "# Generator expression (computes values on demand)\n",
    "(x*x for x in range(10))"
   ]
  },
  {
   "cell_type": "code",
   "execution_count": 9,
   "metadata": {},
   "outputs": [
    {
     "name": "stdout",
     "output_type": "stream",
     "text": [
      "140\n",
      "0\n",
      "8\n",
      "64\n",
      "216\n",
      "512\n",
      "esicnoc era snoisserpxe rotareneG\n"
     ]
    }
   ],
   "source": [
    "# Basic generator expression\n",
    "squares = (x*x for x in range(8))\n",
    "print(sum(squares))  # Sum of squares from 0 to 7\n",
    "\n",
    "# Generator expression with condition\n",
    "even_cubes = (x**3 for x in range(10) if x % 2 == 0)\n",
    "for cube in even_cubes:\n",
    "    print(cube)\n",
    "\n",
    "# String processing with generator expression\n",
    "text = \"Generator expressions are concise\"\n",
    "reversed_chars = (text[i] for i in range(len(text)-1, -1, -1))\n",
    "print(''.join(reversed_chars))"
   ]
  },
  {
   "cell_type": "code",
   "execution_count": null,
   "metadata": {},
   "outputs": [],
   "source": []
  }
 ],
 "metadata": {
  "kernelspec": {
   "display_name": "Python 3",
   "language": "python",
   "name": "python3"
  },
  "language_info": {
   "codemirror_mode": {
    "name": "ipython",
    "version": 3
   },
   "file_extension": ".py",
   "mimetype": "text/x-python",
   "name": "python",
   "nbconvert_exporter": "python",
   "pygments_lexer": "ipython3",
   "version": "3.8.5"
  }
 },
 "nbformat": 4,
 "nbformat_minor": 4
}
