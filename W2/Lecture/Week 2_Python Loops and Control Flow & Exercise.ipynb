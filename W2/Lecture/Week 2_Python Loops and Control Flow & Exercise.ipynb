{
 "cells": [
  {
   "cell_type": "markdown",
   "metadata": {},
   "source": [
    "# Python Fundamentals: Python Loops and Control Flow\n",
    "\n",
    "This notebook explores essential Python programming concepts including control structures."
   ]
  },
  {
   "cell_type": "markdown",
   "metadata": {},
   "source": [
    "## 1. Loops\n",
    "\n",
    "Loops allow you to execute code repeatedly. Python has two types of loops: `for` loops and `while` loops."
   ]
  },
  {
   "cell_type": "markdown",
   "metadata": {},
   "source": [
    "## 1.1 For Loops\n",
    "\n",
    "For loops iterate over a sequence (like a list, tuple, or string) and execute a block of code for each item."
   ]
  },
  {
   "cell_type": "code",
   "execution_count": 22,
   "metadata": {},
   "outputs": [
    {
     "name": "stdout",
     "output_type": "stream",
     "text": [
      "Colors in my palette:\n",
      "- red\n",
      "- green\n",
      "- blue\n",
      "- yellow\n"
     ]
    }
   ],
   "source": [
    "# Basic for loop with a list\n",
    "colors = [\"red\", \"green\", \"blue\", \"yellow\"]\n",
    "\n",
    "print(\"Colors in my palette:\")\n",
    "for color in colors:\n",
    "    print(f\"- {color}\")"
   ]
  },
  {
   "cell_type": "code",
   "execution_count": 23,
   "metadata": {},
   "outputs": [
    {
     "name": "stdout",
     "output_type": "stream",
     "text": [
      "Counting from 1 to 5:\n",
      "1\n",
      "2\n",
      "3\n",
      "4\n",
      "5\n",
      "\n",
      "Even numbers from 2 to 10:\n",
      "2\n",
      "4\n",
      "6\n",
      "8\n",
      "10\n"
     ]
    }
   ],
   "source": [
    "# Using range() to generate a sequence of numbers\n",
    "print(\"Counting from 1 to 5:\")\n",
    "for num in range(1, 6):  # range(start, stop) - includes start, excludes stop\n",
    "    print(num)\n",
    "\n",
    "# range with step value\n",
    "print(\"\\nEven numbers from 2 to 10:\")\n",
    "for even in range(2, 11, 2):  # range(start, stop, step)\n",
    "    print(even)"
   ]
  },
  {
   "cell_type": "code",
   "execution_count": 24,
   "metadata": {},
   "outputs": [
    {
     "name": "stdout",
     "output_type": "stream",
     "text": [
      "Letters in 'Python':\n",
      "P\n",
      "y\n",
      "t\n",
      "h\n",
      "o\n",
      "n\n",
      "\n",
      "Fruits with indices:\n",
      "0: apple\n",
      "1: banana\n",
      "2: cherry\n"
     ]
    }
   ],
   "source": [
    "# Looping through strings\n",
    "word = \"Python\"\n",
    "\n",
    "print(f\"Letters in '{word}':\")\n",
    "for letter in word:\n",
    "    print(letter)\n",
    "\n",
    "# Using enumerate() to get both index and value\n",
    "fruits = [\"apple\", \"banana\", \"cherry\"]\n",
    "\n",
    "print(\"\\nFruits with indices:\")\n",
    "for index, fruit in enumerate(fruits):\n",
    "    print(f\"{index}: {fruit}\")"
   ]
  },
  {
   "cell_type": "markdown",
   "metadata": {},
   "source": [
    "### 1.2 While Loops\n",
    "\n",
    "While loops continue executing as long as a condition remains True."
   ]
  },
  {
   "cell_type": "code",
   "execution_count": 25,
   "metadata": {},
   "outputs": [
    {
     "name": "stdout",
     "output_type": "stream",
     "text": [
      "Launch countdown:\n",
      "5...\n",
      "4...\n",
      "3...\n",
      "2...\n",
      "1...\n",
      "Liftoff!\n"
     ]
    }
   ],
   "source": [
    "# Basic while loop\n",
    "countdown = 5\n",
    "\n",
    "print(\"Launch countdown:\")\n",
    "while countdown > 0:\n",
    "    print(f\"{countdown}...\")\n",
    "    countdown -= 1  # decrement countdown by 1\n",
    "    \n",
    "print(\"Liftoff!\")"
   ]
  },
  {
   "cell_type": "code",
   "execution_count": 26,
   "metadata": {},
   "outputs": [
    {
     "name": "stdout",
     "output_type": "stream",
     "text": [
      "Printing numbers until we encounter 5:\n",
      "1\n",
      "2\n",
      "3\n",
      "4\n",
      "5\n",
      "Found 5! Breaking out of the loop.\n",
      "Loop finished.\n"
     ]
    }
   ],
   "source": [
    "# While loop with break statement\n",
    "print(\"Printing numbers until we encounter 5:\")\n",
    "\n",
    "num = 1\n",
    "while num < 10:\n",
    "    print(num)\n",
    "    if num == 5:\n",
    "        print(\"Found 5! Breaking out of the loop.\")\n",
    "        break  # exit the loop immediately\n",
    "    num += 1\n",
    "\n",
    "print(\"Loop finished.\")"
   ]
  },
  {
   "cell_type": "code",
   "execution_count": 27,
   "metadata": {},
   "outputs": [
    {
     "name": "stdout",
     "output_type": "stream",
     "text": [
      "Printing only odd numbers from 1 to 10:\n",
      "1\n",
      "3\n",
      "5\n",
      "7\n",
      "9\n",
      "Loop finished.\n"
     ]
    }
   ],
   "source": [
    "# While loop with continue statement\n",
    "print(\"Printing only odd numbers from 1 to 10:\")\n",
    "\n",
    "num = 0\n",
    "while num < 10:\n",
    "    num += 1\n",
    "    if num % 2 == 0:  # if number is even\n",
    "        continue  # skip the rest of the loop for this iteration\n",
    "    print(num)\n",
    "\n",
    "print(\"Loop finished.\")"
   ]
  },
  {
   "cell_type": "markdown",
   "metadata": {},
   "source": [
    "## 2. Practice Exercises\n",
    "\n",
    "Try these exercises to reinforce your understanding of Python basics:\n",
    "\n",
    "1. Create a program that converts temperature from Celsius to Fahrenheit\n",
    "2. Write a loop that prints the first 10 Fibonacci numbers\n",
    "3. Create a function that checks if a number is prime"
   ]
  },
  {
   "cell_type": "code",
   "execution_count": null,
   "metadata": {},
   "outputs": [],
   "source": []
  }
 ],
 "metadata": {
  "kernelspec": {
   "display_name": "Python 3",
   "language": "python",
   "name": "python3"
  },
  "language_info": {
   "codemirror_mode": {
    "name": "ipython",
    "version": 3
   },
   "file_extension": ".py",
   "mimetype": "text/x-python",
   "name": "python",
   "nbconvert_exporter": "python",
   "pygments_lexer": "ipython3",
   "version": "3.8.5"
  }
 },
 "nbformat": 4,
 "nbformat_minor": 4
}
