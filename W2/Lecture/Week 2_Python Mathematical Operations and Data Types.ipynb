{
 "cells": [
  {
   "cell_type": "markdown",
   "metadata": {},
   "source": [
    "# Python Mathematical Operations and Data Types\n",
    "This notebook explores essential Python programming concepts including mathematical operations, data types."
   ]
  },
  {
   "cell_type": "markdown",
   "metadata": {},
   "source": [
    "## 1. Mathematical Operations\n",
    "\n",
    "Python provides a comprehensive set of operators for performing mathematical calculations. Let's explore the fundamental operations you'll use in your programs."
   ]
  },
  {
   "cell_type": "code",
   "execution_count": 1,
   "metadata": {},
   "outputs": [
    {
     "name": "stdout",
     "output_type": "stream",
     "text": [
      "Addition: 22\n",
      "Subtraction: 13\n",
      "Multiplication: 32\n",
      "Division: 9.0 (type: <class 'float'>)\n"
     ]
    }
   ],
   "source": [
    "# Basic arithmetic operations\n",
    "sum_result = 15 + 7\n",
    "difference = 25 - 12\n",
    "product = 8 * 4\n",
    "quotient = 36 / 4  # Division always returns a float\n",
    "\n",
    "# Display results\n",
    "print(f\"Addition: {sum_result}\")\n",
    "print(f\"Subtraction: {difference}\")\n",
    "print(f\"Multiplication: {product}\")\n",
    "print(f\"Division: {quotient} (type: {type(quotient)})\")"
   ]
  },
  {
   "cell_type": "code",
   "execution_count": 2,
   "metadata": {},
   "outputs": [
    {
     "name": "stdout",
     "output_type": "stream",
     "text": [
      "17 divided by 5 gives a remainder of: 2\n",
      "Is 42 even? True\n"
     ]
    }
   ],
   "source": [
    "# Modulo operation (remainder after division)\n",
    "# Example: What's the remainder when dividing 17 by 5?\n",
    "remainder = 17 % 5\n",
    "print(f\"17 divided by 5 gives a remainder of: {remainder}\")\n",
    "\n",
    "# Real-world application: Determining if a number is even or odd\n",
    "test_number = 42\n",
    "is_even = (test_number % 2 == 0)\n",
    "print(f\"Is {test_number} even? {is_even}\")"
   ]
  },
  {
   "cell_type": "code",
   "execution_count": 3,
   "metadata": {},
   "outputs": [
    {
     "name": "stdout",
     "output_type": "stream",
     "text": [
      "9 squared: 81\n",
      "3 cubed: 27\n",
      "2 to the 10th power: 1024\n"
     ]
    }
   ],
   "source": [
    "# Exponentiation (raising to a power)\n",
    "square = 9 ** 2       # 9 squared\n",
    "cube = 3 ** 3         # 3 cubed\n",
    "power = 2 ** 10       # 2 to the 10th power\n",
    "\n",
    "print(f\"9 squared: {square}\")\n",
    "print(f\"3 cubed: {cube}\")\n",
    "print(f\"2 to the 10th power: {power}\")"
   ]
  },
  {
   "cell_type": "code",
   "execution_count": 4,
   "metadata": {},
   "outputs": [
    {
     "name": "stdout",
     "output_type": "stream",
     "text": [
      "17 // 5 = 3\n",
      "-17 // 5 = -4  # Notice it rounds down, not toward zero\n"
     ]
    }
   ],
   "source": [
    "# Integer division (floor division)\n",
    "# Returns the quotient without the remainder, rounded down\n",
    "int_division = 17 // 5\n",
    "print(f\"17 // 5 = {int_division}\")\n",
    "\n",
    "# Negative number example\n",
    "negative_division = -17 // 5\n",
    "print(f\"-17 // 5 = {negative_division}  # Notice it rounds down, not toward zero\")"
   ]
  },
  {
   "cell_type": "markdown",
   "metadata": {},
   "source": [
    "## 2. Data Types\n",
    "\n",
    "Python has several built-in data types. Understanding these types is crucial for effective programming."
   ]
  },
  {
   "cell_type": "markdown",
   "metadata": {},
   "source": [
    "### 2.1 Numeric Types\n",
    "\n",
    "Python has three main numeric types:\n",
    "- **Integers (int)**: Whole numbers without decimals\n",
    "- **Floating-point (float)**: Numbers with decimal points\n",
    "- **Complex numbers**: Numbers with real and imaginary parts"
   ]
  },
  {
   "cell_type": "code",
   "execution_count": 6,
   "metadata": {},
   "outputs": [
    {
     "name": "stdout",
     "output_type": "stream",
     "text": [
      "Student count: 35 (type: <class 'int'>)\n",
      "Negative temperature: -10 (type: <class 'int'>)\n",
      "Weight: 65.8 kg (type: <class 'float'>)\n",
      "π ≈ 3.14159 (type: <class 'float'>)\n",
      "Avogadro's number: 6.022e+23\n",
      "Electron mass: 9.11e-31 kg\n"
     ]
    }
   ],
   "source": [
    "# Integer examples\n",
    "student_count = 35\n",
    "negative_temp = -10\n",
    "\n",
    "print(f\"Student count: {student_count} (type: {type(student_count)})\")\n",
    "print(f\"Negative temperature: {negative_temp} (type: {type(negative_temp)})\")\n",
    "\n",
    "# Float examples\n",
    "weight = 65.8\n",
    "pi_approx = 3.14159\n",
    "\n",
    "print(f\"Weight: {weight} kg (type: {type(weight)})\")\n",
    "print(f\"π ≈ {pi_approx} (type: {type(pi_approx)})\")\n",
    "\n",
    "# Scientific notation (e notation) for large/small numbers\n",
    "avogadro = 6.022e23  # 6.022 × 10^23\n",
    "electron_mass = 9.11e-31  # 9.11 × 10^-31\n",
    "\n",
    "print(f\"Avogadro's number: {avogadro}\")\n",
    "print(f\"Electron mass: {electron_mass} kg\")"
   ]
  },
  {
   "cell_type": "markdown",
   "metadata": {},
   "source": [
    "### 2.2 Text and Sequence Types\n",
    "\n",
    "Two of the most important data types for organizing and working with data are:\n",
    "- **Strings (str)**: Text sequences\n",
    "- **Lists**: Ordered, mutable collections of items"
   ]
  },
  {
   "cell_type": "code",
   "execution_count": 7,
   "metadata": {},
   "outputs": [
    {
     "name": "stdout",
     "output_type": "stream",
     "text": [
      "Hello, Python learner!\n",
      "Learning is a lifelong journey.\n",
      "Scientist: Marie Curie\n"
     ]
    }
   ],
   "source": [
    "# String examples\n",
    "greeting = \"Hello, Python learner!\"\n",
    "quote = 'Learning is a lifelong journey.'\n",
    "\n",
    "print(greeting)\n",
    "print(quote)\n",
    "\n",
    "# String concatenation (joining strings)\n",
    "first_name = \"Marie\"\n",
    "last_name = \"Curie\"\n",
    "full_name = first_name + \" \" + last_name\n",
    "\n",
    "print(f\"Scientist: {full_name}\")"
   ]
  },
  {
   "cell_type": "code",
   "execution_count": 8,
   "metadata": {},
   "outputs": [
    {
     "name": "stdout",
     "output_type": "stream",
     "text": [
      "Fruits list: ['apple', 'banana', 'cherry', 'date', 'elderberry']\n",
      "Mixed list: [42, 'python', 3.14, True]\n",
      "First fruit: apple\n",
      "Last fruit: elderberry\n",
      "First three fruits: ['apple', 'banana', 'cherry']\n",
      "Last two fruits: ['date', 'elderberry']\n"
     ]
    }
   ],
   "source": [
    "# List examples\n",
    "# Lists are ordered collections that can contain various data types\n",
    "fruits = [\"apple\", \"banana\", \"cherry\", \"date\", \"elderberry\"]\n",
    "mixed_list = [42, \"python\", 3.14, True]\n",
    "\n",
    "print(f\"Fruits list: {fruits}\")\n",
    "print(f\"Mixed list: {mixed_list}\")\n",
    "\n",
    "# Accessing list elements (indexing starts at 0)\n",
    "print(f\"First fruit: {fruits[0]}\")\n",
    "print(f\"Last fruit: {fruits[-1]}\")  # Negative indices count from the end\n",
    "\n",
    "# List slicing - getting a subset of elements\n",
    "print(f\"First three fruits: {fruits[0:3]}\")\n",
    "print(f\"Last two fruits: {fruits[-2:]}\")"
   ]
  },
  {
   "cell_type": "markdown",
   "metadata": {},
   "source": [
    "## 3. Type Conversion\n",
    "\n",
    "Converting between data types is a common operation in Python. This is known as type casting."
   ]
  },
  {
   "cell_type": "code",
   "execution_count": 9,
   "metadata": {},
   "outputs": [
    {
     "name": "stdout",
     "output_type": "stream",
     "text": [
      "125 (int) → 125.0 (float)\n",
      "99.87 (float) → 99 (int) - note the decimal is truncated\n",
      "'42' (str) → 42 (int)\n",
      "'42' (str) → 42.0 (float)\n"
     ]
    }
   ],
   "source": [
    "# Converting between numeric types\n",
    "integer_value = 125\n",
    "float_value = float(integer_value)  # int to float\n",
    "print(f\"{integer_value} (int) → {float_value} (float)\")\n",
    "\n",
    "decimal_value = 99.87\n",
    "integer_from_float = int(decimal_value)  # float to int (truncates, doesn't round)\n",
    "print(f\"{decimal_value} (float) → {integer_from_float} (int) - note the decimal is truncated\")\n",
    "\n",
    "# String to number conversion\n",
    "numeric_string = \"42\"\n",
    "string_to_int = int(numeric_string)\n",
    "string_to_float = float(numeric_string)\n",
    "\n",
    "print(f\"'{numeric_string}' (str) → {string_to_int} (int)\")\n",
    "print(f\"'{numeric_string}' (str) → {string_to_float} (float)\")"
   ]
  },
  {
   "cell_type": "code",
   "execution_count": 10,
   "metadata": {},
   "outputs": [
    {
     "name": "stdout",
     "output_type": "stream",
     "text": [
      "Error: unsupported operand type(s) for +: 'int' and 'str'\n",
      "50 + int('25') = 75\n"
     ]
    }
   ],
   "source": [
    "# What happens when we try to add different types?\n",
    "try:\n",
    "    num = 50\n",
    "    text = \"25\"\n",
    "    result = num + text  # This will cause an error\n",
    "except TypeError as e:\n",
    "    print(f\"Error: {e}\")\n",
    "    \n",
    "# Proper way to add different types - convert first\n",
    "num = 50\n",
    "text = \"25\"\n",
    "result = num + int(text)  # Convert string to integer first\n",
    "print(f\"{num} + int('{text}') = {result}\")"
   ]
  },
  {
   "cell_type": "code",
   "execution_count": 11,
   "metadata": {},
   "outputs": [
    {
     "name": "stdout",
     "output_type": "stream",
     "text": [
      "I am 30 years old.\n",
      "5 + 3.7 = 8.7 (type: <class 'float'>)\n"
     ]
    }
   ],
   "source": [
    "# Type conversion scenarios\n",
    "age = 30\n",
    "message = \"I am \" + str(age) + \" years old.\"\n",
    "print(message)\n",
    "\n",
    "# Adding floating point and integer (automatic conversion)\n",
    "calculation = 5 + 3.7\n",
    "print(f\"5 + 3.7 = {calculation} (type: {type(calculation)})\")"
   ]
  },
  {
   "cell_type": "markdown",
   "metadata": {},
   "source": [
    "## 4. Comparison and Boolean Operations\n",
    "\n",
    "Comparison operators allow us to compare values and return boolean results (True/False)."
   ]
  },
  {
   "cell_type": "code",
   "execution_count": 12,
   "metadata": {},
   "outputs": [
    {
     "name": "stdout",
     "output_type": "stream",
     "text": [
      "15 == 15: True\n",
      "15 == 25: False\n",
      "15 != 25: True\n",
      "15 < 25: True\n",
      "15 > 25: False\n",
      "15 <= 15: True\n",
      "15 >= 25: False\n"
     ]
    }
   ],
   "source": [
    "# Basic comparisons\n",
    "a = 15\n",
    "b = 25\n",
    "\n",
    "print(f\"{a} == {a}: {a == a}\")  # Equal to\n",
    "print(f\"{a} == {b}: {a == b}\")  # Equal to\n",
    "\n",
    "print(f\"{a} != {b}: {a != b}\")  # Not equal to\n",
    "\n",
    "print(f\"{a} < {b}: {a < b}\")    # Less than\n",
    "print(f\"{a} > {b}: {a > b}\")    # Greater than\n",
    "\n",
    "print(f\"{a} <= {a}: {a <= a}\")  # Less than or equal to\n",
    "print(f\"{a} >= {b}: {a >= b}\")  # Greater than or equal to"
   ]
  },
  {
   "cell_type": "code",
   "execution_count": null,
   "metadata": {},
   "outputs": [],
   "source": []
  }
 ],
 "metadata": {
  "kernelspec": {
   "display_name": "Python 3",
   "language": "python",
   "name": "python3"
  },
  "language_info": {
   "codemirror_mode": {
    "name": "ipython",
    "version": 3
   },
   "file_extension": ".py",
   "mimetype": "text/x-python",
   "name": "python",
   "nbconvert_exporter": "python",
   "pygments_lexer": "ipython3",
   "version": "3.8.5"
  }
 },
 "nbformat": 4,
 "nbformat_minor": 4
}
