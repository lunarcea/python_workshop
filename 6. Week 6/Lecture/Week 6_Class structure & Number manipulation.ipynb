{
 "cells": [
  {
   "cell_type": "markdown",
   "metadata": {},
   "source": [
    "# Numeric Collection Class Implementation\n",
    "\n",
    "This notebook demonstrates how to create a custom class for managing collections of numbers. We'll build a class that can store multiple numeric values and perform various operations on them.\n",
    "\n",
    "## Features of our Implementation\n",
    "Our NumericCollection class will include functionality for:\n",
    "* Adding numbers to the collection\n",
    "* Calculating statistical measures (sum, average)\n",
    "* Supporting Python's built-in operations\n",
    "* Combining multiple collections\n",
    "\n",
    "## Development Approach\n",
    "1. Define the class structure\n",
    "2. Implement basic initialization and data storage\n",
    "3. Create methods for adding and manipulating numbers\n",
    "4. Add statistical calculation capabilities\n",
    "5. Implement Python's special methods for intuitive usage\n",
    "6. Test the functionality thoroughly"
   ]
  },
  {
   "cell_type": "code",
   "execution_count": 1,
   "metadata": {},
   "outputs": [],
   "source": [
    "class NumericCollection:\n",
    "    \n",
    "    def __init__(self, *values):\n",
    "        # Initialize with an empty list to store our numbers\n",
    "        self.values = []\n",
    "        \n",
    "        # If arguments are provided, add them to our collection\n",
    "        if values:\n",
    "            for value in values:\n",
    "                self.add_value(value)\n",
    "    \n",
    "    def add_value(self, *values):\n",
    "        # Method to add one or more values to our collection\n",
    "        if not values:\n",
    "            return\n",
    "            \n",
    "        for value in values:\n",
    "            self.values.append(value)\n",
    "        return self\n",
    "    \n",
    "    def calculate_sum(self):\n",
    "        # Calculate the sum of all values in the collection\n",
    "        return sum(self.values)\n",
    "    \n",
    "    def calculate_average(self):\n",
    "        # Calculate the average of all values\n",
    "        if not len(self.values):\n",
    "            raise ValueError(\"Cannot calculate average of empty collection\")\n",
    "        return self.calculate_sum() / len(self.values)\n",
    "    \n",
    "    def clear(self):\n",
    "        # Remove all values from the collection\n",
    "        self.values = []\n",
    "        return self.values\n",
    "    \n",
    "    def merge_with(self, *other_collections):\n",
    "        # Combine this collection with other NumericCollection instances\n",
    "        for collection in other_collections:\n",
    "            self.values = self.values + collection.values\n",
    "        return self.values\n",
    "    \n",
    "    # Special methods for Python integration\n",
    "    \n",
    "    def __len__(self):\n",
    "        # Support for len() function\n",
    "        return len(self.values)\n",
    "    \n",
    "    def __add__(self, other_collection):\n",
    "        # Support for + operator\n",
    "        return self.values + other_collection.values\n",
    "    \n",
    "    def __getitem__(self, index):\n",
    "        # Support for [] access notation\n",
    "        if index is None:\n",
    "            return self.values\n",
    "        return self.values[index]\n",
    "    \n",
    "    def __setitem__(self, index, value):\n",
    "        # Support for [] assignment notation\n",
    "        if index is None:\n",
    "            return self.values\n",
    "        try:\n",
    "            self.values[index] = value\n",
    "        except IndexError as e:\n",
    "            print(e)\n",
    "        finally:\n",
    "            return self.values"
   ]
  },
  {
   "cell_type": "markdown",
   "metadata": {},
   "source": [
    "# Testing Our Implementation\n",
    "\n",
    "Now that we've created our NumericCollection class, we need to test its functionality. \n",
    "This will help ensure that all methods work as expected and that the class behaves \n",
    "correctly in different scenarios.\n",
    "\n",
    "Testing is crucial for identifying bugs and edge cases before they cause problems in\n",
    "real applications. For a more comprehensive approach in production code, we would use\n",
    "dedicated testing frameworks and write formal unit tests.\n",
    "\n",
    "Let's test our implementation with some basic examples:"
   ]
  },
  {
   "cell_type": "code",
   "execution_count": 2,
   "metadata": {},
   "outputs": [
    {
     "name": "stdout",
     "output_type": "stream",
     "text": [
      "Initial states:\n",
      "collection1: []\n",
      "collection2: [10, 20, 30, 40, 50]\n"
     ]
    }
   ],
   "source": [
    "# Create instances to test different initialization options\n",
    "collection1 = NumericCollection()\n",
    "collection2 = NumericCollection(10, 20, 30, 40, 50)\n",
    "\n",
    "# Display initial values\n",
    "print('Initial states:')\n",
    "print('collection1:', collection1.values)\n",
    "print('collection2:', collection2.values)"
   ]
  },
  {
   "cell_type": "code",
   "execution_count": 3,
   "metadata": {},
   "outputs": [
    {
     "name": "stdout",
     "output_type": "stream",
     "text": [
      "\n",
      "Testing add_value and calculate_sum:\n",
      "collection1 after adding values: [60, 70, 80, 90, 100]\n",
      "collection1 sum: 400\n",
      "\n",
      "Testing calculate_average and merge_with:\n",
      "collection2 average: 30.0\n",
      "collection2 after merging: [10, 20, 30, 40, 50, 60, 70, 80, 90, 100]\n",
      "\n",
      "Testing clear method:\n",
      "collection1 after clearing: []\n"
     ]
    }
   ],
   "source": [
    "# Test adding values and calculating sum\n",
    "collection1.add_value(60, 70, 80, 90, 100)\n",
    "collection1_sum = collection1.calculate_sum()\n",
    "\n",
    "print('\\nTesting add_value and calculate_sum:')\n",
    "print('collection1 after adding values:', collection1.values)\n",
    "print('collection1 sum:', collection1_sum)\n",
    "\n",
    "# Test calculating average and merging collections\n",
    "print('\\nTesting calculate_average and merge_with:')\n",
    "print('collection2 average:', collection2.calculate_average())\n",
    "collection2.merge_with(collection1)\n",
    "print('collection2 after merging:', collection2.values)\n",
    "\n",
    "# Test clearing a collection\n",
    "print('\\nTesting clear method:')\n",
    "collection1.clear()\n",
    "print('collection1 after clearing:', collection1.values)"
   ]
  },
  {
   "cell_type": "markdown",
   "metadata": {},
   "source": [
    "# Conclusion and Further Development\n",
    "\n",
    "This implementation provides a basic framework for a numeric collection class. In a real-world scenario, you might want to enhance it with additional features such as:\n",
    "\n",
    "1. More statistical functions (median, mode, variance, etc.)\n",
    "2. Data validation to ensure only numbers are added\n",
    "3. Additional mathematical operations between collections\n",
    "4. Support for more Python special methods\n",
    "5. Improved error handling and edge case management\n",
    "\n",
    "This example serves as an introduction to object-oriented programming in Python, demonstrating how classes can be used to create reusable, well-organized code that extends Python's built-in functionality."
   ]
  },
  {
   "cell_type": "code",
   "execution_count": null,
   "metadata": {},
   "outputs": [],
   "source": []
  }
 ],
 "metadata": {
  "kernelspec": {
   "display_name": "Python 3",
   "language": "python",
   "name": "python3"
  },
  "language_info": {
   "codemirror_mode": {
    "name": "ipython",
    "version": 3
   },
   "file_extension": ".py",
   "mimetype": "text/x-python",
   "name": "python",
   "nbconvert_exporter": "python",
   "pygments_lexer": "ipython3",
   "version": "3.8.5"
  }
 },
 "nbformat": 4,
 "nbformat_minor": 4
}
