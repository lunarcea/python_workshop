{
 "cells": [
  {
   "cell_type": "markdown",
   "metadata": {},
   "source": [
    "## Detailed Analysis of Python Classes\n",
    "\n",
    "Let's explore the concept of classes in Python. Classes are fundamental building blocks that allow us to create custom data types with specific behaviors and attributes."
   ]
  },
  {
   "cell_type": "code",
   "execution_count": 1,
   "metadata": {},
   "outputs": [
    {
     "name": "stdout",
     "output_type": "stream",
     "text": [
      "<__main__.SimpleClass object at 0x000002A635C16A30>\n",
      "<__main__.SimpleClass object at 0x000002A635C169D0>\n",
      "Each instance has its own unique reference in memory\n"
     ]
    }
   ],
   "source": [
    "#Basic class declaration example\n",
    "class SimpleClass:\n",
    "    # Class initialization method\n",
    "    def __init__(self):\n",
    "        pass\n",
    "\n",
    "# Creating instances of the class\n",
    "first_instance = SimpleClass()\n",
    "second_instance = SimpleClass()\n",
    "\n",
    "print(first_instance)\n",
    "print(second_instance)\n",
    "print(\"Each instance has its own unique reference in memory\")"
   ]
  },
  {
   "cell_type": "markdown",
   "metadata": {},
   "source": [
    "## Core Components of Python Classes\n",
    "\n",
    "Classes in Python consist of four main elements:\n",
    "1. Name - The identifier used to reference the class\n",
    "2. Constructor - The initialization method (`__init__`)\n",
    "3. Attributes - Data stored within the class\n",
    "4. Methods - Functions that define class behavior"
   ]
  },
  {
   "cell_type": "code",
   "execution_count": 2,
   "metadata": {},
   "outputs": [],
   "source": [
    "# Standard Class Structure\n",
    "\n",
    "class ExampleClass:\n",
    "    # Class-level attribute (shared by all instances)\n",
    "    shared_attribute = \"I'm shared across all instances\"\n",
    "    \n",
    "    # Constructor method\n",
    "    def __init__(self, instance_data):\n",
    "        # Instance-level attribute (unique to each instance)\n",
    "        self.instance_data = instance_data\n",
    "    \n",
    "    # Regular class method\n",
    "    def example_method(self):\n",
    "        return f\"Method working with {self.instance_data}\""
   ]
  },
  {
   "cell_type": "markdown",
   "metadata": {},
   "source": [
    "## The Constructor Method\n",
    "\n",
    "The `__init__()` method is called automatically when creating a new instance of a class. \n",
    "It allows us to:\n",
    "- Set up initial state for each instance\n",
    "- Accept parameters to customize each instance\n",
    "- Allocate any necessary resources"
   ]
  },
  {
   "cell_type": "code",
   "execution_count": 3,
   "metadata": {},
   "outputs": [
    {
     "name": "stdout",
     "output_type": "stream",
     "text": [
      "X: 10, Y: 20, Label: Point A\n"
     ]
    }
   ],
   "source": [
    "class DataPoint:\n",
    "    # Constructor with multiple parameters\n",
    "    def __init__(self, x_value, y_value, label):\n",
    "        self.x = x_value\n",
    "        self.y = y_value\n",
    "        self.label = label\n",
    "\n",
    "# Creating an instance with specific values\n",
    "point1 = DataPoint(10, 20, \"Point A\")\n",
    "\n",
    "# Accessing the instance attributes\n",
    "print(f\"X: {point1.x}, Y: {point1.y}, Label: {point1.label}\")"
   ]
  },
  {
   "cell_type": "markdown",
   "metadata": {},
   "source": [
    "## Class Attributes vs. Instance Attributes\n",
    "\n",
    "- **Class attributes** are shared among all instances of a class\n",
    "- **Instance attributes** are unique to each specific object\n",
    "- Instance attributes are typically defined in `__init__`\n",
    "- Additional instance attributes can be added at any time"
   ]
  },
  {
   "cell_type": "code",
   "execution_count": 4,
   "metadata": {},
   "outputs": [
    {
     "name": "stdout",
     "output_type": "stream",
     "text": [
      "Type: Basic Counter, Value: 5\n",
      "Type: Basic Counter, Value: 10\n",
      "New attribute: Main Counter\n"
     ]
    }
   ],
   "source": [
    "class Counter:\n",
    "    # Class attribute - shared by all instances\n",
    "    count_type = \"Basic Counter\"\n",
    "    \n",
    "    def __init__(self, start_value=0):\n",
    "        # Instance attributes - unique per instance\n",
    "        self.value = start_value\n",
    "    \n",
    "# Create two different counter instances\n",
    "counter1 = Counter(5)\n",
    "counter2 = Counter(10)\n",
    "\n",
    "# Access attributes\n",
    "print(f\"Type: {counter1.count_type}, Value: {counter1.value}\")\n",
    "print(f\"Type: {counter2.count_type}, Value: {counter2.value}\")\n",
    "\n",
    "# Adding a new instance attribute\n",
    "counter1.name = \"Main Counter\"\n",
    "print(f\"New attribute: {counter1.name}\")\n",
    "\n",
    "# This would cause an error since 'name' isn't defined for counter2\n",
    "# print(counter2.name)"
   ]
  },
  {
   "cell_type": "markdown",
   "metadata": {},
   "source": [
    "## Class Methods\n",
    "\n",
    "Methods define the behaviors that instances of a class can perform. Each method receives `self` as its first parameter, allowing access to instance attributes.\n",
    "\n",
    "Methods:\n",
    "- Operate on the instance's data\n",
    "- Can return values or modify instance state\n",
    "- Allow code organization around related data"
   ]
  },
  {
   "cell_type": "code",
   "execution_count": 5,
   "metadata": {},
   "outputs": [
    {
     "name": "stdout",
     "output_type": "stream",
     "text": [
      "15\n",
      "12\n",
      "12\n"
     ]
    }
   ],
   "source": [
    "class Calculator:\n",
    "    def __init__(self, initial_value=0):\n",
    "        self.result = initial_value\n",
    "    \n",
    "    def add(self, value):\n",
    "        self.result += value\n",
    "        return self.result\n",
    "    \n",
    "    def subtract(self, value):\n",
    "        self.result -= value\n",
    "        return self.result\n",
    "        \n",
    "    def get_result(self):\n",
    "        return self.result\n",
    "\n",
    "# Create and use a calculator\n",
    "calc = Calculator(10)\n",
    "print(calc.add(5))      # 15\n",
    "print(calc.subtract(3)) # 12\n",
    "print(calc.get_result()) # 12"
   ]
  },
  {
   "cell_type": "markdown",
   "metadata": {},
   "source": [
    "## Special Methods (Magic Methods)\n",
    "\n",
    "Python classes can implement special methods (with double underscores) to customize their behavior:\n",
    "\n",
    "- `__init__`: Constructor for initialization\n",
    "- `__str__`: String representation (for `str()` and `print()`)\n",
    "- `__len__`: Length behavior (for `len()`)\n",
    "- `__add__`: Addition behavior (for `+` operator)\n",
    "\n",
    "These methods allow custom objects to work with Python's built-in functions and operators."
   ]
  },
  {
   "cell_type": "code",
   "execution_count": 6,
   "metadata": {},
   "outputs": [
    {
     "name": "stdout",
     "output_type": "stream",
     "text": [
      "Vector(3, 4)\n",
      "5\n",
      "Vector(5, 7)\n"
     ]
    }
   ],
   "source": [
    "class Vector:\n",
    "    def __init__(self, x=0, y=0):\n",
    "        self.x = x\n",
    "        self.y = y\n",
    "    \n",
    "    # Custom string representation\n",
    "    def __str__(self):\n",
    "        return f\"Vector({self.x}, {self.y})\"\n",
    "    \n",
    "    # Custom length (magnitude)\n",
    "    def __len__(self):\n",
    "        return int((self.x**2 + self.y**2)**0.5)\n",
    "    \n",
    "    # Custom addition\n",
    "    def __add__(self, other):\n",
    "        return Vector(self.x + other.x, self.y + other.y)\n",
    "\n",
    "# Create and use vectors\n",
    "v1 = Vector(3, 4)\n",
    "v2 = Vector(2, 3)\n",
    "\n",
    "print(v1)           # Custom string representation\n",
    "print(len(v1))      # Length/magnitude (5)\n",
    "print(v1 + v2)      # Vector addition"
   ]
  },
  {
   "cell_type": "markdown",
   "metadata": {},
   "source": [
    "## When to Use Classes\n",
    "\n",
    "Classes are most valuable when:\n",
    "- You need to group related data with operations that act on that data\n",
    "- You want to create multiple similar objects with the same structure\n",
    "- You're modeling real-world entities with attributes and behaviors\n",
    "- Your code has patterns that could benefit from abstraction and reuse\n",
    "\n",
    "Classes help organize code into logical units, promoting maintainability and reusability."
   ]
  },
  {
   "cell_type": "code",
   "execution_count": 7,
   "metadata": {},
   "outputs": [
    {
     "name": "stdout",
     "output_type": "stream",
     "text": [
      "New balance: $1500\n",
      "New balance: $1300\n",
      "Account: 12345 | Owner: John Smith\n",
      "Current balance: $1300\n",
      "Recent transactions:\n",
      "- Deposit: +$500\n",
      "- Withdrawal: -$200\n",
      "\n"
     ]
    }
   ],
   "source": [
    "class BankAccount:\n",
    "    def __init__(self, account_number, owner_name, balance=0):\n",
    "        self.account_number = account_number\n",
    "        self.owner_name = owner_name\n",
    "        self.balance = balance\n",
    "        self.transactions = []\n",
    "    \n",
    "    def deposit(self, amount):\n",
    "        if amount <= 0:\n",
    "            return \"Invalid deposit amount\"\n",
    "        self.balance += amount\n",
    "        self.transactions.append(f\"Deposit: +${amount}\")\n",
    "        return f\"New balance: ${self.balance}\"\n",
    "    \n",
    "    def withdraw(self, amount):\n",
    "        if amount <= 0:\n",
    "            return \"Invalid withdrawal amount\"\n",
    "        if amount > self.balance:\n",
    "            return \"Insufficient funds\"\n",
    "        self.balance -= amount\n",
    "        self.transactions.append(f\"Withdrawal: -${amount}\")\n",
    "        return f\"New balance: ${self.balance}\"\n",
    "    \n",
    "    def get_statement(self):\n",
    "        statement = f\"Account: {self.account_number} | Owner: {self.owner_name}\\n\"\n",
    "        statement += f\"Current balance: ${self.balance}\\n\"\n",
    "        statement += \"Recent transactions:\\n\"\n",
    "        for transaction in self.transactions[-5:]:\n",
    "            statement += f\"- {transaction}\\n\"\n",
    "        return statement\n",
    "\n",
    "# Using the bank account class\n",
    "account = BankAccount(\"12345\", \"John Smith\", 1000)\n",
    "print(account.deposit(500))\n",
    "print(account.withdraw(200))\n",
    "print(account.get_statement())"
   ]
  },
  {
   "cell_type": "code",
   "execution_count": null,
   "metadata": {},
   "outputs": [],
   "source": []
  }
 ],
 "metadata": {
  "kernelspec": {
   "display_name": "Python 3",
   "language": "python",
   "name": "python3"
  },
  "language_info": {
   "codemirror_mode": {
    "name": "ipython",
    "version": 3
   },
   "file_extension": ".py",
   "mimetype": "text/x-python",
   "name": "python",
   "nbconvert_exporter": "python",
   "pygments_lexer": "ipython3",
   "version": "3.8.5"
  }
 },
 "nbformat": 4,
 "nbformat_minor": 4
}
