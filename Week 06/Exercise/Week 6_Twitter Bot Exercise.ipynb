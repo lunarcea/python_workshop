{
 "cells": [
  {
   "cell_type": "markdown",
   "metadata": {},
   "source": [
    "# Social Media Automation\n",
    "\n",
    "This notebook introduces API integration and automation using Python.\n",
    "We'll explore how to create an automated posting system that can interact with social media platforms on your behalf.\n",
    "\n",
    "Key topics we'll cover:\n",
    "1. Working with API libraries\n",
    "2. Building an automated posting system\n",
    "3. Social media data retrieval and analysis"
   ]
  },
  {
   "cell_type": "markdown",
   "metadata": {},
   "source": [
    "### Four essential steps for working with social media APIs\n",
    "1. Import the necessary Python package\n",
    "2. Configure authentication credentials\n",
    "3. Create an API connection object\n",
    "4. Use the API object to make platform requests"
   ]
  },
  {
   "cell_type": "code",
   "execution_count": 1,
   "metadata": {},
   "outputs": [
    {
     "ename": "ModuleNotFoundError",
     "evalue": "No module named 'tweepy'",
     "output_type": "error",
     "traceback": [
      "\u001b[1;31m---------------------------------------------------------------------------\u001b[0m",
      "\u001b[1;31mModuleNotFoundError\u001b[0m                       Traceback (most recent call last)",
      "Cell \u001b[1;32mIn[1], line 4\u001b[0m\n\u001b[0;32m      1\u001b[0m \u001b[38;5;66;03m# This library simplifies social media API interactions\u001b[39;00m\n\u001b[0;32m      2\u001b[0m \u001b[38;5;66;03m# Installation: conda install -c conda-forge api_library\u001b[39;00m\n\u001b[1;32m----> 4\u001b[0m \u001b[38;5;28;01mimport\u001b[39;00m\u001b[38;5;250m \u001b[39m\u001b[38;5;21;01mtweepy\u001b[39;00m\n\u001b[0;32m      6\u001b[0m \u001b[38;5;66;03m# Your authentication credentials should be kept secure\u001b[39;00m\n\u001b[0;32m      7\u001b[0m \u001b[38;5;66;03m# Never commit these to public repositories\u001b[39;00m\n\u001b[0;32m      8\u001b[0m client_key \u001b[38;5;241m=\u001b[39m \u001b[38;5;124m\"\u001b[39m\u001b[38;5;124mYOUR_KEY_HERE\u001b[39m\u001b[38;5;124m\"\u001b[39m\n",
      "\u001b[1;31mModuleNotFoundError\u001b[0m: No module named 'tweepy'"
     ]
    }
   ],
   "source": [
    "# This library simplifies social media API interactions\n",
    "# Installation: conda install -c conda-forge api_library\n",
    "\n",
    "import tweepy\n",
    "\n",
    "# Your authentication credentials should be kept secure\n",
    "# Never commit these to public repositories\n",
    "client_key = \"YOUR_KEY_HERE\"\n",
    "client_secret = \"YOUR_SECRET_HERE\"\n",
    "access_key = \"YOUR_ACCESS_KEY\"\n",
    "access_secret = \"YOUR_ACCESS_SECRET\"\n",
    "\n",
    "# Establish authentication connection\n",
    "auth = tweepy.OAuthHandler(client_key, client_secret)\n",
    "auth.set_access_token(access_key, access_secret)\n",
    "\n",
    "# Create API connection object\n",
    "# We'll use this for all platform interactions\n",
    "api = tweepy.API(auth)"
   ]
  },
  {
   "cell_type": "markdown",
   "metadata": {},
   "source": [
    "### Creating time-based automated content\n",
    "Let's build a system that posts different content based on the current day of the week, using conditional logic."
   ]
  },
  {
   "cell_type": "code",
   "execution_count": 2,
   "metadata": {},
   "outputs": [
    {
     "name": "stdout",
     "output_type": "stream",
     "text": [
      "0\n"
     ]
    }
   ],
   "source": [
    "# This module provides date and time functionality\n",
    "# We'll use it to determine the current day of the week\n",
    "import datetime\n",
    "\n",
    "# Get numeric day of week (0 = Monday, 6 = Sunday)\n",
    "current_day = datetime.date.today().weekday()\n",
    "print(current_day)"
   ]
  },
  {
   "cell_type": "code",
   "execution_count": 3,
   "metadata": {},
   "outputs": [
    {
     "name": "stdout",
     "output_type": "stream",
     "text": [
      "0\n",
      "Starting the week with positive energy! #MondayMotivation\n"
     ]
    }
   ],
   "source": [
    "# Implementation using if statements\n",
    "# First, determine which day of the week it is\n",
    "day_index = datetime.date.today().weekday()\n",
    "print(day_index)\n",
    "\n",
    "# Create different messages for each day\n",
    "if day_index == 0:\n",
    "    message = \"Starting the week with positive energy! #MondayMotivation\"\n",
    "if day_index == 1:\n",
    "    message = \"Taking on Tuesday's challenges one step at a time.\"\n",
    "if day_index == 2:\n",
    "    message = \"Halfway through the week! #WednesdayWisdom\"\n",
    "if day_index == 3:\n",
    "    message = \"One day closer to the weekend! #ThursdayThoughts\"\n",
    "if day_index == 4:\n",
    "    message = \"Weekend vibes beginning! #FridayFeeling\"\n",
    "if day_index == 5:\n",
    "    message = \"Making the most of Saturday adventures!\"\n",
    "if day_index == 6:\n",
    "    message = \"Sunday: perfect for reflection and preparation.\"\n",
    "\n",
    "# In a live system, this would post the message\n",
    "# api.update_status(message)\n",
    "print(message)"
   ]
  },
  {
   "cell_type": "code",
   "execution_count": 4,
   "metadata": {},
   "outputs": [
    {
     "name": "stdout",
     "output_type": "stream",
     "text": [
      "Starting the week with positive energy! #MondayMotivation\n"
     ]
    }
   ],
   "source": [
    "# A more efficient dictionary-based approach\n",
    "# This works like a switch-case statement\n",
    "\n",
    "day_messages = {\n",
    "    0: \"Starting the week with positive energy! #MondayMotivation\",\n",
    "    1: \"Taking on Tuesday's challenges one step at a time.\",\n",
    "    2: \"Halfway through the week! #WednesdayWisdom\",\n",
    "    3: \"One day closer to the weekend! #ThursdayThoughts\",\n",
    "    4: \"Weekend vibes beginning! #FridayFeeling\",\n",
    "    5: \"Making the most of Saturday adventures!\",\n",
    "    6: \"Sunday: perfect for reflection and preparation.\"\n",
    "}\n",
    "\n",
    "message = day_messages.get(day_index)\n",
    "print(message)"
   ]
  },
  {
   "cell_type": "code",
   "execution_count": 5,
   "metadata": {},
   "outputs": [],
   "source": [
    "# Wrapping everything in a reusable function\n",
    "\n",
    "def create_daily_post():\n",
    "    day_index = datetime.date.today().weekday()\n",
    "    day_messages = {\n",
    "        0: \"Starting the week with positive energy! #MondayMotivation\",\n",
    "        1: \"Taking on Tuesday's challenges one step at a time.\",\n",
    "        2: \"Halfway through the week! #WednesdayWisdom\",\n",
    "        3: \"One day closer to the weekend! #ThursdayThoughts\",\n",
    "        4: \"Weekend vibes beginning! #FridayFeeling\",\n",
    "        5: \"Making the most of Saturday adventures!\",\n",
    "        6: \"Sunday: perfect for reflection and preparation.\"\n",
    "    }\n",
    "    \n",
    "    message = day_messages.get(day_index)\n",
    "    \n",
    "    # For actual deployment, uncomment:\n",
    "    # api.update_status(message)\n",
    "    print(message)"
   ]
  },
  {
   "cell_type": "code",
   "execution_count": 6,
   "metadata": {},
   "outputs": [
    {
     "name": "stdout",
     "output_type": "stream",
     "text": [
      "Starting the week with positive energy! #MondayMotivation\n"
     ]
    }
   ],
   "source": [
    "create_daily_post()"
   ]
  },
  {
   "cell_type": "markdown",
   "metadata": {},
   "source": [
    "### Retrieving Platform Content\n",
    "Next, we'll explore how to search for specific content using hashtags or keywords, which can be useful for research or engagement strategies."
   ]
  },
  {
   "cell_type": "code",
   "execution_count": 7,
   "metadata": {},
   "outputs": [],
   "source": [
    "# Define search parameters\n",
    "search_term = \"#DataScience\"\n",
    "start_date = \"2023-03-01\""
   ]
  },
  {
   "cell_type": "code",
   "execution_count": 8,
   "metadata": {},
   "outputs": [
    {
     "name": "stdout",
     "output_type": "stream",
     "text": [
      "Search demonstration (would connect to API in production)\n"
     ]
    }
   ],
   "source": [
    "# Retrieve content using cursor-based pagination\n",
    "# This allows efficient handling of large result sets\n",
    "\n",
    "try:\n",
    "    # In a live environment, this would fetch actual results\n",
    "    results = tweepy.Cursor(api.search,\n",
    "                        q=search_term,\n",
    "                        lang=\"en\",\n",
    "                        since=start_date).items(10)\n",
    "    \n",
    "    # The results would be an iterator of content items\n",
    "    print(\"Search query configured successfully\")\n",
    "except:\n",
    "    print(\"Search demonstration (would connect to API in production)\")"
   ]
  },
  {
   "cell_type": "markdown",
   "metadata": {},
   "source": [
    "### Working with Retrieved Data\n",
    "The search results provide various data points including:\n",
    "1. The content text\n",
    "2. Creator information\n",
    "3. Posting timestamp\n",
    "4. Geographic information (when available)\n",
    "5. Engagement metrics\n",
    "\n",
    "This data can be processed with techniques we've learned previously."
   ]
  },
  {
   "cell_type": "code",
   "execution_count": 9,
   "metadata": {},
   "outputs": [
    {
     "name": "stdout",
     "output_type": "stream",
     "text": [
      "Data processing demonstration (would connect to API in production)\n"
     ]
    }
   ],
   "source": [
    "# Example of how to process results (in a live environment)\n",
    "# Using list comprehension for concise data extraction\n",
    "\n",
    "try:\n",
    "    # Get the text content from each result\n",
    "    content_texts = [item.text for item in results]\n",
    "    \n",
    "    # Get creator usernames\n",
    "    usernames = [item.user.screen_name for item in results]\n",
    "    \n",
    "    # Get location data when available\n",
    "    locations = [item.user.location for item in results]\n",
    "    \n",
    "    print(\"Data extraction would be performed here\")\n",
    "except:\n",
    "    print(\"Data processing demonstration (would connect to API in production)\")"
   ]
  },
  {
   "cell_type": "markdown",
   "metadata": {},
   "source": [
    "### Practice Challenge\n",
    "Try creating a pandas DataFrame that combines the different data elements from search results:\n",
    "- Creator username\n",
    "- Location (if available)\n",
    "- Post content\n",
    "- Timestamp\n",
    "- Engagement metrics\n",
    "\n",
    "This structured format makes further analysis much easier."
   ]
  },
  {
   "cell_type": "code",
   "execution_count": null,
   "metadata": {},
   "outputs": [],
   "source": []
  }
 ],
 "metadata": {
  "kernelspec": {
   "display_name": "Python 3",
   "language": "python",
   "name": "python3"
  },
  "language_info": {
   "codemirror_mode": {
    "name": "ipython",
    "version": 3
   },
   "file_extension": ".py",
   "mimetype": "text/x-python",
   "name": "python",
   "nbconvert_exporter": "python",
   "pygments_lexer": "ipython3",
   "version": "3.8.5"
  }
 },
 "nbformat": 4,
 "nbformat_minor": 4
}
