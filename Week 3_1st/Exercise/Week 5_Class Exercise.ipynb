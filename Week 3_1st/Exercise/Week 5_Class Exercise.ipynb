{
 "cells": [
  {
   "cell_type": "markdown",
   "metadata": {},
   "source": [
    "## Python Object-Oriented Programming Exercise\n",
    "\n",
    "This exercise will help you understand object-oriented programming by creating a custom Learner class.\n",
    "\n",
    "Your task is to implement a Learner class with these specifications:\n",
    "\n",
    "* Constructor that accepts Institution Name, Learner's First Name and Last Name\n",
    "* Methods to modify any of these attributes\n",
    "* String representation that formats data as \"{FirstName} {LastName} attends {InstitutionName}\"\n",
    "\n",
    "Feel free to use Python documentation or online resources. Problem-solving through research is a crucial programming skill!"
   ]
  },
  {
   "cell_type": "code",
   "execution_count": 1,
   "metadata": {},
   "outputs": [],
   "source": [
    "#Define your Learner class below\n",
    "\"\"\"\n",
    "Basic class template for reference:\n",
    "\n",
    "class ClassName:\n",
    "    def __init__(self):\n",
    "        pass\n",
    "\"\"\"\n",
    "\n",
    "class Learner:\n",
    "    \n",
    "    def __init__(self, institutionName, firstName, lastName):\n",
    "        self.institutionName = institutionName\n",
    "        self.firstName = firstName\n",
    "        self.lastName = lastName\n",
    "    \n",
    "    def change_institution(self, new_institution):\n",
    "        self.institutionName = new_institution\n",
    "        return self\n",
    "    \n",
    "    def change_first_name(self, new_first_name):\n",
    "        self.firstName = new_first_name\n",
    "        return self\n",
    "    \n",
    "    def change_last_name(self, new_last_name):\n",
    "        self.lastName = new_last_name\n",
    "        return self\n",
    "    \n",
    "    def __str__(self):\n",
    "        return f\"{self.firstName} {self.lastName} attends {self.institutionName}\""
   ]
  },
  {
   "cell_type": "code",
   "execution_count": 2,
   "metadata": {},
   "outputs": [
    {
     "name": "stdout",
     "output_type": "stream",
     "text": [
      "Alex Johnson attends Digital Institute\n"
     ]
    }
   ],
   "source": [
    "# Test your implementation\n",
    "\n",
    "learner1 = Learner('Academy of Learning', 'Alex', 'Johnson')\n",
    "learner1.change_institution('Digital Institute')\n",
    "print(str(learner1))"
   ]
  },
  {
   "cell_type": "markdown",
   "metadata": {},
   "source": [
    "### Extension Challenges\n",
    "\n",
    "Before attempting these challenges, consider what other features a Learner might need. You could add enrollment status, graduation year, courses taken, etc. Make it your own!\n",
    "\n",
    "Here are some structured challenges to extend your implementation:\n",
    "\n",
    "#### Challenge 1: Track total learners with class attributes\n",
    "Add a class-wide counter for learners and assign each learner a unique ID.\n",
    "\n",
    "#### Challenge 2: Add unique learner behaviors\n",
    "Implement methods that represent learner activities. Perhaps they can select courses, study, or declare a major?\n",
    "\n",
    "#### Challenge 3: Create an AdvancedLearner subclass\n",
    "Create a subclass that inherits from Learner but has additional attributes and methods specific to advanced studies.\n",
    "\n",
    "#### Challenge 4: Implement an Educational Institution class\n",
    "Create a separate class that manages Learners, including enrollment, graduation, and other institutional functions."
   ]
  },
  {
   "cell_type": "code",
   "execution_count": 4,
   "metadata": {},
   "outputs": [],
   "source": [
    "class Learner:\n",
    "    \n",
    "    learner_count = 0\n",
    "    \n",
    "    def __init__(self, institutionName, firstName, lastName):\n",
    "        self.institutionName = institutionName\n",
    "        self.firstName = firstName\n",
    "        self.lastName = lastName\n",
    "        Learner.learner_count += 1\n",
    "        self.learnerID = Learner.learner_count\n",
    "    \n",
    "    def change_institution(self, new_institution):\n",
    "        self.institutionName = new_institution\n",
    "        return self\n",
    "    \n",
    "    def change_first_name(self, new_first_name):\n",
    "        self.firstName = new_first_name\n",
    "        return self\n",
    "    \n",
    "    def change_last_name(self, new_last_name):\n",
    "        self.lastName = new_last_name\n",
    "        return self\n",
    "        \n",
    "    def set_motto(self, motto):\n",
    "        self.motto = motto\n",
    "    \n",
    "    def recite_motto(self):\n",
    "        if hasattr(self, 'motto'):\n",
    "            print(self.motto)\n",
    "        else:\n",
    "            print(\"No motto set yet\")\n",
    "    \n",
    "    def __str__(self):\n",
    "        return f\"{self.firstName} {self.lastName} attends {self.institutionName}\""
   ]
  },
  {
   "cell_type": "code",
   "execution_count": 5,
   "metadata": {},
   "outputs": [
    {
     "name": "stdout",
     "output_type": "stream",
     "text": [
      "Total learners: 3\n",
      "Learner 1 ID: 1\n",
      "Learner 3 ID: 3\n",
      "Learning never exhausts the mind.\n"
     ]
    }
   ],
   "source": [
    "# Test the enhanced Learner class\n",
    "\n",
    "learner1 = Learner('Academy of Learning', 'Alex', 'Johnson')\n",
    "learner2 = Learner('Academy of Learning', 'Taylor', 'Smith')\n",
    "learner3 = Learner('Academy of Learning', 'Jordan', 'Williams')\n",
    "\n",
    "print(f\"Total learners: {Learner.learner_count}\")\n",
    "print(f\"Learner 1 ID: {learner1.learnerID}\")\n",
    "print(f\"Learner 3 ID: {learner3.learnerID}\")\n",
    "\n",
    "learner1.set_motto(\"Learning never exhausts the mind.\")\n",
    "learner1.recite_motto()"
   ]
  },
  {
   "cell_type": "code",
   "execution_count": 6,
   "metadata": {},
   "outputs": [],
   "source": [
    "class AdvancedLearner(Learner):\n",
    "    \n",
    "    advanced_count = 0\n",
    "    \n",
    "    def __init__(self, institutionName, programType, firstName, lastName):\n",
    "        super().__init__(institutionName, firstName, lastName)\n",
    "        self.programType = programType\n",
    "        self.research_areas = []\n",
    "        AdvancedLearner.advanced_count += 1\n",
    "    \n",
    "    def add_research_area(self, area):\n",
    "        self.research_areas.append(area)\n",
    "        \n",
    "    def describe_program(self):\n",
    "        print(f\"I am enrolled in a {self.programType} program\")\n",
    "        \n",
    "    def list_research(self):\n",
    "        if self.research_areas:\n",
    "            print(f\"My research areas: {', '.join(self.research_areas)}\")\n",
    "        else:\n",
    "            print(\"No research areas defined yet\")"
   ]
  },
  {
   "cell_type": "code",
   "execution_count": 7,
   "metadata": {},
   "outputs": [
    {
     "name": "stdout",
     "output_type": "stream",
     "text": [
      "Sam Rivera attends Research University\n",
      "I am enrolled in a Doctoral program\n",
      "My research areas: Machine Learning, Natural Language Processing\n",
      "Regular learners: 4\n",
      "Advanced learners: 1\n"
     ]
    }
   ],
   "source": [
    "advanced1 = AdvancedLearner('Research University', 'Doctoral', 'Sam', 'Rivera')\n",
    "\n",
    "print(str(advanced1))\n",
    "advanced1.describe_program()\n",
    "\n",
    "advanced1.add_research_area(\"Machine Learning\")\n",
    "advanced1.add_research_area(\"Natural Language Processing\")\n",
    "advanced1.list_research()\n",
    "\n",
    "print(f\"Regular learners: {Learner.learner_count}\")\n",
    "print(f\"Advanced learners: {AdvancedLearner.advanced_count}\")"
   ]
  },
  {
   "cell_type": "code",
   "execution_count": 8,
   "metadata": {},
   "outputs": [],
   "source": [
    "class EducationalInstitution:\n",
    "    \n",
    "    def __init__(self, name):\n",
    "        self.name = name\n",
    "        self.enrolled_learners = []\n",
    "        self.alumni = []\n",
    "        self.departments = []\n",
    "    \n",
    "    def enroll_learner(self, learner):\n",
    "        learner.change_institution(self.name)\n",
    "        self.enrolled_learners.append(learner)\n",
    "        return self\n",
    "    \n",
    "    def graduate_learner(self, learner):\n",
    "        if learner in self.enrolled_learners:\n",
    "            self.enrolled_learners.remove(learner)\n",
    "            self.alumni.append(learner)\n",
    "            return True\n",
    "        return False\n",
    "    \n",
    "    def add_department(self, department_name):\n",
    "        self.departments.append(department_name)\n",
    "    \n",
    "    def list_current_learners(self):\n",
    "        for learner in self.enrolled_learners:\n",
    "            print(str(learner))"
   ]
  },
  {
   "cell_type": "code",
   "execution_count": 9,
   "metadata": {},
   "outputs": [
    {
     "name": "stdout",
     "output_type": "stream",
     "text": [
      "Current Learners:\n",
      "Robin Chen attends Global University\n",
      "Casey Park attends Global University\n",
      "Sam Rivera attends Global University\n",
      "\n",
      "After graduation:\n",
      "Casey Park attends Global University\n",
      "Sam Rivera attends Global University\n",
      "Number of alumni: 1\n"
     ]
    }
   ],
   "source": [
    "university = EducationalInstitution(\"Global University\")\n",
    "university.add_department(\"Computer Science\")\n",
    "university.add_department(\"Mathematics\")\n",
    "\n",
    "learner4 = Learner('Old College', 'Robin', 'Chen')\n",
    "learner5 = Learner('Old College', 'Casey', 'Park')\n",
    "\n",
    "university.enroll_learner(learner4)\n",
    "university.enroll_learner(learner5)\n",
    "university.enroll_learner(advanced1)\n",
    "\n",
    "print(\"Current Learners:\")\n",
    "university.list_current_learners()\n",
    "\n",
    "university.graduate_learner(learner4)\n",
    "print(\"\\nAfter graduation:\")\n",
    "university.list_current_learners()\n",
    "print(f\"Number of alumni: {len(university.alumni)}\")"
   ]
  },
  {
   "cell_type": "code",
   "execution_count": null,
   "metadata": {},
   "outputs": [],
   "source": []
  }
 ],
 "metadata": {
  "kernelspec": {
   "display_name": "Python 3",
   "language": "python",
   "name": "python3"
  },
  "language_info": {
   "codemirror_mode": {
    "name": "ipython",
    "version": 3
   },
   "file_extension": ".py",
   "mimetype": "text/x-python",
   "name": "python",
   "nbconvert_exporter": "python",
   "pygments_lexer": "ipython3",
   "version": "3.8.5"
  }
 },
 "nbformat": 4,
 "nbformat_minor": 4
}
