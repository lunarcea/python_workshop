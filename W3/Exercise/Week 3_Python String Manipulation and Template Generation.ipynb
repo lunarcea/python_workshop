{
 "cells": [
  {
   "cell_type": "markdown",
   "metadata": {},
   "source": [
    "# Python String Fundamentals and Template Generation\n",
    "\n",
    "This notebook explores two related concepts in Python:\n",
    "1. Working with string quotes and escape characters\n",
    "2. Building a personalized message generator using string formatting\n",
    "\n",
    "These techniques demonstrate Python's powerful text processing capabilities, from basic syntax to practical applications."
   ]
  },
  {
   "cell_type": "markdown",
   "metadata": {},
   "source": [
    "## Part 1: Understanding Python String Quotations\n",
    "\n",
    "Python allows strings to be defined using either single quotes (`'`) or double quotes (`\"`). Let's explore when to use each and how they behave."
   ]
  },
  {
   "cell_type": "code",
   "execution_count": 1,
   "metadata": {},
   "outputs": [
    {
     "name": "stdout",
     "output_type": "stream",
     "text": [
      "Python programming\n",
      "Python programming\n",
      "Are they equal? True\n"
     ]
    }
   ],
   "source": [
    "# Both single and double quotes create valid string objects\n",
    "single_quoted = 'Python programming'\n",
    "double_quoted = \"Python programming\"\n",
    "\n",
    "print(single_quoted)\n",
    "print(double_quoted)\n",
    "print(f\"Are they equal? {single_quoted == double_quoted}\")"
   ]
  },
  {
   "cell_type": "markdown",
   "metadata": {},
   "source": [
    "### When to Choose Single vs. Double Quotes\n",
    "\n",
    "The main advantage of having both options is to handle quotation marks within strings without needing escape characters."
   ]
  },
  {
   "cell_type": "code",
   "execution_count": 2,
   "metadata": {},
   "outputs": [
    {
     "name": "stdout",
     "output_type": "stream",
     "text": [
      "The instructor said, 'Always comment your code!'\n",
      "She replied, \"That makes perfect sense.\"\n"
     ]
    }
   ],
   "source": [
    "# When a string contains single quotes, using double quotes for the string is cleaner:\n",
    "dialogue_1 = \"The instructor said, 'Always comment your code!'\"\n",
    "print(dialogue_1)\n",
    "\n",
    "# When a string contains double quotes, using single quotes is cleaner:\n",
    "dialogue_2 = 'She replied, \"That makes perfect sense.\"'\n",
    "print(dialogue_2)"
   ]
  },
  {
   "cell_type": "markdown",
   "metadata": {},
   "source": [
    "### Using Escape Characters\n",
    "\n",
    "When your string contains both single and double quotes, you'll need to use escape characters (`\\`) regardless of which quote style you choose."
   ]
  },
  {
   "cell_type": "code",
   "execution_count": 3,
   "metadata": {},
   "outputs": [
    {
     "name": "stdout",
     "output_type": "stream",
     "text": [
      "The sign read: \"Don't enter unless you're authorized.\"\n",
      "The sign read: \"Don't enter unless you're authorized.\"\n",
      "Line one\n",
      "Line two\n",
      "Column one\tColumn two\n",
      "This text includes a backslash: \\\n"
     ]
    }
   ],
   "source": [
    "# Example with both quote types - escaping is necessary\n",
    "complex_dialogue = 'The sign read: \"Don\\'t enter unless you\\'re authorized.\"'\n",
    "print(complex_dialogue)\n",
    "\n",
    "# Same string with double quotes outside\n",
    "complex_dialogue_2 = \"The sign read: \\\"Don't enter unless you're authorized.\\\"\"\n",
    "print(complex_dialogue_2)\n",
    "\n",
    "# Demonstration of other common escape characters\n",
    "print(\"Line one\\nLine two\")  # \\n creates a new line\n",
    "print(\"Column one\\tColumn two\")  # \\t creates a tab\n",
    "print(\"This text includes a backslash: \\\\\")  # \\\\ prints a literal backslash"
   ]
  },
  {
   "cell_type": "markdown",
   "metadata": {},
   "source": [
    "## Part 2: Event Invitation Generator\n",
    "\n",
    "Now we'll create a practical application of string formatting: a customizable invitation generator that creates personalized invitations for multiple recipients.\n",
    "\n",
    "This template-based system lets you:\n",
    "1. Define a guest list of recipients\n",
    "2. Specify event details once \n",
    "3. Generate unique invitations for each recipient\n",
    "4. Optionally add creative formatting to the details"
   ]
  },
  {
   "cell_type": "code",
   "execution_count": 4,
   "metadata": {},
   "outputs": [],
   "source": [
    "import random\n",
    "\n",
    "def create_invitations(guest_list, event_type, event_date, event_location, items_to_bring):\n",
    "    \"\"\"\n",
    "    A versatile invitation generator that creates personalized event invitations.\n",
    "    \n",
    "    Parameters:\n",
    "        guest_list (list/tuple): Names of people to invite\n",
    "        event_type (str): Type of event (party, gathering, meeting, etc.)\n",
    "        event_date (str): Date of the event\n",
    "        event_location (str): Location where the event will be held\n",
    "        items_to_bring (list): Items guests should bring\n",
    "    \"\"\"\n",
    "    # Helper function to format list items with commas and \"and\"\n",
    "    def format_list_items(item_list):\n",
    "        if len(item_list) == 0:\n",
    "            return \"nothing\"\n",
    "        elif len(item_list) == 1:\n",
    "            return item_list[0]\n",
    "        else:\n",
    "            return \", \".join(item_list[:-1]) + f\", and {item_list[-1]}\"\n",
    "    \n",
    "    # Helper function to select a random item from a list\n",
    "    def get_random_item(item_list):\n",
    "        return random.choice(item_list)\n",
    "    \n",
    "    # Apply a simple text transformation for creative effect\n",
    "    # In this case, reverse the date and location strings\n",
    "    transformed_date = event_date[::-1]\n",
    "    transformed_location = event_location[::-1]\n",
    "    \n",
    "    # Define the invitation template with placeholders\n",
    "    invitation_template = \"\"\"\n",
    "    =============================\n",
    "    Dear {guest},\n",
    "    \n",
    "    You're invited to join us for a special {event}!\n",
    "    \n",
    "    When: {date}\n",
    "    Where: {location}\n",
    "    \n",
    "    Please bring: {items}\n",
    "    \n",
    "    We hope to see you there!\n",
    "    Best regards,\n",
    "    The Event Team\n",
    "    =============================\n",
    "    \"\"\"\n",
    "    \n",
    "    # Generate an invitation for each guest\n",
    "    all_invitations = []\n",
    "    for guest in guest_list:\n",
    "        # Format the invitation with this guest's information\n",
    "        invitation = invitation_template.format(\n",
    "            guest=guest,\n",
    "            event=event_type,\n",
    "            date=transformed_date,\n",
    "            location=transformed_location,\n",
    "            items=format_list_items(items_to_bring)\n",
    "        )\n",
    "        \n",
    "        # Print and store the invitation\n",
    "        print(invitation)\n",
    "        all_invitations.append(invitation)\n",
    "    \n",
    "    return all_invitations"
   ]
  },
  {
   "cell_type": "code",
   "execution_count": 5,
   "metadata": {},
   "outputs": [
    {
     "name": "stdout",
     "output_type": "stream",
     "text": [
      "\n",
      "    =============================\n",
      "    Dear Alex,\n",
      "    \n",
      "    You're invited to join us for a special summer celebration!\n",
      "    \n",
      "    When: ht51 tsuguA\n",
      "    Where: kraP edisreviR\n",
      "    \n",
      "    Please bring: refreshments, blankets, sunscreen, games, and musical instruments\n",
      "    \n",
      "    We hope to see you there!\n",
      "    Best regards,\n",
      "    The Event Team\n",
      "    =============================\n",
      "    \n",
      "\n",
      "    =============================\n",
      "    Dear Taylor & Family,\n",
      "    \n",
      "    You're invited to join us for a special summer celebration!\n",
      "    \n",
      "    When: ht51 tsuguA\n",
      "    Where: kraP edisreviR\n",
      "    \n",
      "    Please bring: refreshments, blankets, sunscreen, games, and musical instruments\n",
      "    \n",
      "    We hope to see you there!\n",
      "    Best regards,\n",
      "    The Event Team\n",
      "    =============================\n",
      "    \n",
      "\n",
      "    =============================\n",
      "    Dear Jordan,\n",
      "    \n",
      "    You're invited to join us for a special summer celebration!\n",
      "    \n",
      "    When: ht51 tsuguA\n",
      "    Where: kraP edisreviR\n",
      "    \n",
      "    Please bring: refreshments, blankets, sunscreen, games, and musical instruments\n",
      "    \n",
      "    We hope to see you there!\n",
      "    Best regards,\n",
      "    The Event Team\n",
      "    =============================\n",
      "    \n",
      "\n",
      "    =============================\n",
      "    Dear Morgan,\n",
      "    \n",
      "    You're invited to join us for a special summer celebration!\n",
      "    \n",
      "    When: ht51 tsuguA\n",
      "    Where: kraP edisreviR\n",
      "    \n",
      "    Please bring: refreshments, blankets, sunscreen, games, and musical instruments\n",
      "    \n",
      "    We hope to see you there!\n",
      "    Best regards,\n",
      "    The Event Team\n",
      "    =============================\n",
      "    \n",
      "\n",
      "    =============================\n",
      "    Dear Casey and friends,\n",
      "    \n",
      "    You're invited to join us for a special summer celebration!\n",
      "    \n",
      "    When: ht51 tsuguA\n",
      "    Where: kraP edisreviR\n",
      "    \n",
      "    Please bring: refreshments, blankets, sunscreen, games, and musical instruments\n",
      "    \n",
      "    We hope to see you there!\n",
      "    Best regards,\n",
      "    The Event Team\n",
      "    =============================\n",
      "    \n",
      "\n",
      "    =============================\n",
      "    Dear Riley,\n",
      "    \n",
      "    You're invited to join us for a special summer celebration!\n",
      "    \n",
      "    When: ht51 tsuguA\n",
      "    Where: kraP edisreviR\n",
      "    \n",
      "    Please bring: refreshments, blankets, sunscreen, games, and musical instruments\n",
      "    \n",
      "    We hope to see you there!\n",
      "    Best regards,\n",
      "    The Event Team\n",
      "    =============================\n",
      "    \n",
      "Successfully created 6 invitations!\n"
     ]
    }
   ],
   "source": [
    "# Test the invitation generator with sample data\n",
    "\n",
    "# Define our event information\n",
    "guests = [\"Alex\", \"Taylor & Family\", \"Jordan\", \"Morgan\", \"Casey and friends\", \"Riley\"]\n",
    "event_name = \"summer celebration\"\n",
    "date = \"August 15th\"\n",
    "location = \"Riverside Park\"\n",
    "items = [\"refreshments\", \"blankets\", \"sunscreen\", \"games\", \"musical instruments\"]\n",
    "\n",
    "# Generate the invitations\n",
    "invitations = create_invitations(guests, event_name, date, location, items)\n",
    "\n",
    "# Verification (optional)\n",
    "print(f\"Successfully created {len(invitations)} invitations!\")"
   ]
  },
  {
   "cell_type": "markdown",
   "metadata": {},
   "source": [
    "## Expanded Features & Challenges\n",
    "\n",
    "Try enhancing the invitation generator with these additional features:\n",
    "\n",
    "1. **Multiple Templates**: Create different invitation styles and randomly assign them\n",
    "2. **Personalization**: Add conditional text based on the guest name\n",
    "3. **Custom Requests**: Specify different items for different guests\n",
    "4. **Digital Formatting**: Add HTML or markdown formatting for digital invitations\n",
    "5. **QR Code Generation**: Include a QR code link to an event website\n",
    "\n",
    "These enhancements would demonstrate more advanced string manipulation and formatting techniques in Python."
   ]
  },
  {
   "cell_type": "markdown",
   "metadata": {},
   "source": [
    "## Creating File Attachments\n",
    "\n",
    "To create a full .ipynb file in one step, you could use a Python script to generate the notebook file programmatically using the `nbformat` library:\n",
    "\n",
    "```python\n",
    "import nbformat as nbf\n",
    "\n",
    "nb = nbf.v4.new_notebook()\n",
    "nb['cells'] = [\n",
    "    nbf.v4.new_markdown_cell(\"# My Notebook Title\"),\n",
    "    nbf.v4.new_code_cell(\"print('Hello world')\"),\n",
    "    # Add more cells as needed\n",
    "]\n",
    "\n",
    "with open('my_notebook.ipynb', 'w') as f:\n",
    "    nbf.write(nb, f)"
   ]
  },
  {
   "cell_type": "code",
   "execution_count": null,
   "metadata": {},
   "outputs": [],
   "source": []
  }
 ],
 "metadata": {
  "kernelspec": {
   "display_name": "Python 3",
   "language": "python",
   "name": "python3"
  },
  "language_info": {
   "codemirror_mode": {
    "name": "ipython",
    "version": 3
   },
   "file_extension": ".py",
   "mimetype": "text/x-python",
   "name": "python",
   "nbconvert_exporter": "python",
   "pygments_lexer": "ipython3",
   "version": "3.8.5"
  }
 },
 "nbformat": 4,
 "nbformat_minor": 4
}
