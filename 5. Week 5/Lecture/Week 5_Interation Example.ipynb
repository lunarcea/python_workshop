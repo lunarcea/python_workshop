{
 "cells": [
  {
   "cell_type": "markdown",
   "metadata": {},
   "source": [
    "## Understanding Object Inheritance in Python\n",
    "\n",
    "Inheritance is a fundamental concept in object-oriented programming that allows new classes to adopt attributes and methods from existing classes. This enables code reuse and establishes relationships between classes.\n",
    "\n",
    "When we create a new class based on an existing one:\n",
    "- The new class (subclass) inherits all capabilities of the original class (base class)\n",
    "- The subclass can modify inherited behavior or add new functionality\n",
    "- This creates a hierarchical relationship between classes\n",
    "\n",
    "Let's explore inheritance by creating a system for classifying objects with shared characteristics."
   ]
  },
  {
   "cell_type": "code",
   "execution_count": 1,
   "metadata": {},
   "outputs": [],
   "source": [
    "class ParentClass:\n",
    "    def __init__(self, identifier):\n",
    "        self.identifier = identifier    \n",
    "\n",
    "class ChildClass1(ParentClass):\n",
    "    def __init__(self, identifier):\n",
    "        # The super() function calls the parent class constructor\n",
    "        super().__init__(identifier)\n",
    "\n",
    "class ChildClass2(ParentClass):\n",
    "    # This child class doesn't accept parameters in its constructor\n",
    "    def __init__(self):\n",
    "        pass\n",
    "    \n",
    "def check_parent_relationship(obj):\n",
    "    \"\"\"Check if an object is either a ParentClass or inherits from it\"\"\"\n",
    "    if type(obj) is ParentClass:\n",
    "        return True\n",
    "    if issubclass(type(obj), ParentClass):\n",
    "        return True\n",
    "    return False"
   ]
  },
  {
   "cell_type": "code",
   "execution_count": 2,
   "metadata": {},
   "outputs": [
    {
     "name": "stdout",
     "output_type": "stream",
     "text": [
      "True\n",
      "True\n",
      "True\n"
     ]
    }
   ],
   "source": [
    "# Create instances of each class\n",
    "base_instance = ParentClass(\"Base\")\n",
    "child1_instance = ChildClass1(\"Child1\")\n",
    "child2_instance = ChildClass2()\n",
    "\n",
    "# Verify inheritance relationships\n",
    "print(check_parent_relationship(base_instance))\n",
    "print(check_parent_relationship(child1_instance))\n",
    "print(check_parent_relationship(child2_instance))"
   ]
  },
  {
   "cell_type": "markdown",
   "metadata": {},
   "source": [
    "## Chess Piece Inheritance Model\n",
    "\n",
    "Next, we'll build a more comprehensive inheritance example using chess pieces. Each chess piece shares common attributes (position, color) but has unique movement patterns.\n",
    "\n",
    "A chess set provides an excellent example for inheritance because:\n",
    "- All pieces share certain characteristics (base class)\n",
    "- Each piece type has specific behaviors (subclasses)\n",
    "- The relationship between pieces is clearly hierarchical"
   ]
  },
  {
   "cell_type": "markdown",
   "metadata": {},
   "source": [
    "'''\n",
    "We'll develop a base ChessPiece class that defines common attributes and behaviors,\n",
    "then create specific subclasses for each type of chess piece (Pawn, Rook, Knight, etc.)\n",
    "'''"
   ]
  },
  {
   "cell_type": "code",
   "execution_count": 4,
   "metadata": {},
   "outputs": [],
   "source": [
    "class ChessPiece:\n",
    "    \"\"\"Base class for all chess pieces\"\"\"\n",
    "    def __init__(self, color, position):\n",
    "        self.color = color  # 'white' or 'black'\n",
    "        self.position = position  # tuple (row, column)\n",
    "        self.has_moved = False\n",
    "    \n",
    "    def move(self, new_position):\n",
    "        \"\"\"Move the piece to a new position\"\"\"\n",
    "        if self.is_valid_move(new_position):\n",
    "            self.position = new_position\n",
    "            self.has_moved = True\n",
    "            return True\n",
    "        return False\n",
    "    \n",
    "    def is_valid_move(self, new_position):\n",
    "        \"\"\"Check if the move is valid for this piece\"\"\"\n",
    "        # Base class implementation - to be overridden by subclasses\n",
    "        return False\n",
    "\n",
    "class Pawn(ChessPiece):\n",
    "    \"\"\"Represents a pawn chess piece\"\"\"\n",
    "    def is_valid_move(self, new_position):\n",
    "        current_row, current_col = self.position\n",
    "        new_row, new_col = new_position\n",
    "        \n",
    "        # Direction depends on color\n",
    "        direction = 1 if self.color == 'white' else -1\n",
    "        \n",
    "        # Forward movement\n",
    "        if new_col == current_col:\n",
    "            # Single square forward\n",
    "            if new_row == current_row + direction:\n",
    "                return True\n",
    "            # Two squares forward from starting position\n",
    "            if not self.has_moved and new_row == current_row + 2*direction:\n",
    "                return True\n",
    "        \n",
    "        return False\n",
    "\n",
    "# Add more chess piece classes as needed (Rook, Knight, Bishop, etc.)"
   ]
  },
  {
   "cell_type": "code",
   "execution_count": null,
   "metadata": {},
   "outputs": [],
   "source": []
  }
 ],
 "metadata": {
  "kernelspec": {
   "display_name": "Python 3",
   "language": "python",
   "name": "python3"
  },
  "language_info": {
   "codemirror_mode": {
    "name": "ipython",
    "version": 3
   },
   "file_extension": ".py",
   "mimetype": "text/x-python",
   "name": "python",
   "nbconvert_exporter": "python",
   "pygments_lexer": "ipython3",
   "version": "3.8.5"
  }
 },
 "nbformat": 4,
 "nbformat_minor": 4
}
