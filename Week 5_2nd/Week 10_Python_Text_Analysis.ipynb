{
 "cells": [
  {
   "cell_type": "markdown",
   "metadata": {},
   "source": [
    "## Comment Analysis Tool\n",
    "\n",
    "In this notebook, we'll extract and analyze a single comment from our dataset to demonstrate text processing techniques. This approach allows us to examine the characteristics of user comments and perform detailed linguistics analysis on specific examples. [SOURCE](https://docs.python.org/3/howto/regex.html)"
   ]
  },
  {
   "cell_type": "code",
   "execution_count": 1,
   "metadata": {},
   "outputs": [],
   "source": [
    "# Import the re module-- we'll use this throughout the notebook\n",
    "import re"
   ]
  },
  {
   "cell_type": "markdown",
   "metadata": {},
   "source": [
    "<br>\n",
    "\n",
    "## First, an example\n",
    "\n",
    "Let's say we want to create a function that validates newschool email addresses.\n",
    "\n",
    "The function will return True if the address has the following features:<br>\n",
    "`five letters` + `three digits` + `@newschool.edu`\n",
    "\n",
    "Otherwise, it will return False."
   ]
  },
  {
   "cell_type": "code",
   "execution_count": 1,
   "metadata": {},
   "outputs": [
    {
     "ename": "IndentationError",
     "evalue": "expected an indented block (<ipython-input-1-06edc02cf629>, line 7)",
     "output_type": "error",
     "traceback": [
      "\u001b[1;36m  Cell \u001b[1;32mIn[1], line 7\u001b[1;36m\u001b[0m\n\u001b[1;33m    validateAddress('xxxxxxx@sookmyung.ac.kr')\u001b[0m\n\u001b[1;37m    ^\u001b[0m\n\u001b[1;31mIndentationError\u001b[0m\u001b[1;31m:\u001b[0m expected an indented block\n"
     ]
    }
   ],
   "source": [
    "# Without regular expressions\n",
    "\n",
    "def validateAddress(address):\n",
    "    # If address matches sookmyung.ac.kr template, then print match\n",
    "    # else print no match\n",
    "\n",
    "validateAddress('xxxxxxx@sookmyung.ac.kr')"
   ]
  },
  {
   "cell_type": "code",
   "execution_count": 3,
   "metadata": {},
   "outputs": [
    {
     "name": "stdout",
     "output_type": "stream",
     "text": [
      "match\n"
     ]
    }
   ],
   "source": [
    "# With regular expressions\n",
    "def validateAddress(address):\n",
    "    # If address matches newschool.edu template, then print match\n",
    "    # else print no match\n",
    "\n",
    "validateAddress('xxxxxxx@sookmyung.ac.kr')"
   ]
  },
  {
   "cell_type": "code",
   "execution_count": 4,
   "metadata": {},
   "outputs": [
    {
     "name": "stdout",
     "output_type": "stream",
     "text": [
      "match\n"
     ]
    }
   ],
   "source": [
    "# Regular expressions become very important when the pattern\n",
    "# increases in flexibility. For example, creating a generic\n",
    "# email validator.\n",
    "def validateAddress(address):\n",
    "    # If address matches any reasonable email template, then print match\n",
    "    # else print no match\n",
    "\n",
    "validateAddress('xxxxxxx@sookmyung.ac.kr')"
   ]
  },
  {
   "cell_type": "markdown",
   "metadata": {},
   "source": [
    "<br>\n",
    "\n",
    "## Writing regular expressions\n",
    "\n",
    "Regular expressions use `metacharacters`:\n",
    "\n",
    "`. ^ $ * + ? { } [ ] \\ | ( )`\n",
    "\n",
    "These metacharacters hold special meaning, giving regular expressions powerful flexibility compared to strings."
   ]
  },
  {
   "cell_type": "code",
   "execution_count": 5,
   "metadata": {},
   "outputs": [],
   "source": [
    "# Square brackets -> Sets of characters\n",
    "\n",
    "# Letters\n",
    "pattern = r\"[a-z]\" # All lowercase letters\n",
    "pattern = r\"[A-Z]\" # All uppercase letters\n",
    "pattern = r\"[A-z]\" # All letters (r\"[A-Za-z]\" also works)\n",
    "\n",
    "# Digits\n",
    "pattern = r\"[0-9]\" # All digits\n",
    "pattern = r\"[0-5]\" # All digits from 0 to 5\n",
    "\n",
    "# Custom set of characters\n",
    "pattern = r\"[A-z0-9]\" # All letters and digits\n",
    "pattern = r\"[AEIOUaeiou]\" # All vowels\n",
    "\n",
    "# NOT in set\n",
    "pattern = r\"[^aeiou]\" # Any symbol that is NOT a vowel\n",
    "pattern = r\"[^0-9]\" # Any symbol that is NOT a digit"
   ]
  },
  {
   "cell_type": "code",
   "execution_count": 6,
   "metadata": {},
   "outputs": [],
   "source": [
    "# Caret and dollar sign -> Beginning and end\n",
    "\n",
    "# At the beginning\n",
    "pattern = r\"^[A-z]\" # A letter at the beginning\n",
    "pattern = r\"^[0-9]\" # A number at the beginning\n",
    "\n",
    "# At the end\n",
    "pattern = r\"[A-z]$\" # A letter at the end\n",
    "pattern = r\"[0-9]$\" # A number at the end\n",
    "\n",
    "# Defining both beginning and end\n",
    "pattern = r\"^[A-z]$\" # Exactly one letter\n",
    "pattern = r\"^[0-9]$\" # Exactly one number"
   ]
  },
  {
   "cell_type": "code",
   "execution_count": 7,
   "metadata": {},
   "outputs": [],
   "source": [
    "# Curly brackets, asterisk, and question mark -> Repetition\n",
    "\n",
    "# Curly brackets\n",
    "pattern = r\"[A-z]{3}\" # Exactly three letters\n",
    "pattern = r\"[A-z]{3,5}\" # Between three and five letters\n",
    "\n",
    "# Asterisk\n",
    "pattern = r\"[A-z]*\" # Zero or more letters\n",
    "\n",
    "# Question mark\n",
    "pattern = r\"[A-z]?\" # One or more letters"
   ]
  },
  {
   "cell_type": "code",
   "execution_count": 8,
   "metadata": {},
   "outputs": [],
   "source": [
    "# Dot - Any character\n",
    "pattern = r\".\" # Any character\n",
    "pattern = r\".{3}\" # Three of any character\n",
    "pattern = r\"[A-z].?\" # Any letter followed by one or more of any character"
   ]
  },
  {
   "cell_type": "code",
   "execution_count": 9,
   "metadata": {},
   "outputs": [],
   "source": [
    "# Slash - Escape character\n",
    "pattern = r\"\\.\" # A literal period symbol\n",
    "pattern = r\"[A-z]?\\?\" # One or more letters followed by a literal question mark\n",
    "pattern = r\"\\[\\]\" # A literal set of square brackets"
   ]
  },
  {
   "cell_type": "code",
   "execution_count": 10,
   "metadata": {},
   "outputs": [],
   "source": [
    "# Parentheses - Grouping\n",
    "pattern = r\"anna( banana)*\" # 'anna' followed by zero or more 'banana's"
   ]
  },
  {
   "cell_type": "code",
   "execution_count": 11,
   "metadata": {},
   "outputs": [],
   "source": [
    "# Bar - Logical or\n",
    "pattern = r\"(anna|banana)\" # Either 'anna' or 'banana'\n",
    "pattern = r\"\\.(com|edu|org$)\" # Ends in a literal dot followed by 'com', 'edu', or 'org'\n",
    "pattern = r\"([aeiou]|[02468])\" # Either a vowel or an even number"
   ]
  },
  {
   "cell_type": "markdown",
   "metadata": {},
   "source": [
    "<br>\n",
    "\n",
    "## Function for testing regular expression matching"
   ]
  },
  {
   "cell_type": "code",
   "execution_count": 12,
   "metadata": {},
   "outputs": [],
   "source": [
    "# The function accepts to parameters:\n",
    "# A regular expression pattern, and a string.\n",
    "# If the string matches the pattern, the function will\n",
    "# print MATCH; else it will print NO MATCH.\n",
    "\n",
    "def testRegexMatch(pattern, string):\n",
    "    if (re.match(pattern,string)):\n",
    "        print('MATCH')\n",
    "    else:\n",
    "        print('NO MATCH')\n",
    "    \n",
    "    print('pattern: %s\\nstring: %s' %(pattern, string))"
   ]
  },
  {
   "cell_type": "code",
   "execution_count": 13,
   "metadata": {},
   "outputs": [
    {
     "name": "stdout",
     "output_type": "stream",
     "text": [
      "MATCH\n",
      "pattern: ^anna (banana|bobana)$\n",
      "string: anna bobana\n"
     ]
    }
   ],
   "source": [
    "# Change these\n",
    "my_pattern = r\"^anna (banana|bobana)$\"\n",
    "my_string = 'anna bobana'\n",
    "\n",
    "# Test the pattern against the string by calling the function\n",
    "testRegexMatch(my_pattern, my_string)"
   ]
  },
  {
   "cell_type": "markdown",
   "metadata": {},
   "source": [
    "<br>\n",
    "\n",
    "## Going futher\n",
    "\n",
    "During class, we introduced regular expression `metacharacters` and `re.search()`.\n",
    "\n",
    "There is more you can do with regular expressions. The following cells show pattern substitution (`re.sub()`), which can be used, for example, to write fun littel micro-programs that manipulate text.\n",
    "\n",
    "[This](https://docs.python.org/3/howto/regex.html) and [this](https://docs.python.org/3/library/re.html) is a pretty thorough documents which includes even more you can do with regular expressions, if you're interested in independent study."
   ]
  },
  {
   "cell_type": "markdown",
   "metadata": {},
   "source": [
    "### Micro-programs using `re.sub()`"
   ]
  },
  {
   "cell_type": "code",
   "execution_count": 14,
   "metadata": {},
   "outputs": [
    {
     "name": "stdout",
     "output_type": "stream",
     "text": [
      "weggell heggelleggo!\n"
     ]
    }
   ],
   "source": [
    "def eggify(s):\n",
    "    \"\"\"Add 'egg' before every vowel cluster\"\"\"\n",
    "    print(re.sub(r\"([aeiouAEIOU]+)\", r\"egg\\1\", s))\n",
    "\n",
    "\n",
    "eggify('well hello!')"
   ]
  },
  {
   "cell_type": "code",
   "execution_count": 15,
   "metadata": {},
   "outputs": [
    {
     "name": "stdout",
     "output_type": "stream",
     "text": [
      "heeeelloooo, hoooow aaaareeee yoooouuuu?\n"
     ]
    }
   ],
   "source": [
    "def elooooongate(s):\n",
    "    \"\"\"Elongate all vowels\"\"\"\n",
    "    print(re.sub(r\"([aeiouAEIOU])\", r\"\\1\\1\\1\\1\", s))\n",
    "\n",
    "\n",
    "elooooongate('hello, how are you?')"
   ]
  },
  {
   "cell_type": "code",
   "execution_count": 16,
   "metadata": {},
   "outputs": [
    {
     "name": "stdout",
     "output_type": "stream",
     "text": [
      "h3ll0, h0w 4r3 y0u?\n"
     ]
    }
   ],
   "source": [
    "def numberify(s):\n",
    "    \"\"\"Change some letters to their 'corresponding' digits\"\"\"\n",
    "    print(re.sub(r\"[Aa]\", r\"4\",\n",
    "                re.sub(r\"[Ee]\", r\"3\",\n",
    "                      re.sub(r\"[Ii]\", r\"1\",\n",
    "                            re.sub(r\"[Oo]\", r\"0\",\n",
    "                                  re.sub(r\"B\", r\"8\", s))))))\n",
    "\n",
    "\n",
    "numberify('hello, how are you?')"
   ]
  },
  {
   "cell_type": "code",
   "execution_count": 17,
   "metadata": {},
   "outputs": [
    {
     "name": "stdout",
     "output_type": "stream",
     "text": [
      "hello, um... how um... are um... you?\n"
     ]
    }
   ],
   "source": [
    "from random import choice\n",
    "\n",
    "def pausify(s):\n",
    "    \"\"\"Add a pause after every word.\"\"\"\n",
    "    print(re.sub(r\" \", choice([' um... ', ' uh... ']), s))\n",
    "\n",
    "\n",
    "pausify('hello, how are you?')"
   ]
  },
  {
   "cell_type": "code",
   "execution_count": 18,
   "metadata": {},
   "outputs": [
    {
     "name": "stdout",
     "output_type": "stream",
     "text": [
      "#hellohowareyou\n"
     ]
    }
   ],
   "source": [
    "def hashtagify(s):\n",
    "    \"\"\"Convert string to hashtag formatting\"\"\"\n",
    "    print(\"#\" + re.sub(r\"[^\\w]\", \"\", s))\n",
    "\n",
    "\n",
    "hashtagify('hello, how are you?')"
   ]
  },
  {
   "cell_type": "code",
   "execution_count": 19,
   "metadata": {},
   "outputs": [
    {
     "name": "stdout",
     "output_type": "stream",
     "text": [
      " hello, how are you? \n"
     ]
    }
   ],
   "source": [
    "def cleanSpaces(s):\n",
    "    \"\"\"Change all consecutive spaces into a single space\"\"\"\n",
    "    print(re.sub(r\"\\s+\", \" \", s))\n",
    "\n",
    "\n",
    "cleanSpaces(' hello,   how\\tare     you? ')"
   ]
  },
  {
   "cell_type": "code",
   "execution_count": null,
   "metadata": {},
   "outputs": [],
   "source": []
  }
 ],
 "metadata": {
  "kernelspec": {
   "display_name": "Python 3",
   "language": "python",
   "name": "python3"
  },
  "language_info": {
   "codemirror_mode": {
    "name": "ipython",
    "version": 3
   },
   "file_extension": ".py",
   "mimetype": "text/x-python",
   "name": "python",
   "nbconvert_exporter": "python",
   "pygments_lexer": "ipython3",
   "version": "3.8.5"
  }
 },
 "nbformat": 4,
 "nbformat_minor": 2
}
