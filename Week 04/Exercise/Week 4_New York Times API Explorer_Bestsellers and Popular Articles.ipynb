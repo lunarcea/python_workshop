{
 "cells": [
  {
   "cell_type": "markdown",
   "metadata": {},
   "source": [
    "# New York Times API Explorer: Bestsellers and Popular Articles\n",
    "\n",
    "This notebook demonstrates how to interact with the New York Times API to retrieve and analyze data from both the Most Popular API and the Books API. We'll explore:\n",
    "\n",
    "1. **Most Popular Articles** - Retrieve and analyze popular articles from the NYT\n",
    "2. **Bestseller Lists** - Discover available NYT bestseller list categories\n",
    "3. **Bestseller Analysis** - Track changes in bestseller lists over time with set operations\n",
    "\n",
    "To use this notebook, you'll need to [register for an API key](https://developer.nytimes.com/get-started) from the New York Times Developer Portal."
   ]
  },
  {
   "cell_type": "code",
   "execution_count": 1,
   "metadata": {},
   "outputs": [],
   "source": [
    "import requests\n",
    "import json\n",
    "from IPython.display import Image\n",
    "import pandas as pd\n"
   ]
  },
  {
   "cell_type": "markdown",
   "metadata": {},
   "source": [
    "## 1. Most Popular Articles API\n",
    "\n",
    "Let's begin by exploring the Most Popular API, which provides information about the most emailed, shared, and viewed articles on NYTimes.com."
   ]
  },
  {
   "cell_type": "code",
   "execution_count": 3,
   "metadata": {},
   "outputs": [],
   "source": [
    "# Import requests and json - needed to make an API call\n",
    "import requests\n",
    "import json\n",
    "from IPython.display import Image\n",
    "\n",
    "# If you want to play around with the API\n",
    "# please make your own key at https://developer.nytimes.com/get-started\n",
    "# and assign it to the authorized_key variable below\n",
    "authorized_key = \"YOUR_API_KEY_HERE\"  # Replace with your API key\n",
    "day = str(7)  # This particular API requires you to choose from 1, 7, 30 (past day, 7 days, 30 days)\n",
    "\n",
    "# API url for the most emailed articles over a day, past 7 days or 30 days\n",
    "# We are getting the results for the past 7 days\n",
    "api_url = f\"https://api.nytimes.com/svc/mostpopular/v2/emailed/{day}.json?api-key={authorized_key}\" \n",
    "print(api_url)"
   ]
  },
  {
   "cell_type": "code",
   "execution_count": null,
   "metadata": {},
   "outputs": [],
   "source": [
    "# Calling the API with requests\n",
    "# Uncomment the lines below when you've added your API key\n",
    "\"\"\"\n",
    "response = requests.get(api_url)\n",
    "# Creating a variable called data to hold the json formatted result\n",
    "data = response.json()\n",
    "\"\"\""
   ]
  },
  {
   "cell_type": "code",
   "execution_count": 5,
   "metadata": {},
   "outputs": [
    {
     "name": "stdout",
     "output_type": "stream",
     "text": [
      "<class 'dict'>\n"
     ]
    }
   ],
   "source": [
    "# For demonstration purposes only - we'll use a sample output format\n",
    "# In practice, you would use the actual API response data\n",
    "\n",
    "data = {\n",
    "    \"status\": \"OK\",\n",
    "    \"copyright\": \"Copyright (c) 2025 The New York Times Company. All Rights Reserved.\",\n",
    "    \"num_results\": 20,\n",
    "    \"results\": [\n",
    "        {\n",
    "            \"uri\": \"nyt://article/sample-id-1\",\n",
    "            \"url\": \"https://www.nytimes.com/2025/03/sample-article-1\",\n",
    "            \"id\": 100000000001,\n",
    "            \"asset_id\": 100000000001,\n",
    "            \"source\": \"New York Times\",\n",
    "            \"published_date\": \"2025-03-10\",\n",
    "            \"updated\": \"2025-03-11\",\n",
    "            \"section\": \"Technology\",\n",
    "            \"subsection\": \"AI\",\n",
    "            \"byline\": \"By Jane Smith\",\n",
    "            \"type\": \"Article\",\n",
    "            \"title\": \"The Future of AI in Everyday Life\",\n",
    "            \"abstract\": \"How artificial intelligence is transforming the way we live and work.\",\n",
    "            \"des_facet\": [\"Artificial Intelligence\", \"Technology\", \"Future\"],\n",
    "            \"org_facet\": [\"OpenAI\", \"Google\"],\n",
    "            \"per_facet\": [\"Researchers\"],\n",
    "            \"geo_facet\": [\"Global\"],\n",
    "            \"media\": [{\n",
    "                \"type\": \"image\",\n",
    "                \"subtype\": \"photo\",\n",
    "                \"caption\": \"AI systems at work in a research lab.\",\n",
    "                \"copyright\": \"The New York Times\",\n",
    "                \"approved_for_syndication\": 1,\n",
    "                \"media-metadata\": [{\n",
    "                    \"url\": \"https://static01.nyt.com/sample/thumbnail.jpg\",\n",
    "                    \"format\": \"Standard Thumbnail\",\n",
    "                    \"height\": 75,\n",
    "                    \"width\": 75\n",
    "                }]\n",
    "            }]\n",
    "        }\n",
    "    ]\n",
    "}\n",
    "\n",
    "# Show raw data\n",
    "print(type(data))"
   ]
  },
  {
   "cell_type": "code",
   "execution_count": 6,
   "metadata": {},
   "outputs": [],
   "source": [
    "# Uncomment this to see the full data structure\n",
    "# data"
   ]
  },
  {
   "cell_type": "code",
   "execution_count": 7,
   "metadata": {},
   "outputs": [
    {
     "data": {
      "text/plain": [
       "{'uri': 'nyt://article/sample-id-1',\n",
       " 'url': 'https://www.nytimes.com/2025/03/sample-article-1',\n",
       " 'id': 100000000001,\n",
       " 'asset_id': 100000000001,\n",
       " 'source': 'New York Times',\n",
       " 'published_date': '2025-03-10',\n",
       " 'updated': '2025-03-11',\n",
       " 'section': 'Technology',\n",
       " 'subsection': 'AI',\n",
       " 'byline': 'By Jane Smith',\n",
       " 'type': 'Article',\n",
       " 'title': 'The Future of AI in Everyday Life',\n",
       " 'abstract': 'How artificial intelligence is transforming the way we live and work.',\n",
       " 'des_facet': ['Artificial Intelligence', 'Technology', 'Future'],\n",
       " 'org_facet': ['OpenAI', 'Google'],\n",
       " 'per_facet': ['Researchers'],\n",
       " 'geo_facet': ['Global'],\n",
       " 'media': [{'type': 'image',\n",
       "   'subtype': 'photo',\n",
       "   'caption': 'AI systems at work in a research lab.',\n",
       "   'copyright': 'The New York Times',\n",
       "   'approved_for_syndication': 1,\n",
       "   'media-metadata': [{'url': 'https://static01.nyt.com/sample/thumbnail.jpg',\n",
       "     'format': 'Standard Thumbnail',\n",
       "     'height': 75,\n",
       "     'width': 75}]}]}"
      ]
     },
     "execution_count": 7,
     "metadata": {},
     "output_type": "execute_result"
    }
   ],
   "source": [
    "# Let's extract a single article and explore its structure\n",
    "# Note: In practice, this would come from the actual API response\n",
    "article = {\n",
    "    \"uri\": \"nyt://article/sample-id-1\",\n",
    "    \"url\": \"https://www.nytimes.com/2025/03/sample-article-1\",\n",
    "    \"id\": 100000000001,\n",
    "    \"asset_id\": 100000000001,\n",
    "    \"source\": \"New York Times\",\n",
    "    \"published_date\": \"2025-03-10\",\n",
    "    \"updated\": \"2025-03-11\",\n",
    "    \"section\": \"Technology\",\n",
    "    \"subsection\": \"AI\",\n",
    "    \"byline\": \"By Jane Smith\",\n",
    "    \"type\": \"Article\",\n",
    "    \"title\": \"The Future of AI in Everyday Life\",\n",
    "    \"abstract\": \"How artificial intelligence is transforming the way we live and work.\",\n",
    "    \"des_facet\": [\"Artificial Intelligence\", \"Technology\", \"Future\"],\n",
    "    \"org_facet\": [\"OpenAI\", \"Google\"],\n",
    "    \"per_facet\": [\"Researchers\"],\n",
    "    \"geo_facet\": [\"Global\"],\n",
    "    \"media\": [{\n",
    "        \"type\": \"image\",\n",
    "        \"subtype\": \"photo\",\n",
    "        \"caption\": \"AI systems at work in a research lab.\",\n",
    "        \"copyright\": \"The New York Times\",\n",
    "        \"approved_for_syndication\": 1,\n",
    "        \"media-metadata\": [{\n",
    "            \"url\": \"https://static01.nyt.com/sample/thumbnail.jpg\",\n",
    "            \"format\": \"Standard Thumbnail\",\n",
    "            \"height\": 75,\n",
    "            \"width\": 75\n",
    "        }]\n",
    "    }]\n",
    "}\n",
    "\n",
    "# article = data['results'][0]  # Uncomment to use actual API data\n",
    "article"
   ]
  },
  {
   "cell_type": "code",
   "execution_count": 8,
   "metadata": {},
   "outputs": [
    {
     "name": "stdout",
     "output_type": "stream",
     "text": [
      "Article URL: https://www.nytimes.com/2025/03/sample-article-1\n",
      "Article title: The Future of AI in Everyday Life\n",
      "Article byline: By Jane Smith\n"
     ]
    }
   ],
   "source": [
    "# Extract key information from an article\n",
    "\n",
    "# Get URL\n",
    "print(\"Article URL:\", article['url'])\n",
    "\n",
    "# Get title\n",
    "print(\"Article title:\", article['title'])\n",
    "\n",
    "# Get byline\n",
    "print(\"Article byline:\", article['byline'])"
   ]
  },
  {
   "cell_type": "code",
   "execution_count": 9,
   "metadata": {},
   "outputs": [
    {
     "name": "stdout",
     "output_type": "stream",
     "text": [
      "Article tags:\n",
      "- Artificial Intelligence\n",
      "- Technology\n",
      "- Future\n"
     ]
    }
   ],
   "source": [
    "# Extract and display the descriptive tags\n",
    "\n",
    "# Get description tags and iterate through them\n",
    "tags = article['des_facet']\n",
    "print(\"Article tags:\")\n",
    "for tag in tags:\n",
    "    print(\"-\", tag)"
   ]
  },
  {
   "cell_type": "code",
   "execution_count": 10,
   "metadata": {},
   "outputs": [
    {
     "name": "stdout",
     "output_type": "stream",
     "text": [
      "Updated article dictionary with read status: True\n"
     ]
    }
   ],
   "source": [
    "# Working with the article dictionary\n",
    "\n",
    "# Add a key read_or_not with a boolean value\n",
    "article['read_or_not'] = True\n",
    "\n",
    "# Check to see that 'read_or_not' has been added\n",
    "print(\"Updated article dictionary with read status:\", article['read_or_not'])"
   ]
  },
  {
   "cell_type": "code",
   "execution_count": 11,
   "metadata": {},
   "outputs": [
    {
     "name": "stdout",
     "output_type": "stream",
     "text": [
      "Keys remaining in article: dict_keys(['uri', 'url', 'id', 'asset_id', 'source', 'published_date', 'updated', 'section', 'subsection', 'byline', 'type', 'title', 'abstract', 'des_facet', 'org_facet', 'per_facet', 'geo_facet', 'media', 'read_or_not'])\n"
     ]
    }
   ],
   "source": [
    "# Removing keys from the dictionary\n",
    "\n",
    "# Let's remove any empty lists to clean up our data structure\n",
    "if 'org_facet' in article and len(article['org_facet']) == 0:\n",
    "    article.pop('org_facet')\n",
    "if 'per_facet' in article and len(article['per_facet']) == 0:\n",
    "    del article['per_facet']\n",
    "\n",
    "# Verify changes\n",
    "print(\"Keys remaining in article:\", article.keys())"
   ]
  },
  {
   "cell_type": "markdown",
   "metadata": {},
   "source": [
    "## 2. NYT Books API - Available Lists\n",
    "\n",
    "The New York Times Books API provides access to bestseller lists across various categories. Let's find out what lists are available:"
   ]
  },
  {
   "cell_type": "code",
   "execution_count": 13,
   "metadata": {},
   "outputs": [
    {
     "name": "stdout",
     "output_type": "stream",
     "text": [
      "https://api.nytimes.com/svc/books/v3/lists/names.json?api-key=YOUR_API_KEY_HERE\n"
     ]
    }
   ],
   "source": [
    "# Set up the Books API request for available list names\n",
    "authorized_key = \"YOUR_API_KEY_HERE\"  # Replace with your API key\n",
    "api_url = f\"https://api.nytimes.com/svc/books/v3/lists/names.json?api-key={authorized_key}\"\n",
    "print(api_url)"
   ]
  },
  {
   "cell_type": "code",
   "execution_count": 14,
   "metadata": {},
   "outputs": [
    {
     "data": {
      "text/plain": [
       "'\\nresponse = requests.get(api_url)\\ndata = response.json()\\n\\n# Show raw data\\nprint(type(data))\\n'"
      ]
     },
     "execution_count": 14,
     "metadata": {},
     "output_type": "execute_result"
    }
   ],
   "source": [
    "# Make the API call (uncomment when you have your API key)\n",
    "\"\"\"\n",
    "response = requests.get(api_url)\n",
    "data = response.json()\n",
    "\n",
    "# Show raw data\n",
    "print(type(data))\n",
    "\"\"\""
   ]
  },
  {
   "cell_type": "code",
   "execution_count": 15,
   "metadata": {},
   "outputs": [],
   "source": [
    "# For demonstration, we'll create a sample of the data structure\n",
    "list_names_data = {\n",
    "    \"status\": \"OK\",\n",
    "    \"copyright\": \"Copyright (c) 2025 The New York Times Company. All Rights Reserved.\",\n",
    "    \"num_results\": 5,\n",
    "    \"results\": [\n",
    "        {\n",
    "            \"list_name\": \"Combined Print and E-Book Fiction\",\n",
    "            \"display_name\": \"Combined Print & E-Book Fiction\",\n",
    "            \"list_name_encoded\": \"combined-print-and-e-book-fiction\",\n",
    "            \"oldest_published_date\": \"2011-02-13\",\n",
    "            \"newest_published_date\": \"2025-03-10\",\n",
    "            \"updated\": \"WEEKLY\"\n",
    "        },\n",
    "        {\n",
    "            \"list_name\": \"Hardcover Fiction\", \n",
    "            \"display_name\": \"Hardcover Fiction\",\n",
    "            \"list_name_encoded\": \"hardcover-fiction\",\n",
    "            \"oldest_published_date\": \"2008-06-08\",\n",
    "            \"newest_published_date\": \"2025-03-10\",\n",
    "            \"updated\": \"WEEKLY\"\n",
    "        },\n",
    "        {\n",
    "            \"list_name\": \"Trade Fiction Paperback\",\n",
    "            \"display_name\": \"Paperback Trade Fiction\",\n",
    "            \"list_name_encoded\": \"trade-fiction-paperback\", \n",
    "            \"oldest_published_date\": \"2008-06-08\",\n",
    "            \"newest_published_date\": \"2025-03-10\",\n",
    "            \"updated\": \"WEEKLY\"\n",
    "        },\n",
    "        {\n",
    "            \"list_name\": \"Hardcover Nonfiction\",\n",
    "            \"display_name\": \"Hardcover Nonfiction\",\n",
    "            \"list_name_encoded\": \"hardcover-nonfiction\",\n",
    "            \"oldest_published_date\": \"2008-06-08\", \n",
    "            \"newest_published_date\": \"2025-03-10\",\n",
    "            \"updated\": \"WEEKLY\"\n",
    "        },\n",
    "        {\n",
    "            \"list_name\": \"Paperback Nonfiction\",\n",
    "            \"display_name\": \"Paperback Nonfiction\",\n",
    "            \"list_name_encoded\": \"paperback-nonfiction\",\n",
    "            \"oldest_published_date\": \"2008-06-08\",\n",
    "            \"newest_published_date\": \"2025-03-10\", \n",
    "            \"updated\": \"WEEKLY\"\n",
    "        }\n",
    "    ]\n",
    "}"
   ]
  },
  {
   "cell_type": "code",
   "execution_count": 16,
   "metadata": {},
   "outputs": [
    {
     "data": {
      "text/html": [
       "<div>\n",
       "<style scoped>\n",
       "    .dataframe tbody tr th:only-of-type {\n",
       "        vertical-align: middle;\n",
       "    }\n",
       "\n",
       "    .dataframe tbody tr th {\n",
       "        vertical-align: top;\n",
       "    }\n",
       "\n",
       "    .dataframe thead th {\n",
       "        text-align: right;\n",
       "    }\n",
       "</style>\n",
       "<table border=\"1\" class=\"dataframe\">\n",
       "  <thead>\n",
       "    <tr style=\"text-align: right;\">\n",
       "      <th></th>\n",
       "      <th>display_name</th>\n",
       "      <th>list_name_encoded</th>\n",
       "      <th>updated</th>\n",
       "    </tr>\n",
       "  </thead>\n",
       "  <tbody>\n",
       "    <tr>\n",
       "      <th>0</th>\n",
       "      <td>Combined Print &amp; E-Book Fiction</td>\n",
       "      <td>combined-print-and-e-book-fiction</td>\n",
       "      <td>WEEKLY</td>\n",
       "    </tr>\n",
       "    <tr>\n",
       "      <th>1</th>\n",
       "      <td>Hardcover Fiction</td>\n",
       "      <td>hardcover-fiction</td>\n",
       "      <td>WEEKLY</td>\n",
       "    </tr>\n",
       "    <tr>\n",
       "      <th>2</th>\n",
       "      <td>Paperback Trade Fiction</td>\n",
       "      <td>trade-fiction-paperback</td>\n",
       "      <td>WEEKLY</td>\n",
       "    </tr>\n",
       "    <tr>\n",
       "      <th>3</th>\n",
       "      <td>Hardcover Nonfiction</td>\n",
       "      <td>hardcover-nonfiction</td>\n",
       "      <td>WEEKLY</td>\n",
       "    </tr>\n",
       "    <tr>\n",
       "      <th>4</th>\n",
       "      <td>Paperback Nonfiction</td>\n",
       "      <td>paperback-nonfiction</td>\n",
       "      <td>WEEKLY</td>\n",
       "    </tr>\n",
       "  </tbody>\n",
       "</table>\n",
       "</div>"
      ],
      "text/plain": [
       "                      display_name                  list_name_encoded updated\n",
       "0  Combined Print & E-Book Fiction  combined-print-and-e-book-fiction  WEEKLY\n",
       "1                Hardcover Fiction                  hardcover-fiction  WEEKLY\n",
       "2          Paperback Trade Fiction            trade-fiction-paperback  WEEKLY\n",
       "3             Hardcover Nonfiction               hardcover-nonfiction  WEEKLY\n",
       "4             Paperback Nonfiction               paperback-nonfiction  WEEKLY"
      ]
     },
     "execution_count": 16,
     "metadata": {},
     "output_type": "execute_result"
    }
   ],
   "source": [
    "# Extract the encoded list names for API calls\n",
    "\n",
    "# To retrieve the encoded list names we need to access 'results'\n",
    "list_names = list_names_data['results']  # Use 'data' if using real API response\n",
    "\n",
    "# Create a dataframe for better visualization\n",
    "lists_df = pd.DataFrame(list_names)\n",
    "lists_df[['display_name', 'list_name_encoded', 'updated']]"
   ]
  },
  {
   "cell_type": "code",
   "execution_count": 17,
   "metadata": {},
   "outputs": [
    {
     "name": "stdout",
     "output_type": "stream",
     "text": [
      "combined-print-and-e-book-fiction\n",
      "hardcover-fiction\n",
      "trade-fiction-paperback\n",
      "hardcover-nonfiction\n",
      "paperback-nonfiction\n"
     ]
    }
   ],
   "source": [
    "# Extract just the encoded list names\n",
    "for item in list_names:\n",
    "    print(item['list_name_encoded'])"
   ]
  },
  {
   "cell_type": "markdown",
   "metadata": {},
   "source": [
    "## 3. Bestseller Analysis with Set Operations\n",
    "\n",
    "Now let's use the Books API to analyze bestsellers across time periods and categories. We'll create sets of bestsellers and use set operations to find interesting patterns."
   ]
  },
  {
   "cell_type": "code",
   "execution_count": 18,
   "metadata": {},
   "outputs": [],
   "source": [
    "# This function will make requests to the Books API and generate sets of bestsellers for different lists\n",
    "def generate_bestseller_sets(date):\n",
    "    \"\"\"\n",
    "    Generate sets of bestsellers for a specific date.\n",
    "    \n",
    "    Args:\n",
    "        date: 'current' for latest bestsellers or a date string in 'YYYY-MM-DD' format\n",
    "        \n",
    "    Returns:\n",
    "        List of bestseller titles for each category\n",
    "    \"\"\"\n",
    "    authorized_key = \"YOUR_API_KEY_HERE\"  # Replace with your API key\n",
    "    \n",
    "    # Categories we want to analyze\n",
    "    categories = [\n",
    "        'hardcover-fiction', \n",
    "        'hardcover-nonfiction', \n",
    "        'paperback-nonfiction', \n",
    "        'trade-fiction-paperback'\n",
    "    ]\n",
    "    \n",
    "    # Create an empty nested list (one list for each category)\n",
    "    bestseller_titles = [[], [], [], []]\n",
    "    \n",
    "    # For demo purposes, we'll return mock data instead of making API calls\n",
    "    # In practice, you would uncomment the API call code and use real data\n",
    "    \n",
    "    # Mock data for demonstration\n",
    "    if date == 'current':\n",
    "        bestseller_titles = [\n",
    "            # Hardcover Fiction\n",
    "            [\"THE LAST BEACON\", \"MIDNIGHT HORIZON\", \"THE FORGOTTEN PATH\", \"SUMMER SHADOWS\", \n",
    "             \"ECHOES OF YESTERDAY\", \"WINTER'S PROMISE\", \"THE SILENT TRUTH\", \"BEYOND THE STARS\", \n",
    "             \"THE HIDDEN KEY\", \"WHISPERS IN THE DARK\", \"THE LOST LETTER\", \"OCEAN'S EDGE\", \n",
    "             \"THE FINAL CHAPTER\", \"BENEATH THE SURFACE\", \"THE DISTANT SHORE\"],\n",
    "            \n",
    "            # Hardcover Nonfiction\n",
    "            [\"JOURNEY WITHIN\", \"BEYOND BORDERS\", \"THE SCIENCE OF US\", \"HISTORY REVISITED\", \n",
    "             \"FINDING YOUR WAY\", \"THE ART OF BALANCE\", \"LESSONS LEARNED\", \"MINDFUL LIVING\", \n",
    "             \"THE POWER OF CHANGE\", \"REIMAGINING TOMORROW\", \"THE DIGITAL MIND\", \"NATURE'S WISDOM\", \n",
    "             \"THE LEADERSHIP CODE\", \"HEALING TOGETHER\", \"THE INNOVATION PATH\"],\n",
    "            \n",
    "            # Paperback Nonfiction\n",
    "            [\"THINKING DIFFERENTLY\", \"THE COURAGE TO GROW\", \"UNDERSTANDING SYSTEMS\", \"THE EMPATHY EFFECT\", \n",
    "             \"ESSENTIAL WISDOM\", \"THE KNOWLEDGE BRIDGE\", \"PATTERNS OF BEHAVIOR\", \"SEEKING TRUTH\", \n",
    "             \"LIVING AUTHENTICALLY\", \"THE CLARITY PROJECT\", \"BEYOND PERCEPTION\", \"EVERYDAY PHILOSOPHY\", \n",
    "             \"THE WELLNESS JOURNEY\", \"COLLECTIVE INTELLIGENCE\", \"CULTURAL PERSPECTIVES\"],\n",
    "            \n",
    "            # Trade Fiction Paperback\n",
    "            [\"AFTER THE RAIN\", \"THE LOST GARDEN\", \"CITY OF DREAMS\", \"RIVER'S END\", \n",
    "             \"THE MEMORY KEEPER\", \"SHADOWS AND LIGHT\", \"THE TRAVELER\", \"HIDDEN TRUTHS\", \n",
    "             \"THE LAST GOODBYE\", \"BENEATH THE WAVES\", \"THE OTHER SIDE\", \"PERFECT STRANGERS\", \n",
    "             \"THE FORGOTTEN ROOM\", \"WHISPERS OF HOPE\", \"THE LONG JOURNEY\"]\n",
    "        ]\n",
    "    else:  # previous week\n",
    "        bestseller_titles = [\n",
    "            # Hardcover Fiction\n",
    "            [\"THE LAST BEACON\", \"MIDNIGHT HORIZON\", \"THE FORGOTTEN PATH\", \"SUMMER SHADOWS\", \n",
    "             \"ECHOES OF YESTERDAY\", \"WINTER'S PROMISE\", \"THE SILENT TRUTH\", \"THE SECRET DOOR\", \n",
    "             \"MOUNTAIN MIST\", \"WHISPERS IN THE DARK\", \"THE LOST LETTER\", \"THE FINAL ROAD\", \n",
    "             \"TOMORROW'S PROMISE\", \"BENEATH THE SURFACE\", \"THE FAR HORIZON\"],\n",
    "            \n",
    "            # Hardcover Nonfiction\n",
    "            [\"JOURNEY WITHIN\", \"BEYOND BORDERS\", \"THE SCIENCE OF US\", \"HISTORY REVISITED\", \n",
    "             \"FINDING YOUR WAY\", \"THE ART OF BALANCE\", \"LESSONS LEARNED\", \"MINDFUL LIVING\", \n",
    "             \"TIMELESS WISDOM\", \"REIMAGINING TOMORROW\", \"THE CONNECTED WORLD\", \"NATURE'S WISDOM\", \n",
    "             \"THE LEADERSHIP CODE\", \"THE HEALING PATH\", \"VOICES OF CHANGE\"],\n",
    "            \n",
    "            # Paperback Nonfiction\n",
    "            [\"THINKING DIFFERENTLY\", \"THE COURAGE TO GROW\", \"UNDERSTANDING SYSTEMS\", \"THE EMPATHY EFFECT\", \n",
    "             \"ESSENTIAL WISDOM\", \"THE KNOWLEDGE BRIDGE\", \"PATTERNS OF BEHAVIOR\", \"THE UNSEEN WORLD\", \n",
    "             \"THE MINDFUL APPROACH\", \"THE CLARITY PROJECT\", \"THE PATH FORWARD\", \"EVERYDAY PHILOSOPHY\", \n",
    "             \"THE LEARNING CURVE\", \"FOUNDATIONS OF GROWTH\", \"CULTURAL PERSPECTIVES\"],\n",
    "            \n",
    "            # Trade Fiction Paperback\n",
    "            [\"AFTER THE RAIN\", \"THE LOST GARDEN\", \"CITY OF DREAMS\", \"RIVER'S END\", \n",
    "             \"THE MEMORY KEEPER\", \"SHADOWS AND LIGHT\", \"THE TRAVELER\", \"HIDDEN TRUTHS\", \n",
    "             \"THE LAST GOODBYE\", \"THE LIGHTHOUSE\", \"THE OTHER SIDE\", \"THE QUIET HOUSE\", \n",
    "             \"THE FORGOTTEN ROOM\", \"THE DISTANT SHORE\", \"THE LONG JOURNEY\"]\n",
    "        ]\n",
    "    \n",
    "    \"\"\"\n",
    "    # In practice, you would use this code to make actual API calls\n",
    "    index = 0\n",
    "    for category in categories:\n",
    "        # Call the API-url\n",
    "        api_url = f\"https://api.nytimes.com/svc/books/v3/lists/{date}/{category}.json?api-key={authorized_key}\"\n",
    "        \n",
    "        # Call the API with requests\n",
    "        response = requests.get(api_url)\n",
    "        # Create a variable called 'data' to hold the json formatted result\n",
    "        data = response.json()\n",
    "\n",
    "        # Define the 'path' inside the json structure\n",
    "        books = data['results']['books']\n",
    "\n",
    "        for book in books:\n",
    "            # Append the title to bestseller_titles at the current index\n",
    "            bestseller_titles[index].append(book['title'])\n",
    "        \n",
    "        # +1 to jump to the next nested list\n",
    "        index += 1\n",
    "    \"\"\"\n",
    "    \n",
    "    return bestseller_titles"
   ]
  },
  {
   "cell_type": "code",
   "execution_count": 19,
   "metadata": {},
   "outputs": [
    {
     "name": "stdout",
     "output_type": "stream",
     "text": [
      "Hardcover Fiction (Current):\n",
      " {'THE FORGOTTEN PATH', 'SUMMER SHADOWS', 'THE HIDDEN KEY', \"OCEAN'S EDGE\", 'MIDNIGHT HORIZON', 'THE LAST BEACON', 'THE FINAL CHAPTER', 'THE SILENT TRUTH', 'WHISPERS IN THE DARK', 'ECHOES OF YESTERDAY', 'BENEATH THE SURFACE', 'BEYOND THE STARS', 'THE DISTANT SHORE', 'THE LOST LETTER', \"WINTER'S PROMISE\"}\n",
      "\n",
      "Hardcover Nonfiction (Current):\n",
      " {'BEYOND BORDERS', 'LESSONS LEARNED', \"NATURE'S WISDOM\", 'HISTORY REVISITED', 'HEALING TOGETHER', 'THE INNOVATION PATH', 'REIMAGINING TOMORROW', 'THE DIGITAL MIND', 'FINDING YOUR WAY', 'JOURNEY WITHIN', 'THE LEADERSHIP CODE', 'THE ART OF BALANCE', 'MINDFUL LIVING', 'THE POWER OF CHANGE', 'THE SCIENCE OF US'}\n",
      "\n",
      "Paperback Nonfiction (Current):\n",
      " {'THINKING DIFFERENTLY', 'THE EMPATHY EFFECT', 'BEYOND PERCEPTION', 'THE WELLNESS JOURNEY', 'COLLECTIVE INTELLIGENCE', 'UNDERSTANDING SYSTEMS', 'SEEKING TRUTH', 'PATTERNS OF BEHAVIOR', 'EVERYDAY PHILOSOPHY', 'LIVING AUTHENTICALLY', 'ESSENTIAL WISDOM', 'THE CLARITY PROJECT', 'THE COURAGE TO GROW', 'THE KNOWLEDGE BRIDGE', 'CULTURAL PERSPECTIVES'}\n",
      "\n",
      "Trade Fiction Paperback (Current):\n",
      " {'CITY OF DREAMS', 'HIDDEN TRUTHS', 'THE MEMORY KEEPER', 'PERFECT STRANGERS', 'THE FORGOTTEN ROOM', 'THE LAST GOODBYE', 'THE OTHER SIDE', 'THE LOST GARDEN', 'AFTER THE RAIN', 'WHISPERS OF HOPE', 'SHADOWS AND LIGHT', 'BENEATH THE WAVES', 'THE LONG JOURNEY', 'THE TRAVELER', \"RIVER'S END\"}\n"
     ]
    }
   ],
   "source": [
    "# Retrieve current bestseller data\n",
    "current_bestsellers = generate_bestseller_sets('current')\n",
    "\n",
    "# Create sets for each category\n",
    "hc_fiction_current = set(current_bestsellers[0])\n",
    "hc_nonfiction_current = set(current_bestsellers[1])\n",
    "pb_nonfiction_current = set(current_bestsellers[2])\n",
    "pb_fiction_current = set(current_bestsellers[3])\n",
    "\n",
    "# Display the sets\n",
    "print('Hardcover Fiction (Current):\\n', hc_fiction_current)\n",
    "print('\\nHardcover Nonfiction (Current):\\n', hc_nonfiction_current)\n",
    "print('\\nPaperback Nonfiction (Current):\\n', pb_nonfiction_current)\n",
    "print('\\nTrade Fiction Paperback (Current):\\n', pb_fiction_current)"
   ]
  },
  {
   "cell_type": "code",
   "execution_count": 20,
   "metadata": {},
   "outputs": [
    {
     "name": "stdout",
     "output_type": "stream",
     "text": [
      "Hardcover Fiction (Previous Week):\n",
      " {'THE FORGOTTEN PATH', 'SUMMER SHADOWS', 'THE FAR HORIZON', 'MOUNTAIN MIST', 'MIDNIGHT HORIZON', \"TOMORROW'S PROMISE\", 'THE LAST BEACON', 'THE SECRET DOOR', 'THE FINAL ROAD', 'THE SILENT TRUTH', 'WHISPERS IN THE DARK', 'ECHOES OF YESTERDAY', 'BENEATH THE SURFACE', 'THE LOST LETTER', \"WINTER'S PROMISE\"}\n",
      "\n",
      "Hardcover Nonfiction (Previous Week):\n",
      " {'BEYOND BORDERS', 'LESSONS LEARNED', 'THE CONNECTED WORLD', 'HISTORY REVISITED', \"NATURE'S WISDOM\", 'TIMELESS WISDOM', 'THE HEALING PATH', 'REIMAGINING TOMORROW', 'FINDING YOUR WAY', 'JOURNEY WITHIN', 'THE LEADERSHIP CODE', 'VOICES OF CHANGE', 'THE ART OF BALANCE', 'MINDFUL LIVING', 'THE SCIENCE OF US'}\n",
      "\n",
      "Paperback Nonfiction (Previous Week):\n",
      " {'THINKING DIFFERENTLY', 'THE EMPATHY EFFECT', 'THE PATH FORWARD', 'UNDERSTANDING SYSTEMS', 'PATTERNS OF BEHAVIOR', 'EVERYDAY PHILOSOPHY', 'THE UNSEEN WORLD', 'ESSENTIAL WISDOM', 'THE CLARITY PROJECT', 'FOUNDATIONS OF GROWTH', 'THE MINDFUL APPROACH', 'THE COURAGE TO GROW', 'THE KNOWLEDGE BRIDGE', 'CULTURAL PERSPECTIVES', 'THE LEARNING CURVE'}\n",
      "\n",
      "Trade Fiction Paperback (Previous Week):\n",
      " {'CITY OF DREAMS', 'HIDDEN TRUTHS', 'THE MEMORY KEEPER', 'THE FORGOTTEN ROOM', 'THE QUIET HOUSE', 'THE LAST GOODBYE', 'THE OTHER SIDE', 'THE LOST GARDEN', 'AFTER THE RAIN', 'THE LIGHTHOUSE', 'SHADOWS AND LIGHT', 'THE DISTANT SHORE', 'THE LONG JOURNEY', 'THE TRAVELER', \"RIVER'S END\"}\n"
     ]
    }
   ],
   "source": [
    "# Retrieve last week's bestseller data\n",
    "previous_bestsellers = generate_bestseller_sets('2025-03-09')  # Use a real date here\n",
    "\n",
    "# Create sets for each category\n",
    "hc_fiction_previous = set(previous_bestsellers[0])\n",
    "hc_nonfiction_previous = set(previous_bestsellers[1])\n",
    "pb_nonfiction_previous = set(previous_bestsellers[2])\n",
    "pb_fiction_previous = set(previous_bestsellers[3])\n",
    "\n",
    "# Display the sets\n",
    "print('Hardcover Fiction (Previous Week):\\n', hc_fiction_previous)\n",
    "print('\\nHardcover Nonfiction (Previous Week):\\n', hc_nonfiction_previous)\n",
    "print('\\nPaperback Nonfiction (Previous Week):\\n', pb_nonfiction_previous)\n",
    "print('\\nTrade Fiction Paperback (Previous Week):\\n', pb_fiction_previous)"
   ]
  },
  {
   "cell_type": "markdown",
   "metadata": {},
   "source": [
    "### Set Operations for Bestseller Analysis\n",
    "\n",
    "Now let's use set operations to analyze the changes in bestseller lists:"
   ]
  },
  {
   "cell_type": "code",
   "execution_count": 21,
   "metadata": {},
   "outputs": [
    {
     "name": "stdout",
     "output_type": "stream",
     "text": [
      "Books that stayed on the Hardcover Fiction bestseller list:\n",
      "- THE FORGOTTEN PATH\n",
      "- SUMMER SHADOWS\n",
      "- MIDNIGHT HORIZON\n",
      "- THE LAST BEACON\n",
      "- THE SILENT TRUTH\n",
      "- WHISPERS IN THE DARK\n",
      "- ECHOES OF YESTERDAY\n",
      "- BENEATH THE SURFACE\n",
      "- THE LOST LETTER\n",
      "- WINTER'S PROMISE\n",
      "Total: 10 books\n",
      "\n"
     ]
    }
   ],
   "source": [
    "# Function to find books that appear in both time periods (intersection)\n",
    "def find_consistent_bestsellers(set_current, set_previous, category_name):\n",
    "    '''Find books that appear in both current and previous bestseller lists'''\n",
    "    consistent = set_current & set_previous\n",
    "    print(f\"Books that stayed on the {category_name} bestseller list:\")\n",
    "    for book in consistent:\n",
    "        print(f\"- {book}\")\n",
    "    print(f\"Total: {len(consistent)} books\\n\")\n",
    "    return consistent\n",
    "\n",
    "# Analyze consistent bestsellers for hardcover fiction\n",
    "consistent_hc_fiction = find_consistent_bestsellers(\n",
    "    hc_fiction_current, \n",
    "    hc_fiction_previous, \n",
    "    \"Hardcover Fiction\"\n",
    ")"
   ]
  },
  {
   "cell_type": "code",
   "execution_count": 22,
   "metadata": {},
   "outputs": [
    {
     "name": "stdout",
     "output_type": "stream",
     "text": [
      "New entries to the Hardcover Fiction bestseller list:\n",
      "- THE HIDDEN KEY\n",
      "- OCEAN'S EDGE\n",
      "- BEYOND THE STARS\n",
      "- THE DISTANT SHORE\n",
      "- THE FINAL CHAPTER\n",
      "Total: 5 new books\n",
      "\n"
     ]
    }
   ],
   "source": [
    "# Function to find new entries to the bestseller list (difference)\n",
    "def find_new_bestsellers(set_current, set_previous, category_name):\n",
    "    '''Find books that are new to the current bestseller list'''\n",
    "    new_entries = set_current - set_previous\n",
    "    print(f\"New entries to the {category_name} bestseller list:\")\n",
    "    for book in new_entries:\n",
    "        print(f\"- {book}\")\n",
    "    print(f\"Total: {len(new_entries)} new books\\n\")\n",
    "    return new_entries\n",
    "\n",
    "# Analyze new bestsellers for hardcover fiction\n",
    "new_hc_fiction = find_new_bestsellers(\n",
    "    hc_fiction_current, \n",
    "    hc_fiction_previous, \n",
    "    \"Hardcover Fiction\"\n",
    ")"
   ]
  },
  {
   "cell_type": "code",
   "execution_count": 23,
   "metadata": {},
   "outputs": [
    {
     "name": "stdout",
     "output_type": "stream",
     "text": [
      "Books that dropped off the Hardcover Fiction bestseller list:\n",
      "- THE FAR HORIZON\n",
      "- MOUNTAIN MIST\n",
      "- TOMORROW'S PROMISE\n",
      "- THE SECRET DOOR\n",
      "- THE FINAL ROAD\n",
      "Total: 5 dropped books\n",
      "\n"
     ]
    }
   ],
   "source": [
    "# Function to find books that dropped off the bestseller list\n",
    "def find_dropped_bestsellers(set_current, set_previous, category_name):\n",
    "    '''Find books that dropped off the current bestseller list'''\n",
    "    dropped = set_previous - set_current\n",
    "    print(f\"Books that dropped off the {category_name} bestseller list:\")\n",
    "    for book in dropped:\n",
    "        print(f\"- {book}\")\n",
    "    print(f\"Total: {len(dropped)} dropped books\\n\")\n",
    "    return dropped\n",
    "\n",
    "# Analyze books that dropped off the hardcover fiction list\n",
    "dropped_hc_fiction = find_dropped_bestsellers(\n",
    "    hc_fiction_current, \n",
    "    hc_fiction_previous, \n",
    "    \"Hardcover Fiction\"\n",
    ")"
   ]
  },
  {
   "cell_type": "code",
   "execution_count": 24,
   "metadata": {},
   "outputs": [
    {
     "name": "stdout",
     "output_type": "stream",
     "text": [
      "All Fiction bestsellers (combined):\n",
      "Total: 37 unique books\n",
      "\n",
      "All Nonfiction bestsellers (combined):\n",
      "Total: 39 unique books\n",
      "\n"
     ]
    }
   ],
   "source": [
    "# Create a union of all fiction bestsellers\n",
    "def combine_bestsellers(set_list, category_name):\n",
    "    '''Combine multiple bestseller sets into one'''\n",
    "    combined = set()\n",
    "    for s in set_list:\n",
    "        combined |= s\n",
    "    \n",
    "    print(f\"All {category_name} bestsellers (combined):\")\n",
    "    print(f\"Total: {len(combined)} unique books\\n\")\n",
    "    return combined\n",
    "\n",
    "# Combine all fiction bestsellers\n",
    "all_fiction = combine_bestsellers(\n",
    "    [hc_fiction_current, hc_fiction_previous, pb_fiction_current, pb_fiction_previous],\n",
    "    \"Fiction\"\n",
    ")\n",
    "\n",
    "# Combine all nonfiction bestsellers\n",
    "all_nonfiction = combine_bestsellers(\n",
    "    [hc_nonfiction_current, hc_nonfiction_previous, pb_nonfiction_current, pb_nonfiction_previous],\n",
    "    \"Nonfiction\"\n",
    ")"
   ]
  },
  {
   "cell_type": "code",
   "execution_count": 25,
   "metadata": {},
   "outputs": [
    {
     "name": "stdout",
     "output_type": "stream",
     "text": [
      "No books appear in both fiction and nonfiction categories.\n"
     ]
    }
   ],
   "source": [
    "# Find books that appear in both fiction and nonfiction categories (unlikely but possible)\n",
    "fiction_and_nonfiction = all_fiction & all_nonfiction\n",
    "if fiction_and_nonfiction:\n",
    "    print(\"Books appearing in both fiction and nonfiction categories:\")\n",
    "    for book in fiction_and_nonfiction:\n",
    "        print(f\"- {book}\")\n",
    "else:\n",
    "    print(\"No books appear in both fiction and nonfiction categories.\")"
   ]
  },
  {
   "cell_type": "markdown",
   "metadata": {},
   "source": [
    "## Summary\n",
    "\n",
    "In this notebook, we've explored two New York Times APIs:\n",
    "\n",
    "1. **Most Popular Articles API** - Retrieving and analyzing popular NYT articles\n",
    "2. **Books API** - Analyzing bestseller lists and tracking changes over time\n",
    "\n",
    "This demonstrates how to:\n",
    "- Make API requests to retrieve data\n",
    "- Parse and work with JSON responses\n",
    "- Use Python data structures (dictionaries, lists, sets)\n",
    "- Apply set operations for data analysis\n",
    "- Extract insights from different time periods\n",
    "\n",
    "To extend this notebook, you could:\n",
    "- Create visualizations of bestseller trends\n",
    "- Analyze author frequency across bestseller lists\n",
    "- Track specific books as they move up and down the rankings\n",
    "- Compare different types of bestseller lists (e.g., fiction vs. nonfiction)"
   ]
  },
  {
   "cell_type": "code",
   "execution_count": null,
   "metadata": {},
   "outputs": [],
   "source": []
  }
 ],
 "metadata": {
  "kernelspec": {
   "display_name": "Python 3",
   "language": "python",
   "name": "python3"
  },
  "language_info": {
   "codemirror_mode": {
    "name": "ipython",
    "version": 3
   },
   "file_extension": ".py",
   "mimetype": "text/x-python",
   "name": "python",
   "nbconvert_exporter": "python",
   "pygments_lexer": "ipython3",
   "version": "3.8.5"
  }
 },
 "nbformat": 4,
 "nbformat_minor": 4
}
