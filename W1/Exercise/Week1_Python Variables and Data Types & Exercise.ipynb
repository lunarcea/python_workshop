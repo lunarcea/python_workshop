{
 "cells": [
  {
   "cell_type": "markdown",
   "metadata": {},
   "source": [
    "## Working with Variables\n",
    "\n",
    "Variables store data that can be used and modified throughout your program. In Python, you don't need to declare variable types before using them - the type is inferred from the assigned value."
   ]
  },
  {
   "cell_type": "markdown",
   "metadata": {},
   "source": [
    "### 1.1 Local and Global Variables\n",
    "\n",
    "Variables in Python have different scopes:\n",
    "\n",
    "- **Global variables**: Accessible throughout the entire program\n",
    "- **Local variables**: Limited to the function or block where they're defined"
   ]
  },
  {
   "cell_type": "code",
   "execution_count": 11,
   "metadata": {},
   "outputs": [
    {
     "name": "stdout",
     "output_type": "stream",
     "text": [
      "Welcome, Guest!\n",
      "Global player name is still: Default Player\n"
     ]
    }
   ],
   "source": [
    "# Global variable example\n",
    "player_name = \"Default Player\"  # Global variable\n",
    "\n",
    "def welcome_player():\n",
    "    player_name = \"Guest\"  # Local variable - different from global\n",
    "    print(f\"Welcome, {player_name}!\")\n",
    "    \n",
    "# Call the function\n",
    "welcome_player()\n",
    "\n",
    "# The global variable remains unchanged\n",
    "print(f\"Global player name is still: {player_name}\")"
   ]
  },
  {
   "cell_type": "markdown",
   "metadata": {},
   "source": [
    "### 1.2 Number Variables\n",
    "\n",
    "Python supports various numeric types:\n",
    "\n",
    "- **Integers**: Whole numbers without decimals\n",
    "- **Floating-point**: Numbers with decimal parts\n",
    "- **Complex numbers**: Numbers with real and imaginary parts"
   ]
  },
  {
   "cell_type": "code",
   "execution_count": 12,
   "metadata": {},
   "outputs": [
    {
     "name": "stdout",
     "output_type": "stream",
     "text": [
      "Number of students: 35 (Type: <class 'int'>)\n",
      "Average score: 92.7 (Type: <class 'float'>)\n",
      "The class average is 22.700000000000003 points above the passing score\n",
      "Signal value: (5+3j) (Type: <class 'complex'>)\n",
      "Impedance: (8+15j)\n"
     ]
    }
   ],
   "source": [
    "# Working with different numeric types\n",
    "\n",
    "# Integer (whole number)\n",
    "students = 35\n",
    "print(f\"Number of students: {students} (Type: {type(students)})\")\n",
    "\n",
    "# Float (decimal number)\n",
    "average_score = 92.7\n",
    "print(f\"Average score: {average_score} (Type: {type(average_score)})\")\n",
    "\n",
    "# Mathematical operations with variables\n",
    "passing_score = 70\n",
    "difference = average_score - passing_score\n",
    "print(f\"The class average is {difference} points above the passing score\")\n",
    "\n",
    "# Complex number (with real and imaginary components)\n",
    "signal = 5 + 3j  # j represents the imaginary component\n",
    "print(f\"Signal value: {signal} (Type: {type(signal)})\")\n",
    "\n",
    "# Alternative way to create complex numbers\n",
    "impedance = complex(8, 15)\n",
    "print(f\"Impedance: {impedance}\")"
   ]
  },
  {
   "cell_type": "markdown",
   "metadata": {},
   "source": [
    "### 1.3 String Variables\n",
    "\n",
    "Strings are sequences of characters enclosed in quotes (single or double). They're used for text data and have many built-in operations."
   ]
  },
  {
   "cell_type": "code",
   "execution_count": 13,
   "metadata": {},
   "outputs": [
    {
     "name": "stdout",
     "output_type": "stream",
     "text": [
      "Full name: Marie Curie\n",
      "\n",
      "Description:\n",
      "Marie Curie was a physicist and chemist\n",
      "who conducted pioneering research on radioactivity.\n",
      "She was the first woman to win a Nobel Prize.\n"
     ]
    }
   ],
   "source": [
    "# String variable examples\n",
    "\n",
    "first_name = \"Marie\"\n",
    "last_name = 'Curie'  # Single or double quotes both work\n",
    "\n",
    "# String concatenation (joining)\n",
    "full_name = first_name + \" \" + last_name\n",
    "print(f\"Full name: {full_name}\")\n",
    "\n",
    "# Multi-line strings use triple quotes\n",
    "description = \"\"\"Marie Curie was a physicist and chemist\n",
    "who conducted pioneering research on radioactivity.\n",
    "She was the first woman to win a Nobel Prize.\"\"\"\n",
    "\n",
    "print(f\"\\nDescription:\\n{description}\")"
   ]
  },
  {
   "cell_type": "markdown",
   "metadata": {},
   "source": [
    "### 1.4 Type Conversion\n",
    "\n",
    "Python provides functions to convert between different data types:\n",
    "- `str()`: Convert to string\n",
    "- `int()`: Convert to integer\n",
    "- `float()`: Convert to floating-point number\n",
    "- `bool()`: Convert to boolean"
   ]
  },
  {
   "cell_type": "code",
   "execution_count": 14,
   "metadata": {},
   "outputs": [
    {
     "name": "stdout",
     "output_type": "stream",
     "text": [
      "Years until 2030: 5\n",
      "The product costs $49.99\n",
      "String concatenation: 2510\n",
      "Numeric addition: 35\n"
     ]
    }
   ],
   "source": [
    "# Type conversion examples\n",
    "\n",
    "# String to number conversion\n",
    "input_year = \"2025\"\n",
    "current_year = int(input_year)\n",
    "years_until_2030 = 2030 - current_year\n",
    "print(f\"Years until 2030: {years_until_2030}\")\n",
    "\n",
    "# Number to string conversion for output\n",
    "price = 49.99\n",
    "message = \"The product costs $\" + str(price)\n",
    "print(message)\n",
    "\n",
    "# Converting between strings and numbers\n",
    "num_string1 = \"25\"\n",
    "num_string2 = \"10\"\n",
    "\n",
    "# String concatenation vs. numeric addition\n",
    "print(f\"String concatenation: {num_string1 + num_string2}\")\n",
    "print(f\"Numeric addition: {int(num_string1) + int(num_string2)}\")"
   ]
  },
  {
   "cell_type": "markdown",
   "metadata": {},
   "source": [
    "### 1.5 Variable Reassignment\n",
    "\n",
    "Python variables can be reassigned to different values or even different types. The same variable name can hold different values throughout a program."
   ]
  },
  {
   "cell_type": "code",
   "execution_count": 15,
   "metadata": {},
   "outputs": [
    {
     "name": "stdout",
     "output_type": "stream",
     "text": [
      "Initial counter: 0\n",
      "After incrementing: 1\n",
      "After adding 5: 6\n",
      "After doubling: 12\n",
      "Variable starts as: 100 (Type: <class 'int'>)\n",
      "Variable changes to: hundred (Type: <class 'str'>)\n"
     ]
    }
   ],
   "source": [
    "# Variable reassignment examples\n",
    "\n",
    "# Start with a counter\n",
    "counter = 0\n",
    "print(f\"Initial counter: {counter}\")\n",
    "\n",
    "# Increment the counter\n",
    "counter = counter + 1\n",
    "print(f\"After incrementing: {counter}\")\n",
    "\n",
    "# Use shorthand assignment operators\n",
    "counter += 5  # Add 5 to counter\n",
    "print(f\"After adding 5: {counter}\")\n",
    "\n",
    "counter *= 2  # Multiply counter by 2\n",
    "print(f\"After doubling: {counter}\")\n",
    "\n",
    "# Variables can even change types\n",
    "variable = 100\n",
    "print(f\"Variable starts as: {variable} (Type: {type(variable)})\")\n",
    "\n",
    "variable = \"hundred\"\n",
    "print(f\"Variable changes to: {variable} (Type: {type(variable)})\")"
   ]
  },
  {
   "cell_type": "markdown",
   "metadata": {},
   "source": [
    "## 2. Practice Exercises\n",
    "\n",
    "Try these exercises to test your understanding of Python syntax and variables:\n",
    "\n",
    "1. Create a variable to store your name and another for your age\n",
    "2. Write code that calculates and prints how old you'll be in 10 years\n",
    "3. Fix the logical error in the temperature conversion below\n",
    "4. Create a function that takes a name parameter and prints a greeting"
   ]
  },
  {
   "cell_type": "code",
   "execution_count": 16,
   "metadata": {},
   "outputs": [
    {
     "name": "stdout",
     "output_type": "stream",
     "text": [
      "25°C should be 225.15625°F\n"
     ]
    }
   ],
   "source": [
    "# Exercise: Fix this temperature conversion\n",
    "# The formula to convert Celsius to Fahrenheit is: F = C × 9/5 + 32\n",
    "\n",
    "celsius = 25\n",
    "# This calculation has a logical error\n",
    "fahrenheit = celsius * 9 + 5 / 32\n",
    "\n",
    "print(f\"{celsius}°C should be {fahrenheit}°F\")\n",
    "\n",
    "# Your solution here:\n",
    "# correct_fahrenheit = \n",
    "\n",
    "# print(f\"{celsius}°C is actually {correct_fahrenheit}°F\")"
   ]
  },
  {
   "cell_type": "code",
   "execution_count": null,
   "metadata": {},
   "outputs": [],
   "source": []
  }
 ],
 "metadata": {
  "kernelspec": {
   "display_name": "Python 3",
   "language": "python",
   "name": "python3"
  },
  "language_info": {
   "codemirror_mode": {
    "name": "ipython",
    "version": 3
   },
   "file_extension": ".py",
   "mimetype": "text/x-python",
   "name": "python",
   "nbconvert_exporter": "python",
   "pygments_lexer": "ipython3",
   "version": "3.8.5"
  }
 },
 "nbformat": 4,
 "nbformat_minor": 4
}
