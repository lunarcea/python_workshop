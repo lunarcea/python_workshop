{
 "cells": [
  {
   "cell_type": "markdown",
   "metadata": {},
   "source": [
    "## 1. Variables in Python\n",
    "\n",
    "Variables allow you to store and manipulate data. In Python, variables are created when you assign a value to them, without needing to declare their type first."
   ]
  },
  {
   "cell_type": "markdown",
   "metadata": {},
   "source": [
    "### 1.1 Local vs. Global Variables\n",
    "\n",
    "Python has two main variable scopes:\n",
    "\n",
    "* **Global variables**: Accessible throughout the entire program\n",
    "* **Local variables**: Accessible only within the function where they're defined"
   ]
  },
  {
   "cell_type": "code",
   "execution_count": 15,
   "metadata": {},
   "outputs": [
    {
     "name": "stdout",
     "output_type": "stream",
     "text": [
      "Inside function: Hello from the local scope!\n",
      "Outside function: Hello from the global scope!\n"
     ]
    }
   ],
   "source": [
    "# Global and local variable example\n",
    "\n",
    "message = \"Hello from the global scope!\"  # Global variable\n",
    "\n",
    "def display_message():\n",
    "    message = \"Hello from the local scope!\"  # Local variable\n",
    "    print(\"Inside function:\", message)\n",
    "    \n",
    "# Call the function\n",
    "display_message()\n",
    "\n",
    "# Print the global variable\n",
    "print(\"Outside function:\", message)"
   ]
  },
  {
   "cell_type": "markdown",
   "metadata": {},
   "source": [
    "### 1.2 Number Variables\n",
    "\n",
    "Python supports different types of numbers, including integers, floating-point numbers, and complex numbers."
   ]
  },
  {
   "cell_type": "code",
   "execution_count": 16,
   "metadata": {},
   "outputs": [
    {
     "name": "stdout",
     "output_type": "stream",
     "text": [
      "Population: 8000000 Type: <class 'int'>\n",
      "Temperature: 36.6 Type: <class 'float'>\n",
      "Impedance: (3+4j) Type: <class 'complex'>\n",
      "Voltage: (5+12j)\n"
     ]
    }
   ],
   "source": [
    "# Different number types in Python\n",
    "\n",
    "# Integer (whole number)\n",
    "population = 8000000\n",
    "print(\"Population:\", population, \"Type:\", type(population))\n",
    "\n",
    "# Float (decimal number)\n",
    "temperature = 36.6\n",
    "print(\"Temperature:\", temperature, \"Type:\", type(temperature))\n",
    "\n",
    "# Complex number (with real and imaginary parts)\n",
    "impedance = 3 + 4j  # j represents the imaginary component\n",
    "print(\"Impedance:\", impedance, \"Type:\", type(impedance))\n",
    "\n",
    "# Creating a complex number using the complex() constructor\n",
    "voltage = complex(5, 12)\n",
    "print(\"Voltage:\", voltage)"
   ]
  },
  {
   "cell_type": "markdown",
   "metadata": {},
   "source": [
    "### 1.3 String Variables\n",
    "\n",
    "Strings are sequences of characters, defined using single quotes (`'`) or double quotes (`\"`)."
   ]
  },
  {
   "cell_type": "code",
   "execution_count": 17,
   "metadata": {},
   "outputs": [
    {
     "name": "stdout",
     "output_type": "stream",
     "text": [
      "Full name: Marie Curie\n",
      "\n",
      "Biography:\n",
      "Marie Curie was a Polish and naturalized-French physicist and chemist\n",
      "who conducted pioneering research on radioactivity. She was the first woman to win\n",
      "a Nobel Prize and the only person to win Nobel Prizes in multiple scientific fields.\n"
     ]
    }
   ],
   "source": [
    "# String examples\n",
    "\n",
    "first_name = \"Marie\"\n",
    "last_name = 'Curie'\n",
    "\n",
    "# Concatenating strings\n",
    "full_name = first_name + \" \" + last_name\n",
    "print(\"Full name:\", full_name)\n",
    "\n",
    "# Multi-line string using triple quotes\n",
    "biography = \"\"\"Marie Curie was a Polish and naturalized-French physicist and chemist\n",
    "who conducted pioneering research on radioactivity. She was the first woman to win\n",
    "a Nobel Prize and the only person to win Nobel Prizes in multiple scientific fields.\"\"\"\n",
    "\n",
    "print(\"\\nBiography:\")\n",
    "print(biography)"
   ]
  },
  {
   "cell_type": "markdown",
   "metadata": {},
   "source": [
    "### 1.4 Type Conversion\n",
    "\n",
    "Sometimes you need to convert between different data types. Python provides built-in functions for type conversion."
   ]
  },
  {
   "cell_type": "code",
   "execution_count": 18,
   "metadata": {},
   "outputs": [
    {
     "name": "stdout",
     "output_type": "stream",
     "text": [
      "Age in 5 years: 47\n",
      "The current temperature is 24.5 degrees Celsius.\n",
      "The current temperature is 24.5 degrees Celsius.\n",
      "Original price: 19.99, Integer part: 19\n"
     ]
    }
   ],
   "source": [
    "# Type conversion examples\n",
    "\n",
    "# String to number conversion\n",
    "user_input = \"42\"\n",
    "user_age = int(user_input)  # Convert string to integer\n",
    "print(\"Age in 5 years:\", user_age + 5)\n",
    "\n",
    "# Number to string conversion\n",
    "temperature = 24.5\n",
    "message = \"The current temperature is \" + str(temperature) + \" degrees Celsius.\"\n",
    "print(message)\n",
    "\n",
    "# Better way using f-strings (formatted string literals)\n",
    "better_message = f\"The current temperature is {temperature} degrees Celsius.\"\n",
    "print(better_message)\n",
    "\n",
    "# Float to integer conversion (truncates decimal part)\n",
    "price = 19.99\n",
    "price_int = int(price)\n",
    "print(f\"Original price: {price}, Integer part: {price_int}\")"
   ]
  },
  {
   "cell_type": "markdown",
   "metadata": {},
   "source": [
    "### 1.5 Variable Manipulation\n",
    "\n",
    "Variables can be updated and modified throughout your program."
   ]
  },
  {
   "cell_type": "code",
   "execution_count": 19,
   "metadata": {},
   "outputs": [
    {
     "name": "stdout",
     "output_type": "stream",
     "text": [
      "Initial counter value: 0\n",
      "After increment: 1\n",
      "After shorthand increment: 2\n",
      "After doubling: 4\n",
      "Hello World\n"
     ]
    }
   ],
   "source": [
    "# Variable manipulation examples\n",
    "\n",
    "# Initialize a counter\n",
    "counter = 0\n",
    "print(f\"Initial counter value: {counter}\")\n",
    "\n",
    "# Increment the counter\n",
    "counter = counter + 1\n",
    "print(f\"After increment: {counter}\")\n",
    "\n",
    "# Shorthand increment\n",
    "counter += 1\n",
    "print(f\"After shorthand increment: {counter}\")\n",
    "\n",
    "# Double the value\n",
    "counter *= 2\n",
    "print(f\"After doubling: {counter}\")\n",
    "\n",
    "# Demonstrate string manipulation\n",
    "greeting = \"Hello\"\n",
    "greeting += \" World\"\n",
    "print(greeting)"
   ]
  },
  {
   "cell_type": "markdown",
   "metadata": {},
   "source": [
    "## 6. Practice Exercises\n",
    "\n",
    "Try these exercises to test your understanding of Python syntax and variables:"
   ]
  },
  {
   "cell_type": "code",
   "execution_count": 20,
   "metadata": {},
   "outputs": [],
   "source": [
    "# Exercise 1: Fix the syntax error in this code\n",
    "# Uncomment and correct the code below\n",
    "\n",
    "# price = 9.99\n",
    "# quantity = 5\n",
    "# total = price * quantity\n",
    "# print(\"Total cost: $\" total)  # Missing operator"
   ]
  },
  {
   "cell_type": "code",
   "execution_count": 21,
   "metadata": {},
   "outputs": [],
   "source": [
    "# Exercise 2: Fix the runtime error in this code\n",
    "# Uncomment and correct the code below\n",
    "\n",
    "# languages = [\"Python\", \"JavaScript\", \"Java\"]\n",
    "# for i in range(4):  # This will try to access index 3, which doesn't exist\n",
    "#     print(f\"Language {i+1}: {languages[i]}\")"
   ]
  },
  {
   "cell_type": "code",
   "execution_count": 22,
   "metadata": {},
   "outputs": [],
   "source": [
    "# Exercise 3: Fix the logical error in this code\n",
    "# The function should calculate the average of the numbers\n",
    "\n",
    "# def calculate_average(numbers):\n",
    "#     total = 0\n",
    "#     for num in numbers:\n",
    "#         total += num\n",
    "#     return total  # Logical error: not dividing by count\n",
    "\n",
    "# test_numbers = [10, 20, 30, 40, 50]\n",
    "# print(f\"Average: {calculate_average(test_numbers)}\")"
   ]
  },
  {
   "cell_type": "code",
   "execution_count": null,
   "metadata": {},
   "outputs": [],
   "source": []
  }
 ],
 "metadata": {
  "kernelspec": {
   "display_name": "Python 3",
   "language": "python",
   "name": "python3"
  },
  "language_info": {
   "codemirror_mode": {
    "name": "ipython",
    "version": 3
   },
   "file_extension": ".py",
   "mimetype": "text/x-python",
   "name": "python",
   "nbconvert_exporter": "python",
   "pygments_lexer": "ipython3",
   "version": "3.8.5"
  }
 },
 "nbformat": 4,
 "nbformat_minor": 4
}
