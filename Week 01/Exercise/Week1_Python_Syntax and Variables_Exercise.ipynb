{
 "cells": [
  {
   "cell_type": "markdown",
   "metadata": {},
   "source": [
    "## Practice Exercises\n",
    "\n",
    "Try these exercises to test your understanding of Python syntax and variables:"
   ]
  },
  {
   "cell_type": "code",
   "execution_count": 20,
   "metadata": {},
   "outputs": [],
   "source": [
    "# Exercise 1: Fix the syntax error in this code\n",
    "# Uncomment and correct the code below\n",
    "\n",
    "# price = 9.99\n",
    "# quantity = 5\n",
    "# total = price * quantity\n",
    "# print(\"Total cost: $\" total)  # Missing operator"
   ]
  },
  {
   "cell_type": "code",
   "execution_count": 21,
   "metadata": {},
   "outputs": [],
   "source": [
    "# Exercise 2: Fix the runtime error in this code\n",
    "# Uncomment and correct the code below\n",
    "\n",
    "# languages = [\"Python\", \"JavaScript\", \"Java\"]\n",
    "# for i in range(4):  # This will try to access index 3, which doesn't exist\n",
    "#     print(f\"Language {i+1}: {languages[i]}\")"
   ]
  },
  {
   "cell_type": "code",
   "execution_count": 22,
   "metadata": {},
   "outputs": [],
   "source": [
    "# Exercise 3: Fix the logical error in this code\n",
    "# The function should calculate the average of the numbers\n",
    "\n",
    "# def calculate_average(numbers):\n",
    "#     total = 0\n",
    "#     for num in numbers:\n",
    "#         total += num\n",
    "#     return total  # Logical error: not dividing by count\n",
    "\n",
    "# test_numbers = [10, 20, 30, 40, 50]\n",
    "# print(f\"Average: {calculate_average(test_numbers)}\")"
   ]
  },
  {
   "cell_type": "code",
   "execution_count": null,
   "metadata": {},
   "outputs": [],
   "source": []
  }
 ],
 "metadata": {
  "kernelspec": {
   "display_name": "Python 3",
   "language": "python",
   "name": "python3"
  },
  "language_info": {
   "codemirror_mode": {
    "name": "ipython",
    "version": 3
   },
   "file_extension": ".py",
   "mimetype": "text/x-python",
   "name": "python",
   "nbconvert_exporter": "python",
   "pygments_lexer": "ipython3",
   "version": "3.8.5"
  }
 },
 "nbformat": 4,
 "nbformat_minor": 4
}
