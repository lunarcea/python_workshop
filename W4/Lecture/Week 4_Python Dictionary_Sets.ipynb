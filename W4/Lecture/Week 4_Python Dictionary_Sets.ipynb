{
 "cells": [
  {
   "cell_type": "markdown",
   "metadata": {},
   "source": [
    "# Python Data Structures: A Comprehensive Guide\n",
    "\n",
    "This notebook provides a complete reference for working with Python's core data structures, covering:\n",
    "\n",
    "1. [Dictionaries](#dictionaries)\n",
    "2. [Sets](#sets)\n",
    "3. [Data Structure Conversion](#conversion)\n",
    "4. [Comprehensions](#comprehension)\n",
    "5. [API Data Examples](#api-examples)\n",
    "\n",
    "Each section includes practical examples and best practices for effective Python programming."
   ]
  },
  {
   "cell_type": "markdown",
   "metadata": {},
   "source": [
    "## <a id=\"dictionaries\"></a>Dictionaries\n",
    "\n",
    "Dictionaries are mutable collections that store unordered key-value pairs. They provide efficient lookups and are one of Python's most versatile data structures."
   ]
  },
  {
   "cell_type": "code",
   "execution_count": 1,
   "metadata": {},
   "outputs": [
    {
     "name": "stdout",
     "output_type": "stream",
     "text": [
      "Empty dict: {}\n",
      "Simple dict: {'name': 'Alice', 'age': 25}\n",
      "Dict from tuples: {'a': 1, 'b': 2}\n",
      "Dict from kwargs: {'city': 'New York', 'country': 'USA'}\n"
     ]
    }
   ],
   "source": [
    "# Creating dictionaries\n",
    "empty_dict_1 = {}                       # Using curly braces\n",
    "empty_dict_2 = dict()                   # Using dict() constructor\n",
    "simple_dict = {'name': 'Alice', 'age': 25}\n",
    "dict_from_tuples = dict([('a', 1), ('b', 2)])\n",
    "dict_from_kwargs = dict(city='New York', country='USA')\n",
    "\n",
    "print(\"Empty dict:\", empty_dict_1)\n",
    "print(\"Simple dict:\", simple_dict)\n",
    "print(\"Dict from tuples:\", dict_from_tuples)\n",
    "print(\"Dict from kwargs:\", dict_from_kwargs)"
   ]
  },
  {
   "cell_type": "markdown",
   "metadata": {},
   "source": [
    "### Accessing Dictionary Values\n",
    "\n",
    "You can access dictionary values using square bracket notation or the `get()` method."
   ]
  },
  {
   "cell_type": "code",
   "execution_count": 2,
   "metadata": {},
   "outputs": [
    {
     "name": "stdout",
     "output_type": "stream",
     "text": [
      "Alex\n",
      "None\n",
      "Not available\n",
      "coding\n",
      "Boston\n"
     ]
    }
   ],
   "source": [
    "user = {\n",
    "    'name': 'Alex',\n",
    "    'email': 'alex@example.com',\n",
    "    'interests': ['coding', 'data science', 'music'],\n",
    "    'address': {\n",
    "        'city': 'Boston',\n",
    "        'state': 'MA'\n",
    "    }\n",
    "}\n",
    "\n",
    "# Accessing with square brackets\n",
    "print(user['name'])\n",
    "\n",
    "# Accessing with get() (safer - returns None or default if key doesn't exist)\n",
    "print(user.get('phone'))  # Returns None\n",
    "print(user.get('phone', 'Not available'))  # Returns default value\n",
    "\n",
    "# Accessing nested values\n",
    "print(user['interests'][0])  # First interest\n",
    "print(user['address']['city'])  # Nested dictionary value"
   ]
  },
  {
   "cell_type": "markdown",
   "metadata": {},
   "source": [
    "### Modifying Dictionaries\n",
    "\n",
    "Dictionaries are mutable, so you can add, update, or remove key-value pairs."
   ]
  },
  {
   "cell_type": "code",
   "execution_count": 3,
   "metadata": {},
   "outputs": [
    {
     "name": "stdout",
     "output_type": "stream",
     "text": [
      "Updated profile: {'name': 'Jordan', 'role': 'Senior Developer', 'email': 'jordan@example.com', 'phone': '555-1234', 'department': 'R&D'}\n",
      "Removed: 555-1234\n",
      "After pop(): {'name': 'Jordan', 'role': 'Senior Developer', 'email': 'jordan@example.com', 'department': 'R&D'}\n",
      "After del: {'name': 'Jordan', 'role': 'Senior Developer', 'department': 'R&D'}\n",
      "Random removal: ('department', 'R&D')\n",
      "After popitem(): {'name': 'Jordan', 'role': 'Senior Developer'}\n",
      "After clear(): {}\n"
     ]
    }
   ],
   "source": [
    "profile = {'name': 'Jordan', 'role': 'Developer'}\n",
    "\n",
    "# Adding new key-value pairs\n",
    "profile['email'] = 'jordan@example.com'\n",
    "profile.update({'phone': '555-1234', 'department': 'Engineering'})\n",
    "\n",
    "# Updating existing values\n",
    "profile['role'] = 'Senior Developer'\n",
    "profile.update({'department': 'R&D'})\n",
    "\n",
    "print(\"Updated profile:\", profile)\n",
    "\n",
    "# Removing items\n",
    "removed_value = profile.pop('phone')  # Removes and returns the value\n",
    "print(\"Removed:\", removed_value)\n",
    "print(\"After pop():\", profile)\n",
    "\n",
    "del profile['email']  # Removes the key-value pair\n",
    "print(\"After del:\", profile)\n",
    "\n",
    "# Random removal\n",
    "random_item = profile.popitem()  # Removes and returns (key, value) as a tuple\n",
    "print(\"Random removal:\", random_item)\n",
    "print(\"After popitem():\", profile)\n",
    "\n",
    "# Clear all items\n",
    "profile.clear()\n",
    "print(\"After clear():\", profile)"
   ]
  },
  {
   "cell_type": "markdown",
   "metadata": {},
   "source": [
    "### Dictionary Operations\n",
    "\n",
    "Common operations include checking membership, iterating through keys/values, and getting dictionary views."
   ]
  },
  {
   "cell_type": "code",
   "execution_count": 4,
   "metadata": {},
   "outputs": [
    {
     "name": "stdout",
     "output_type": "stream",
     "text": [
      "True\n",
      "False\n",
      "True\n",
      "Keys: dict_keys(['apples', 'bananas', 'oranges', 'pears'])\n",
      "Values: dict_values([25, 12, 18, 5])\n",
      "Items: dict_items([('apples', 25), ('bananas', 12), ('oranges', 18), ('pears', 5)])\n",
      "\n",
      "Inventory summary:\n",
      "- apples: 25\n",
      "- bananas: 12\n",
      "- oranges: 18\n",
      "- pears: 5\n",
      "\n",
      "Items in stock:\n",
      "- apples\n",
      "- bananas\n",
      "- oranges\n",
      "- pears\n",
      "\n",
      "Quantities:\n",
      "25\n",
      "12\n",
      "18\n",
      "5\n"
     ]
    }
   ],
   "source": [
    "inventory = {\n",
    "    'apples': 25,\n",
    "    'bananas': 12,\n",
    "    'oranges': 18,\n",
    "    'pears': 5\n",
    "}\n",
    "\n",
    "# Membership testing (checks keys only)\n",
    "print('apples' in inventory)       # True\n",
    "print('cherries' in inventory)     # False\n",
    "print('cherries' not in inventory) # True\n",
    "\n",
    "# Getting views\n",
    "print(\"Keys:\", inventory.keys())\n",
    "print(\"Values:\", inventory.values())\n",
    "print(\"Items:\", inventory.items())\n",
    "\n",
    "# Iterating through a dictionary\n",
    "print(\"\\nInventory summary:\")\n",
    "for item, quantity in inventory.items():\n",
    "    print(f\"- {item}: {quantity}\")\n",
    "\n",
    "# Iterating through keys only\n",
    "print(\"\\nItems in stock:\")\n",
    "for item in inventory.keys():\n",
    "    print(f\"- {item}\")\n",
    "\n",
    "# Iterating through values only\n",
    "print(\"\\nQuantities:\")\n",
    "for quantity in inventory.values():\n",
    "    print(quantity)"
   ]
  },
  {
   "cell_type": "markdown",
   "metadata": {},
   "source": [
    "## <a id=\"sets\"></a>Sets\n",
    "\n",
    "Sets are unordered collections of unique elements. They're useful for membership testing, removing duplicates, and performing mathematical set operations."
   ]
  },
  {
   "cell_type": "code",
   "execution_count": 5,
   "metadata": {},
   "outputs": [
    {
     "name": "stdout",
     "output_type": "stream",
     "text": [
      "Set with duplicates removed: {1, 2, 3, 4, 5}\n",
      "Set from string: {'h', 'o', 'l', 'e'}\n",
      "Error: unhashable type: 'list'\n"
     ]
    }
   ],
   "source": [
    "# Creating sets\n",
    "empty_set = set()  # Empty set (Note: {} creates an empty dictionary)\n",
    "numbers = {1, 2, 3, 4, 5}\n",
    "letters = set(['a', 'b', 'c', 'd'])\n",
    "mixed_set = {1, 'hello', (1, 2, 3)}  # Sets can contain different types\n",
    "\n",
    "# Sets remove duplicates automatically\n",
    "numbers_with_duplicates = {1, 2, 2, 3, 4, 4, 5}\n",
    "print(\"Set with duplicates removed:\", numbers_with_duplicates)\n",
    "\n",
    "# Set from string (each character becomes an element)\n",
    "char_set = set('hello')\n",
    "print(\"Set from string:\", char_set)  # Note: duplicates are removed\n",
    "\n",
    "# Sets cannot contain mutable elements like lists\n",
    "try:\n",
    "    invalid_set = {1, [2, 3]}\n",
    "except TypeError as e:\n",
    "    print(\"Error:\", e)  # Will show: unhashable type: 'list'"
   ]
  },
  {
   "cell_type": "markdown",
   "metadata": {},
   "source": [
    "### Modifying Sets\n",
    "\n",
    "Since sets are mutable, we can add and remove elements."
   ]
  },
  {
   "cell_type": "code",
   "execution_count": 6,
   "metadata": {},
   "outputs": [
    {
     "name": "stdout",
     "output_type": "stream",
     "text": [
      "After add(): {'yellow', 'green', 'red', 'blue'}\n",
      "After update(): {'orange', 'yellow', 'red', 'green', 'blue', 'purple'}\n",
      "After remove(): {'orange', 'yellow', 'red', 'blue', 'purple'}\n",
      "After discard(): {'orange', 'yellow', 'red', 'blue', 'purple'}\n",
      "Popped: orange\n",
      "After pop(): {'yellow', 'red', 'blue', 'purple'}\n",
      "After clear(): set()\n"
     ]
    }
   ],
   "source": [
    "colors = {'red', 'blue', 'green'}\n",
    "\n",
    "# Adding elements\n",
    "colors.add('yellow')\n",
    "print(\"After add():\", colors)\n",
    "\n",
    "# Adding multiple elements\n",
    "colors.update(['orange', 'purple', 'blue'])  # Note: 'blue' is already there\n",
    "print(\"After update():\", colors)\n",
    "\n",
    "# Removing elements (multiple approaches)\n",
    "colors.remove('green')  # Raises KeyError if element doesn't exist\n",
    "print(\"After remove():\", colors)\n",
    "\n",
    "colors.discard('teal')  # No error if element doesn't exist\n",
    "print(\"After discard():\", colors)\n",
    "\n",
    "popped_color = colors.pop()  # Removes a random element\n",
    "print(\"Popped:\", popped_color)\n",
    "print(\"After pop():\", colors)\n",
    "\n",
    "# Clear all elements\n",
    "colors.clear()\n",
    "print(\"After clear():\", colors)"
   ]
  },
  {
   "cell_type": "markdown",
   "metadata": {},
   "source": [
    "### Set Operations\n",
    "\n",
    "Sets support powerful mathematical operations like union, intersection, and difference."
   ]
  },
  {
   "cell_type": "code",
   "execution_count": 7,
   "metadata": {},
   "outputs": [
    {
     "name": "stdout",
     "output_type": "stream",
     "text": [
      "Union using |: {1, 2, 3, 4, 5, 6, 7, 8}\n",
      "Union using union(): {1, 2, 3, 4, 5, 6, 7, 8}\n",
      "Intersection using &: {4, 5}\n",
      "Intersection using intersection(): {4, 5}\n",
      "Difference using -: {1, 2, 3}\n",
      "Difference using difference(): {1, 2, 3}\n",
      "Symmetric difference using ^: {1, 2, 3, 6, 7, 8}\n",
      "Symmetric difference using method: {1, 2, 3, 6, 7, 8}\n",
      "C is subset of A? True\n",
      "A is superset of C? True\n",
      "Is 3 in A? True\n",
      "Is 6 not in A? True\n"
     ]
    }
   ],
   "source": [
    "# Define sets for demonstration\n",
    "A = {1, 2, 3, 4, 5}\n",
    "B = {4, 5, 6, 7, 8}\n",
    "\n",
    "# Union (elements in either set)\n",
    "print(\"Union using |:\", A | B)\n",
    "print(\"Union using union():\", A.union(B))\n",
    "\n",
    "# Intersection (elements in both sets)\n",
    "print(\"Intersection using &:\", A & B)\n",
    "print(\"Intersection using intersection():\", A.intersection(B))\n",
    "\n",
    "# Difference (elements in first set but not second)\n",
    "print(\"Difference using -:\", A - B)\n",
    "print(\"Difference using difference():\", A.difference(B))\n",
    "\n",
    "# Symmetric difference (elements in either set but not both)\n",
    "print(\"Symmetric difference using ^:\", A ^ B)\n",
    "print(\"Symmetric difference using method:\", A.symmetric_difference(B))\n",
    "\n",
    "# Subset and superset tests\n",
    "C = {1, 2}\n",
    "print(\"C is subset of A?\", C.issubset(A))\n",
    "print(\"A is superset of C?\", A.issuperset(C))\n",
    "\n",
    "# Membership testing\n",
    "print(\"Is 3 in A?\", 3 in A)\n",
    "print(\"Is 6 not in A?\", 6 not in A)"
   ]
  },
  {
   "cell_type": "markdown",
   "metadata": {},
   "source": [
    "### Frozen Sets\n",
    "\n",
    "Frozen sets are immutable sets, meaning they cannot be modified after creation."
   ]
  },
  {
   "cell_type": "code",
   "execution_count": 8,
   "metadata": {},
   "outputs": [
    {
     "name": "stdout",
     "output_type": "stream",
     "text": [
      "Frozenset: frozenset({1, 2, 3, 4})\n",
      "Union: frozenset({1, 2, 3, 4, 5, 6})\n",
      "Intersection: frozenset({3, 4})\n",
      "Error when adding to frozenset: 'frozenset' object has no attribute 'add'\n"
     ]
    }
   ],
   "source": [
    "# Creating a frozenset\n",
    "immutable_set = frozenset([1, 2, 3, 4])\n",
    "print(\"Frozenset:\", immutable_set)\n",
    "\n",
    "# Set operations still work\n",
    "other_set = frozenset([3, 4, 5, 6])\n",
    "print(\"Union:\", immutable_set | other_set)\n",
    "print(\"Intersection:\", immutable_set & other_set)\n",
    "\n",
    "# But modification operations don't work\n",
    "try:\n",
    "    immutable_set.add(5)\n",
    "except AttributeError as e:\n",
    "    print(\"Error when adding to frozenset:\", e)"
   ]
  },
  {
   "cell_type": "markdown",
   "metadata": {},
   "source": [
    "## <a id=\"conversion\"></a>Data Structure Conversion\n",
    "\n",
    "Python allows easy conversion between data structures."
   ]
  },
  {
   "cell_type": "code",
   "execution_count": 9,
   "metadata": {},
   "outputs": [
    {
     "name": "stdout",
     "output_type": "stream",
     "text": [
      "List to set: {1, 2, 3, 4, 5}\n",
      "Set to list: [1, 2, 3, 4, 5]\n",
      "Dict keys to list: ['a', 'b', 'c']\n",
      "Dict values to list: [1, 2, 3]\n",
      "Dict items to list of tuples: [('a', 1), ('b', 2), ('c', 3)]\n",
      "List of tuples to dict: {'name': 'Taylor', 'age': 30, 'job': 'Engineer'}\n"
     ]
    }
   ],
   "source": [
    "# Converting between lists, sets, and dictionaries\n",
    "\n",
    "# List to set (removes duplicates)\n",
    "my_list = [1, 2, 3, 3, 4, 5, 5]\n",
    "my_set = set(my_list)\n",
    "print(\"List to set:\", my_set)\n",
    "\n",
    "# Set to list\n",
    "back_to_list = list(my_set)\n",
    "print(\"Set to list:\", back_to_list)\n",
    "\n",
    "# Dictionary to lists\n",
    "my_dict = {'a': 1, 'b': 2, 'c': 3}\n",
    "keys_list = list(my_dict.keys())\n",
    "values_list = list(my_dict.values())\n",
    "items_list = list(my_dict.items())\n",
    "print(\"Dict keys to list:\", keys_list)\n",
    "print(\"Dict values to list:\", values_list)\n",
    "print(\"Dict items to list of tuples:\", items_list)\n",
    "\n",
    "# List of tuples to dictionary\n",
    "tuple_list = [('name', 'Taylor'), ('age', 30), ('job', 'Engineer')]\n",
    "new_dict = dict(tuple_list)\n",
    "print(\"List of tuples to dict:\", new_dict)"
   ]
  },
  {
   "cell_type": "markdown",
   "metadata": {},
   "source": [
    "## <a id=\"comprehension\"></a>Comprehensions\n",
    "\n",
    "Comprehensions provide a concise way to create lists, sets, and dictionaries from existing sequences."
   ]
  },
  {
   "cell_type": "code",
   "execution_count": 10,
   "metadata": {},
   "outputs": [
    {
     "name": "stdout",
     "output_type": "stream",
     "text": [
      "Original numbers: [1, 2, 3, 4, 5, 6, 7, 8, 9, 10]\n",
      "Squares: [1, 4, 9, 16, 25, 36, 49, 64, 81, 100]\n",
      "Even squares: [4, 16, 36, 64, 100]\n",
      "Unique word lengths: {4, 5, 6}\n",
      "Word lengths: {'hello': 5, 'world': 5, 'python': 6}\n",
      "Name to age mapping: {'Alice': 25, 'Bob': 30, 'Charlie': 35}\n"
     ]
    }
   ],
   "source": [
    "# List comprehension\n",
    "numbers = [1, 2, 3, 4, 5, 6, 7, 8, 9, 10]\n",
    "squares = [x**2 for x in numbers]\n",
    "even_squares = [x**2 for x in numbers if x % 2 == 0]\n",
    "\n",
    "print(\"Original numbers:\", numbers)\n",
    "print(\"Squares:\", squares)\n",
    "print(\"Even squares:\", even_squares)\n",
    "\n",
    "# Set comprehension\n",
    "unique_lengths = {len(word) for word in ['hello', 'world', 'python', 'code']}\n",
    "print(\"Unique word lengths:\", unique_lengths)\n",
    "\n",
    "# Dictionary comprehension\n",
    "word_lengths = {word: len(word) for word in ['hello', 'world', 'python']}\n",
    "print(\"Word lengths:\", word_lengths)\n",
    "\n",
    "# More complex: Mapping values using two lists\n",
    "names = ['Alice', 'Bob', 'Charlie']\n",
    "ages = [25, 30, 35]\n",
    "name_to_age = {name: age for name, age in zip(names, ages)}\n",
    "print(\"Name to age mapping:\", name_to_age)"
   ]
  },
  {
   "cell_type": "markdown",
   "metadata": {},
   "source": [
    "### Advanced Comprehension Examples\n",
    "\n",
    "Let's look at some more advanced uses of comprehensions."
   ]
  },
  {
   "cell_type": "code",
   "execution_count": 11,
   "metadata": {},
   "outputs": [
    {
     "name": "stdout",
     "output_type": "stream",
     "text": [
      "Flattened list: [1, 2, 3, 4, 5, 6, 7, 8, 9]\n",
      "Passing scores: {'Alice': 90, 'Bob': 75, 'Charlie': 85}\n",
      "Paired dictionary: {'a': 1, 'b': 2, 'c': 3, 'd': 4}\n",
      "Vowels found: {'o', 'i', 'a', 'e', 'u'}\n"
     ]
    }
   ],
   "source": [
    "# Flattening a nested list with comprehension\n",
    "nested_list = [[1, 2, 3], [4, 5, 6], [7, 8, 9]]\n",
    "flattened = [item for sublist in nested_list for item in sublist]\n",
    "print(\"Flattened list:\", flattened)\n",
    "\n",
    "# Conditional dictionary comprehension\n",
    "scores = {'Alice': 90, 'Bob': 75, 'Charlie': 85, 'Dave': 65}\n",
    "passing_scores = {name: score for name, score in scores.items() if score >= 70}\n",
    "print(\"Passing scores:\", passing_scores)\n",
    "\n",
    "# Creating a dictionary from paired indices\n",
    "keys = ['a', 'b', 'c', 'd']\n",
    "values = [1, 2, 3, 4]\n",
    "pair_dict = {keys[i]: values[i] for i in range(len(keys))}\n",
    "print(\"Paired dictionary:\", pair_dict)\n",
    "\n",
    "# Finding vowels in a string with set comprehension\n",
    "text = \"Python programming is fun and educational\"\n",
    "vowels = {char for char in text.lower() if char in 'aeiou'}\n",
    "print(\"Vowels found:\", vowels)"
   ]
  },
  {
   "cell_type": "markdown",
   "metadata": {},
   "source": [
    "## <a id=\"api-examples\"></a>API Data Examples\n",
    "\n",
    "Working with APIs often involves handling structured data, typically in JSON format. The following examples demonstrate how to work with API data using Python data structures."
   ]
  },
  {
   "cell_type": "code",
   "execution_count": 12,
   "metadata": {},
   "outputs": [
    {
     "name": "stdout",
     "output_type": "stream",
     "text": [
      "Status: success\n",
      "Number of courses: 3\n",
      "First course: Python Fundamentals\n",
      "All course titles: ['Python Fundamentals', 'Data Structures', 'Advanced Concepts']\n",
      "ID to title mapping: {1: 'Python Fundamentals', 2: 'Data Structures', 3: 'Advanced Concepts'}\n",
      "All unique topics: {'generators', 'variables', 'decorators', 'sets', 'dictionaries', 'functions', 'control flow', 'classes', 'lists'}\n",
      "Courses by difficulty: {'beginner': ['Python Fundamentals'], 'intermediate': ['Data Structures'], 'advanced': ['Advanced Concepts']}\n"
     ]
    }
   ],
   "source": [
    "# Sample API response (similar to what you might get from a REST API)\n",
    "api_response = {\n",
    "    \"status\": \"success\",\n",
    "    \"count\": 3,\n",
    "    \"results\": [\n",
    "        {\n",
    "            \"id\": 1,\n",
    "            \"title\": \"Python Fundamentals\",\n",
    "            \"topics\": [\"variables\", \"control flow\", \"functions\"],\n",
    "            \"difficulty\": \"beginner\"\n",
    "        },\n",
    "        {\n",
    "            \"id\": 2, \n",
    "            \"title\": \"Data Structures\",\n",
    "            \"topics\": [\"lists\", \"dictionaries\", \"sets\"],\n",
    "            \"difficulty\": \"intermediate\"\n",
    "        },\n",
    "        {\n",
    "            \"id\": 3,\n",
    "            \"title\": \"Advanced Concepts\",\n",
    "            \"topics\": [\"classes\", \"decorators\", \"generators\"],\n",
    "            \"difficulty\": \"advanced\"\n",
    "        }\n",
    "    ]\n",
    "}\n",
    "\n",
    "# Accessing nested data\n",
    "print(\"Status:\", api_response[\"status\"])\n",
    "print(\"Number of courses:\", api_response[\"count\"])\n",
    "\n",
    "# Getting the first result\n",
    "first_result = api_response[\"results\"][0]\n",
    "print(\"First course:\", first_result[\"title\"])\n",
    "\n",
    "# Extract all course titles using a list comprehension\n",
    "course_titles = [course[\"title\"] for course in api_response[\"results\"]]\n",
    "print(\"All course titles:\", course_titles)\n",
    "\n",
    "# Create a dictionary mapping course IDs to titles\n",
    "id_to_title = {course[\"id\"]: course[\"title\"] for course in api_response[\"results\"]}\n",
    "print(\"ID to title mapping:\", id_to_title)\n",
    "\n",
    "# Find all unique topics using a set comprehension with flattening\n",
    "all_topics = {topic for course in api_response[\"results\"] for topic in course[\"topics\"]}\n",
    "print(\"All unique topics:\", all_topics)\n",
    "\n",
    "# Group courses by difficulty\n",
    "difficulty_groups = {}\n",
    "for course in api_response[\"results\"]:\n",
    "    difficulty = course[\"difficulty\"]\n",
    "    if difficulty not in difficulty_groups:\n",
    "        difficulty_groups[difficulty] = []\n",
    "    difficulty_groups[difficulty].append(course[\"title\"])\n",
    "\n",
    "print(\"Courses by difficulty:\", difficulty_groups)"
   ]
  },
  {
   "cell_type": "markdown",
   "metadata": {},
   "source": [
    "### Simulating API Requests and Processing\n",
    "\n",
    "Let's simulate making API requests and processing the responses."
   ]
  },
  {
   "cell_type": "code",
   "execution_count": 13,
   "metadata": {},
   "outputs": [
    {
     "name": "stdout",
     "output_type": "stream",
     "text": [
      "Books by category:\n",
      "Fiction: {'The Future Path', 'Midnight Echoes'}\n",
      "Non-Fiction: {'Data Science Revolution', 'Leadership Principles'}\n",
      "\n",
      "Popular books (on list for >5 weeks):\n",
      "- Data Science Revolution by Alex Chen (8 weeks)\n",
      "- Leadership Principles by Sarah Johnson (12 weeks)\n",
      "\n",
      "Authors and their books:\n",
      "Jane Reynolds: The Future Path\n",
      "Alex Chen: Data Science Revolution\n",
      "Robert James: Midnight Echoes\n",
      "Sarah Johnson: Leadership Principles\n"
     ]
    }
   ],
   "source": [
    "import json\n",
    "from datetime import datetime\n",
    "\n",
    "# Simulate an API response for bestselling books\n",
    "def get_bestsellers_api_response():\n",
    "    return {\n",
    "        \"status\": \"OK\",\n",
    "        \"copyright\": \"Copyright (c) 2025\",\n",
    "        \"num_results\": 4,\n",
    "        \"last_updated\": \"2025-03-15\",\n",
    "        \"results\": [\n",
    "            {\n",
    "                \"title\": \"The Future Path\",\n",
    "                \"author\": \"Jane Reynolds\",\n",
    "                \"publisher\": \"Horizon Books\",\n",
    "                \"category\": \"Fiction\",\n",
    "                \"rank\": 1,\n",
    "                \"weeks_on_list\": 5\n",
    "            },\n",
    "            {\n",
    "                \"title\": \"Data Science Revolution\",\n",
    "                \"author\": \"Alex Chen\",\n",
    "                \"publisher\": \"Tech Press\",\n",
    "                \"category\": \"Non-Fiction\",\n",
    "                \"rank\": 2,\n",
    "                \"weeks_on_list\": 8\n",
    "            },\n",
    "            {\n",
    "                \"title\": \"Midnight Echoes\",\n",
    "                \"author\": \"Robert James\",\n",
    "                \"publisher\": \"Mystery House\",\n",
    "                \"category\": \"Fiction\",\n",
    "                \"rank\": 3,\n",
    "                \"weeks_on_list\": 3\n",
    "            },\n",
    "            {\n",
    "                \"title\": \"Leadership Principles\",\n",
    "                \"author\": \"Sarah Johnson\",\n",
    "                \"publisher\": \"Business Books\",\n",
    "                \"category\": \"Non-Fiction\",\n",
    "                \"rank\": 4,\n",
    "                \"weeks_on_list\": 12\n",
    "            }\n",
    "        ]\n",
    "    }\n",
    "\n",
    "# Process the API response\n",
    "bestsellers = get_bestsellers_api_response()\n",
    "\n",
    "# Extract books by category using dictionary of sets\n",
    "books_by_category = {}\n",
    "for book in bestsellers[\"results\"]:\n",
    "    category = book[\"category\"]\n",
    "    if category not in books_by_category:\n",
    "        books_by_category[category] = set()\n",
    "    books_by_category[category].add(book[\"title\"])\n",
    "\n",
    "print(\"Books by category:\")\n",
    "for category, books in books_by_category.items():\n",
    "    print(f\"{category}: {books}\")\n",
    "\n",
    "# Find popular books (on list for more than 5 weeks) using list comprehension\n",
    "popular_books = [book for book in bestsellers[\"results\"] if book[\"weeks_on_list\"] > 5]\n",
    "print(\"\\nPopular books (on list for >5 weeks):\")\n",
    "for book in popular_books:\n",
    "    print(f\"- {book['title']} by {book['author']} ({book['weeks_on_list']} weeks)\")\n",
    "\n",
    "# Create a dictionary mapping authors to their books\n",
    "author_to_books = {}\n",
    "for book in bestsellers[\"results\"]:\n",
    "    author = book[\"author\"]\n",
    "    if author not in author_to_books:\n",
    "        author_to_books[author] = []\n",
    "    author_to_books[author].append(book[\"title\"])\n",
    "\n",
    "print(\"\\nAuthors and their books:\")\n",
    "for author, books in author_to_books.items():\n",
    "    print(f\"{author}: {', '.join(books)}\")"
   ]
  },
  {
   "cell_type": "markdown",
   "metadata": {},
   "source": [
    "## Summary\n",
    "\n",
    "In this comprehensive guide, we've explored Python's core data structures:\n",
    "\n",
    "- **Dictionaries**: Key-value pairs with efficient lookups\n",
    "- **Sets**: Collections of unique elements with powerful set operations\n",
    "- **Conversions**: Methods to transform between different data structures\n",
    "- **Comprehensions**: Concise syntax for creating collections\n",
    "- **API Data**: Practical examples of handling structured data\n",
    "\n",
    "These data structures form the foundation of effective Python programming and data manipulation.\n",
    "\n",
    "For further exploration, consider official Python documentation and resources like Real Python or Python.org."
   ]
  },
  {
   "cell_type": "code",
   "execution_count": null,
   "metadata": {},
   "outputs": [],
   "source": []
  }
 ],
 "metadata": {
  "kernelspec": {
   "display_name": "Python 3",
   "language": "python",
   "name": "python3"
  },
  "language_info": {
   "codemirror_mode": {
    "name": "ipython",
    "version": 3
   },
   "file_extension": ".py",
   "mimetype": "text/x-python",
   "name": "python",
   "nbconvert_exporter": "python",
   "pygments_lexer": "ipython3",
   "version": "3.8.5"
  }
 },
 "nbformat": 4,
 "nbformat_minor": 4
}
