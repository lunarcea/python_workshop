{
 "cells": [
  {
   "cell_type": "markdown",
   "metadata": {},
   "source": [
    "# Python Data Structures and String Manipulation Reference\n",
    "\n",
    "This comprehensive guide covers fundamental Python concepts including:\n",
    "\n",
    "1. **String Fundamentals** - Creation, manipulation, and formatting\n",
    "2. **Lists and Tuples** - Creating and working with collection data types\n",
    "3. **Practical Applications** - How to apply these concepts to real problems\n",
    "\n",
    "Each section includes both theoretical explanations and practical examples."
   ]
  },
  {
   "cell_type": "markdown",
   "metadata": {},
   "source": [
    "## 1. String Fundamentals\n",
    "\n",
    "Strings are sequences of characters and one of Python's most commonly used data types. They provide powerful text processing capabilities."
   ]
  },
  {
   "cell_type": "markdown",
   "metadata": {},
   "source": [
    "### 1.1 Creating Strings\n",
    "\n",
    "Python offers multiple ways to define strings using quotation marks:"
   ]
  },
  {
   "cell_type": "code",
   "execution_count": 1,
   "metadata": {},
   "outputs": [
    {
     "name": "stdout",
     "output_type": "stream",
     "text": [
      "Hello, world!\n",
      "Hello, world!\n",
      "Are these strings equal? True\n",
      "\n",
      "Multi-line string:\n",
      "This string\n",
      "spans across\n",
      "multiple lines.\n"
     ]
    }
   ],
   "source": [
    "# Strings can be created with single or double quotes\n",
    "single_quote_string = 'Hello, world!'\n",
    "double_quote_string = \"Hello, world!\"\n",
    "\n",
    "print(single_quote_string)\n",
    "print(double_quote_string)\n",
    "print(f\"Are these strings equal? {single_quote_string == double_quote_string}\")\n",
    "\n",
    "# Triple quotes allow multi-line strings\n",
    "multi_line_string = \"\"\"This string\n",
    "spans across\n",
    "multiple lines.\"\"\"\n",
    "\n",
    "print(\"\\nMulti-line string:\")\n",
    "print(multi_line_string)"
   ]
  },
  {
   "cell_type": "markdown",
   "metadata": {},
   "source": [
    "### 1.2 Quotation Marks and Escape Characters\n",
    "\n",
    "The flexibility of Python's quotation system helps when strings contain quotes themselves:"
   ]
  },
  {
   "cell_type": "code",
   "execution_count": 2,
   "metadata": {},
   "outputs": [
    {
     "name": "stdout",
     "output_type": "stream",
     "text": [
      "This string has 'single quotes' inside it\n",
      "This string has \"double quotes\" inside it\n",
      "This string has both 'single' and \"double\" quotes\n",
      "\n",
      "Newline example:\n",
      "Second line\n",
      "Tab example:\tTabbed text\n",
      "Backslash example: C:\\Users\\Documents\n"
     ]
    }
   ],
   "source": [
    "# When a string contains quotes, you can use the alternate quote type\n",
    "contains_single_quotes = \"This string has 'single quotes' inside it\"\n",
    "contains_double_quotes = 'This string has \"double quotes\" inside it'\n",
    "\n",
    "print(contains_single_quotes)\n",
    "print(contains_double_quotes)\n",
    "\n",
    "# For more complex cases, escape characters can be used\n",
    "complex_string = 'This string has both \\'single\\' and \\\"double\\\" quotes'\n",
    "print(complex_string)\n",
    "\n",
    "# Other common escape sequences\n",
    "print(\"\\nNewline example:\\nSecond line\")\n",
    "print(\"Tab example:\\tTabbed text\")\n",
    "print(\"Backslash example: C:\\\\Users\\\\Documents\")"
   ]
  },
  {
   "cell_type": "markdown",
   "metadata": {},
   "source": [
    "### 1.3 String Operations\n",
    "\n",
    "Python provides powerful operations for manipulating strings:"
   ]
  },
  {
   "cell_type": "code",
   "execution_count": 3,
   "metadata": {},
   "outputs": [
    {
     "name": "stdout",
     "output_type": "stream",
     "text": [
      "Concatenation: Python Programmer\n",
      "Repetition: -=-=-=-=-=\n",
      "First character: P\n",
      "Last character: n\n",
      "First 6 characters: Python\n",
      "Last 11 characters: Programming\n",
      "Reversed: gnimmargorP nohtyP\n"
     ]
    }
   ],
   "source": [
    "# String concatenation (joining)\n",
    "first_name = \"Python\"\n",
    "last_name = \"Programmer\"\n",
    "full_name = first_name + \" \" + last_name\n",
    "print(f\"Concatenation: {full_name}\")\n",
    "\n",
    "# String repetition\n",
    "pattern = \"-=\" * 5\n",
    "print(f\"Repetition: {pattern}\")\n",
    "\n",
    "# String indexing (accessing individual characters)\n",
    "word = \"Python\"\n",
    "print(f\"First character: {word[0]}\")\n",
    "print(f\"Last character: {word[-1]}\")\n",
    "\n",
    "# String slicing (extracting substrings)\n",
    "message = \"Python Programming\"\n",
    "print(f\"First 6 characters: {message[0:6]}\")\n",
    "print(f\"Last 11 characters: {message[7:]}\")\n",
    "print(f\"Reversed: {message[::-1]}\")"
   ]
  },
  {
   "cell_type": "markdown",
   "metadata": {},
   "source": [
    "### 1.4 String Methods\n",
    "\n",
    "Python strings come with numerous built-in methods for common operations:"
   ]
  },
  {
   "cell_type": "code",
   "execution_count": 4,
   "metadata": {},
   "outputs": [
    {
     "name": "stdout",
     "output_type": "stream",
     "text": [
      "Original: Python Programming Language\n",
      "Lowercase: python programming language\n",
      "Uppercase: PYTHON PROGRAMMING LANGUAGE\n",
      "Title case: Python Programming Language\n",
      "Swapped case: pYTHON pROGRAMMING lANGUAGE\n",
      "Original with spaces: '   Python   '\n",
      "Left stripped: 'Python   '\n",
      "Right stripped: '   Python'\n",
      "Fully stripped: 'Python'\n",
      "'Python' position: 0\n",
      "Replace 'Python' with 'JavaScript': JavaScript is a programming language\n",
      "Is 'Python123' alphanumeric? True\n",
      "Is '12345' numeric? True\n",
      "Is 'PYTHON' all uppercase? True\n"
     ]
    }
   ],
   "source": [
    "# Case conversion\n",
    "text = \"Python Programming Language\"\n",
    "print(f\"Original: {text}\")\n",
    "print(f\"Lowercase: {text.lower()}\")\n",
    "print(f\"Uppercase: {text.upper()}\")\n",
    "print(f\"Title case: {text.title()}\")\n",
    "print(f\"Swapped case: {text.swapcase()}\")\n",
    "\n",
    "# Whitespace handling\n",
    "padded_text = \"   Python   \"\n",
    "print(f\"Original with spaces: '{padded_text}'\")\n",
    "print(f\"Left stripped: '{padded_text.lstrip()}'\")\n",
    "print(f\"Right stripped: '{padded_text.rstrip()}'\")\n",
    "print(f\"Fully stripped: '{padded_text.strip()}'\")\n",
    "\n",
    "# Search and replace\n",
    "sentence = \"Python is a programming language\"\n",
    "print(f\"'Python' position: {sentence.find('Python')}\")\n",
    "print(f\"Replace 'Python' with 'JavaScript': {sentence.replace('Python', 'JavaScript')}\")\n",
    "\n",
    "# Content checking\n",
    "print(f\"Is 'Python123' alphanumeric? {'Python123'.isalnum()}\")\n",
    "print(f\"Is '12345' numeric? {'12345'.isdigit()}\")\n",
    "print(f\"Is 'PYTHON' all uppercase? {'PYTHON'.isupper()}\")"
   ]
  },
  {
   "cell_type": "markdown",
   "metadata": {},
   "source": [
    "### 1.5 String Formatting\n",
    "\n",
    "Python offers multiple ways to format strings:"
   ]
  },
  {
   "cell_type": "code",
   "execution_count": 5,
   "metadata": {},
   "outputs": [
    {
     "name": "stdout",
     "output_type": "stream",
     "text": [
      "Hello, Alice. You are 30 years old.\n",
      "Hello, Alice. You are 30 years old.\n",
      "Hello, Alice. You are 30 years old.\n",
      "Hello, Alice. You are 30 years old.\n",
      "In five years, you will be 35 years old.\n",
      "Pi to 2 decimal places: 3.14\n",
      "Pi in scientific notation: 3.14e+00\n"
     ]
    }
   ],
   "source": [
    "# Basic string formatting with %\n",
    "name = \"Alice\"\n",
    "age = 30\n",
    "print(\"Hello, %s. You are %d years old.\" % (name, age))\n",
    "\n",
    "# Formatting with str.format()\n",
    "print(\"Hello, {}. You are {} years old.\".format(name, age))\n",
    "print(\"Hello, {1}. You are {0} years old.\".format(age, name))  # Position-based\n",
    "\n",
    "# f-strings (Python 3.6+) - modern and recommended\n",
    "print(f\"Hello, {name}. You are {age} years old.\")\n",
    "print(f\"In five years, you will be {age + 5} years old.\")\n",
    "\n",
    "# Formatting numbers\n",
    "pi = 3.14159265359\n",
    "print(f\"Pi to 2 decimal places: {pi:.2f}\")\n",
    "print(f\"Pi in scientific notation: {pi:.2e}\")"
   ]
  }
 ],
 "metadata": {
  "kernelspec": {
   "display_name": "Python 3",
   "language": "python",
   "name": "python3"
  },
  "language_info": {
   "codemirror_mode": {
    "name": "ipython",
    "version": 3
   },
   "file_extension": ".py",
   "mimetype": "text/x-python",
   "name": "python",
   "nbconvert_exporter": "python",
   "pygments_lexer": "ipython3",
   "version": "3.8.5"
  }
 },
 "nbformat": 4,
 "nbformat_minor": 4
}
