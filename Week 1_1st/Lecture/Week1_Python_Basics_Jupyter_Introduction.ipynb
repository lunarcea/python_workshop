{
 "cells": [
  {
   "cell_type": "markdown",
   "metadata": {},
   "source": [
    "<h1>Python Fundamentals: Syntax and Variables</h1>\n",
    "An introduction to Python programming using Jupyter Notebooks"
   ]
  },
  {
   "cell_type": "markdown",
   "metadata": {},
   "source": [
    "## Understanding Jupyter Notebooks\n",
    "\n",
    "Jupyter Notebooks organize content into individual cells. These cells primarily come in two formats:\n",
    "\n",
    "* **Markdown cells** - For text, explanations, and documentation (like this one)\n",
    "* **Code cells** - For writing and executing Python code\n",
    "\n",
    "You can add new cells by clicking the '+' button in the toolbar. This format allows you to combine explanations with executable code, making it ideal for learning and experimentation."
   ]
  },
  {
   "cell_type": "markdown",
   "metadata": {},
   "source": [
    "## 1. Python Code Structure\n",
    "\n",
    "Python uses line breaks to separate statements. Each statement typically occupies its own line.\n",
    "\n",
    "✅ Correct approach:\n",
    "```python\n",
    "age = 25\n",
    "print(age)"
   ]
  },
  {
   "cell_type": "code",
   "execution_count": null,
   "metadata": {},
   "outputs": [],
   "source": [
    "❌ Incorrect approach:\n",
    "```python\n",
    "age = 25 print(age)"
   ]
  },
  {
   "cell_type": "code",
   "execution_count": 8,
   "metadata": {},
   "outputs": [
    {
     "name": "stdout",
     "output_type": "stream",
     "text": [
      "My age is: 25\n"
     ]
    }
   ],
   "source": [
    "# Python commenting uses the hash symbol (#)\n",
    "# Comments help document your code and explain what it does\n",
    "\n",
    "\"\"\"You can also create multi-line comments\n",
    "using triple quotes, which is useful for longer\n",
    "explanations or temporarily disabling blocks of code.\"\"\"\n",
    "\n",
    "# Try executing this cell to see the output\n",
    "age = 25\n",
    "print(\"My age is:\", age)"
   ]
  },
  {
   "cell_type": "markdown",
   "metadata": {},
   "source": [
    "## 2. Code Indentation\n",
    "\n",
    "Python uses indentation to define code blocks, rather than braces or keywords like some other languages. Proper indentation is crucial and not just a matter of style.\n",
    "\n",
    "A colon (`:`) indicates that an indented block will follow. This is commonly used with conditional statements, loops, and function definitions."
   ]
  },
  {
   "cell_type": "code",
   "execution_count": 9,
   "metadata": {},
   "outputs": [
    {
     "name": "stdout",
     "output_type": "stream",
     "text": [
      "The weather is pleasant.\n",
      "This line is not indented, so it runs regardless of the temperature.\n"
     ]
    }
   ],
   "source": [
    "# Example of indentation with conditional statements\n",
    "temperature = 28\n",
    "\n",
    "if temperature > 30:\n",
    "    print(\"It's hot today!\")\n",
    "    print(\"Remember to stay hydrated.\")\n",
    "elif temperature > 20:\n",
    "    print(\"The weather is pleasant.\")\n",
    "else:\n",
    "    print(\"It's a bit cool today.\")\n",
    "    print(\"Consider bringing a jacket.\")\n",
    "    \n",
    "print(\"This line is not indented, so it runs regardless of the temperature.\")"
   ]
  },
  {
   "cell_type": "markdown",
   "metadata": {},
   "source": [
    "## 3. Notebook Execution Order\n",
    "\n",
    "In Jupyter Notebooks, cells maintain state between executions. Variables defined in one cell are available to other cells, but only after the defining cell has been executed.\n",
    "\n",
    "⚠️ **Important**: The order in which you run cells matters, not necessarily the order they appear in the notebook."
   ]
  },
  {
   "cell_type": "code",
   "execution_count": 10,
   "metadata": {},
   "outputs": [],
   "source": [
    "# This cell defines a variable\n",
    "city = \"Paris\"\n",
    "country = \"France\""
   ]
  },
  {
   "cell_type": "code",
   "execution_count": 11,
   "metadata": {},
   "outputs": [
    {
     "name": "stdout",
     "output_type": "stream",
     "text": [
      "The city of Paris is in France.\n"
     ]
    }
   ],
   "source": [
    "# This cell uses the variables defined above\n",
    "# It will only work if the previous cell has been executed\n",
    "print(f\"The city of {city} is in {country}.\")\n",
    "\n",
    "# Try running this cell before running the cell that defines the variables\n",
    "# You'll see a NameError because Python doesn't know what 'city' or 'country' are"
   ]
  },
  {
   "cell_type": "markdown",
   "metadata": {},
   "source": [
    "## 4. Understanding Error Types\n",
    "\n",
    "When programming in Python, you'll encounter three main types of errors. Learning to recognize and fix these errors is an essential programming skill."
   ]
  },
  {
   "cell_type": "markdown",
   "metadata": {},
   "source": [
    "### 4.1 Syntax Errors\n",
    "\n",
    "Syntax errors occur when your code violates Python's grammar rules. The interpreter cannot understand the instructions because they're not written correctly.\n",
    "\n",
    "Common causes include:\n",
    "- Missing or mismatched parentheses/quotes\n",
    "- Invalid assignment operations\n",
    "- Incorrect indentation\n",
    "- Missing colons after conditional statements or loops"
   ]
  },
  {
   "cell_type": "code",
   "execution_count": 12,
   "metadata": {},
   "outputs": [],
   "source": [
    "# Syntax Error Example\n",
    "# This will fail because the assignment is incomplete\n",
    "# score = \n",
    "\n",
    "# Correct version:\n",
    "score = 95"
   ]
  },
  {
   "cell_type": "markdown",
   "metadata": {},
   "source": [
    "### 4.2 Runtime Errors\n",
    "\n",
    "Runtime errors occur during program execution. The syntax is valid, but the code attempts an operation that cannot be executed.\n",
    "\n",
    "Common examples include:\n",
    "- Dividing by zero\n",
    "- Accessing an index that doesn't exist\n",
    "- Calling methods on an inappropriate data type\n",
    "- Using undefined variables"
   ]
  },
  {
   "cell_type": "code",
   "execution_count": 13,
   "metadata": {},
   "outputs": [
    {
     "name": "stdout",
     "output_type": "stream",
     "text": [
      "The first fruit is: apple\n",
      "The last fruit is: cherry\n"
     ]
    }
   ],
   "source": [
    "# Runtime Error Example\n",
    "# This code is syntactically valid but will fail at runtime\n",
    "\n",
    "fruits = [\"apple\", \"banana\", \"cherry\"]\n",
    "\n",
    "# Trying to access an index that doesn't exist\n",
    "# Uncomment the next line to see the error\n",
    "# print(fruits[5])  # IndexError: list index out of range\n",
    "\n",
    "# Correct way to access elements:\n",
    "print(\"The first fruit is:\", fruits[0])\n",
    "print(\"The last fruit is:\", fruits[2])"
   ]
  },
  {
   "cell_type": "markdown",
   "metadata": {},
   "source": [
    "### 4.3 Logical Errors\n",
    "\n",
    "Logical errors are the most challenging to identify. The code runs without errors but produces incorrect results because the algorithm or calculation is flawed.\n",
    "\n",
    "These errors don't generate error messages, making them harder to detect. Careful testing and code review are essential for finding logical errors."
   ]
  },
  {
   "cell_type": "code",
   "execution_count": 14,
   "metadata": {},
   "outputs": [
    {
     "name": "stdout",
     "output_type": "stream",
     "text": [
      "Incorrect average: 40.0\n",
      "Correct average: 20.0\n"
     ]
    }
   ],
   "source": [
    "# Logical Error Example\n",
    "# This code will run but produces an incorrect result\n",
    "\n",
    "# Calculating average of three numbers\n",
    "num1 = 10\n",
    "num2 = 20\n",
    "num3 = 30\n",
    "\n",
    "# Incorrect calculation (missing parentheses changes the order of operations)\n",
    "incorrect_average = num1 + num2 + num3 / 3\n",
    "print(\"Incorrect average:\", incorrect_average)\n",
    "\n",
    "# Correct calculation\n",
    "correct_average = (num1 + num2 + num3) / 3\n",
    "print(\"Correct average:\", correct_average)"
   ]
  },
  {
   "cell_type": "code",
   "execution_count": null,
   "metadata": {},
   "outputs": [],
   "source": []
  }
 ],
 "metadata": {
  "kernelspec": {
   "display_name": "Python 3",
   "language": "python",
   "name": "python3"
  },
  "language_info": {
   "codemirror_mode": {
    "name": "ipython",
    "version": 3
   },
   "file_extension": ".py",
   "mimetype": "text/x-python",
   "name": "python",
   "nbconvert_exporter": "python",
   "pygments_lexer": "ipython3",
   "version": "3.8.5"
  }
 },
 "nbformat": 4,
 "nbformat_minor": 4
}
