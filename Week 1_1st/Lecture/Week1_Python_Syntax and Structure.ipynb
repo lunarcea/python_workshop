{
 "cells": [
  {
   "cell_type": "markdown",
   "metadata": {},
   "source": [
    "# Python Basics: Understanding Syntax\n",
    "\n",
    "A beginner's guide to Python programming fundamentals using Jupyter Notebooks"
   ]
  },
  {
   "cell_type": "markdown",
   "metadata": {},
   "source": [
    "## Working with Jupyter Notebooks\n",
    "\n",
    "Jupyter Notebooks provide an interactive environment for coding and documentation. Each \"cell\" can contain either:\n",
    "\n",
    "* **Markdown cells**: For text explanations and documentation (like this one)\n",
    "* **Code cells**: For executable Python code\n",
    "\n",
    "This format makes learning programming concepts more intuitive by allowing explanations alongside working code examples."
   ]
  },
  {
   "cell_type": "markdown",
   "metadata": {},
   "source": [
    "## 1. Python Code Structure\n",
    "\n",
    "Python code is organized line by line, with each statement typically on its own line. This makes code readable and easy to follow.\n",
    "\n",
    "**Example of correct code structure:**\n",
    "```python\n",
    "name = \"Alice\"\n",
    "age = 30\n",
    "print(f\"{name} is {age} years old.\")"
   ]
  },
  {
   "cell_type": "code",
   "execution_count": 2,
   "metadata": {},
   "outputs": [
    {
     "ename": "SyntaxError",
     "evalue": "invalid syntax (<ipython-input-2-122440469d79>, line 3)",
     "output_type": "error",
     "traceback": [
      "\u001b[1;36m  Cell \u001b[1;32mIn[2], line 3\u001b[1;36m\u001b[0m\n\u001b[1;33m    age = 30 print(f\"{name} is {age} years old.\")\u001b[0m\n\u001b[1;37m             ^\u001b[0m\n\u001b[1;31mSyntaxError\u001b[0m\u001b[1;31m:\u001b[0m invalid syntax\n"
     ]
    }
   ],
   "source": [
    "#Example of incorrect code structure:\n",
    "name = \"Alice\" age = 30 print(f\"{name} is {age} years old.\")"
   ]
  },
  {
   "cell_type": "code",
   "execution_count": 3,
   "metadata": {},
   "outputs": [
    {
     "name": "stdout",
     "output_type": "stream",
     "text": [
      "Alice is 30 years old.\n"
     ]
    }
   ],
   "source": [
    "# Comment lines begin with the hash (#) symbol\n",
    "# Comments help explain your code and are not executed\n",
    "\n",
    "\"\"\"\n",
    "Triple quotes allow for multi-line comments\n",
    "or documentation strings (docstrings)\n",
    "that can span several lines\n",
    "\"\"\"\n",
    "\n",
    "# Basic code example\n",
    "name = \"Alice\"\n",
    "age = 30\n",
    "print(f\"{name} is {age} years old.\")"
   ]
  },
  {
   "cell_type": "markdown",
   "metadata": {},
   "source": [
    "## 2. Understanding Indentation\n",
    "\n",
    "Python uses indentation (whitespace at the beginning of a line) to define code blocks instead of braces or brackets used in many other languages.\n",
    "\n",
    "Statements that end with a colon (:) indicate that an indented block will follow. This includes control structures like:\n",
    "- if/elif/else statements\n",
    "- for and while loops\n",
    "- function and class definitions"
   ]
  },
  {
   "cell_type": "code",
   "execution_count": 4,
   "metadata": {},
   "outputs": [
    {
     "name": "stdout",
     "output_type": "stream",
     "text": [
      "The weather is pleasant.\n",
      "Perfect for outdoor activities.\n",
      "Weather report complete.\n"
     ]
    }
   ],
   "source": [
    "# Indentation example with weather conditions\n",
    "\n",
    "temperature = 22\n",
    "\n",
    "# Notice how the indented code only runs when the condition is met\n",
    "if temperature > 25:\n",
    "    print(\"It's a hot day!\")\n",
    "    print(\"Remember to drink water.\")\n",
    "elif temperature > 15:\n",
    "    print(\"The weather is pleasant.\")\n",
    "    print(\"Perfect for outdoor activities.\")\n",
    "else:\n",
    "    print(\"It's quite cool today.\")\n",
    "    print(\"Consider wearing a jacket.\")\n",
    "\n",
    "# This line isn't indented, so it runs regardless of the temperature\n",
    "print(\"Weather report complete.\")"
   ]
  },
  {
   "cell_type": "markdown",
   "metadata": {},
   "source": [
    "## 3. Cell Execution Order in Jupyter\n",
    "\n",
    "An important feature of Jupyter Notebooks is that cells maintain state between executions. Variables defined in one cell can be used in other cells, but the execution order matters.\n",
    "\n",
    "⚠️ **Important**: Variables must be defined before they are used, regardless of where they appear in the notebook."
   ]
  },
  {
   "cell_type": "code",
   "execution_count": 5,
   "metadata": {},
   "outputs": [],
   "source": [
    "# Define a variable\n",
    "location = \"Seoul\"\n",
    "country = \"South Korea\""
   ]
  },
  {
   "cell_type": "code",
   "execution_count": 6,
   "metadata": {},
   "outputs": [
    {
     "name": "stdout",
     "output_type": "stream",
     "text": [
      "Welcome to New York, United States!\n"
     ]
    }
   ],
   "source": [
    "# Use the variable defined above\n",
    "print(f\"Welcome to {location}, {country}!\")\n",
    "\n",
    "# Try running this cell before running the cell that defines the variables\n",
    "# You'll get a NameError if you do"
   ]
  },
  {
   "cell_type": "code",
   "execution_count": null,
   "metadata": {},
   "outputs": [],
   "source": []
  }
 ],
 "metadata": {
  "kernelspec": {
   "display_name": "Python 3",
   "language": "python",
   "name": "python3"
  },
  "language_info": {
   "codemirror_mode": {
    "name": "ipython",
    "version": 3
   },
   "file_extension": ".py",
   "mimetype": "text/x-python",
   "name": "python",
   "nbconvert_exporter": "python",
   "pygments_lexer": "ipython3",
   "version": "3.8.5"
  }
 },
 "nbformat": 4,
 "nbformat_minor": 4
}
