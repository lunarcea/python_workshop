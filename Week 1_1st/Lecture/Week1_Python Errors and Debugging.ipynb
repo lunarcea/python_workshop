{
 "cells": [
  {
   "cell_type": "markdown",
   "metadata": {},
   "source": [
    "## Python Basics: Python Errors and Debugging4. Types of Errors in Python\n",
    "\n",
    "Understanding different types of errors helps in debugging and writing better code. There are three main categories of errors you'll encounter:"
   ]
  },
  {
   "cell_type": "markdown",
   "metadata": {},
   "source": [
    "### 1.1 Syntax Errors\n",
    "\n",
    "Syntax errors occur when the code violates Python's grammatical rules. These prevent your program from running at all. The interpreter will point out where it encountered the problem.\n",
    "\n",
    "Common causes:\n",
    "- Missing or mismatched parentheses\n",
    "- Forgetting colons after if/for/while statements\n",
    "- Incorrect indentation\n",
    "- Invalid variable names"
   ]
  },
  {
   "cell_type": "code",
   "execution_count": 8,
   "metadata": {},
   "outputs": [
    {
     "name": "stdout",
     "output_type": "stream",
     "text": [
      "Hello Alex!\n"
     ]
    }
   ],
   "source": [
    "# Syntax Error Example\n",
    "# This code has a syntax error - uncomment to see what happens\n",
    "\n",
    "# name = \"Alex\"\n",
    "# if name == \"Alex\"  # Missing colon\n",
    "#     print(\"Hello Alex!\")\n",
    "\n",
    "# Correct version:\n",
    "name = \"Alex\"\n",
    "if name == \"Alex\":  # Proper syntax with colon\n",
    "    print(\"Hello Alex!\")"
   ]
  },
  {
   "cell_type": "markdown",
   "metadata": {},
   "source": [
    "### 1.2 Runtime Errors\n",
    "\n",
    "Runtime errors (or exceptions) occur during program execution. The syntax is valid, but something goes wrong when the program runs.\n",
    "\n",
    "Common examples:\n",
    "- Dividing by zero\n",
    "- Accessing a list index that doesn't exist\n",
    "- Using undefined variables\n",
    "- Type mismatches in operations"
   ]
  },
  {
   "cell_type": "code",
   "execution_count": 9,
   "metadata": {},
   "outputs": [
    {
     "name": "stdout",
     "output_type": "stream",
     "text": [
      "The list only has 3 elements\n"
     ]
    }
   ],
   "source": [
    "# Runtime Error Example\n",
    "# This code is syntactically correct but will fail during execution\n",
    "\n",
    "colors = [\"red\", \"green\", \"blue\"]\n",
    "\n",
    "# Try accessing an element at index 5 (which doesn't exist)\n",
    "# Uncomment to see the error\n",
    "# print(colors[5])  # This will raise an IndexError\n",
    "\n",
    "# Safe way to access elements:\n",
    "if 5 < len(colors):\n",
    "    print(colors[5])\n",
    "else:\n",
    "    print(f\"The list only has {len(colors)} elements\")"
   ]
  },
  {
   "cell_type": "markdown",
   "metadata": {},
   "source": [
    "### 1.3 Logical Errors\n",
    "\n",
    "Logical errors are the most challenging to identify because the program runs without raising errors, but produces incorrect results.\n",
    "\n",
    "These errors occur when your code doesn't implement the algorithm correctly. The computer does exactly what you tell it to do, not what you intended it to do."
   ]
  },
  {
   "cell_type": "code",
   "execution_count": 10,
   "metadata": {},
   "outputs": [
    {
     "name": "stdout",
     "output_type": "stream",
     "text": [
      "Incorrect average: 206.66666666666666\n",
      "Correct average: 90.0\n"
     ]
    }
   ],
   "source": [
    "# Logical Error Example\n",
    "\n",
    "# Calculate the average of three exam scores\n",
    "exam1 = 85\n",
    "exam2 = 90\n",
    "exam3 = 95\n",
    "\n",
    "# Incorrect calculation - the order of operations gives wrong result\n",
    "incorrect_average = exam1 + exam2 + exam3 / 3\n",
    "print(f\"Incorrect average: {incorrect_average}\")  # Will not be 90 as expected\n",
    "\n",
    "# Correct calculation\n",
    "correct_average = (exam1 + exam2 + exam3) / 3\n",
    "print(f\"Correct average: {correct_average}\")"
   ]
  },
  {
   "cell_type": "code",
   "execution_count": null,
   "metadata": {},
   "outputs": [],
   "source": []
  }
 ],
 "metadata": {
  "kernelspec": {
   "display_name": "Python 3",
   "language": "python",
   "name": "python3"
  },
  "language_info": {
   "codemirror_mode": {
    "name": "ipython",
    "version": 3
   },
   "file_extension": ".py",
   "mimetype": "text/x-python",
   "name": "python",
   "nbconvert_exporter": "python",
   "pygments_lexer": "ipython3",
   "version": "3.8.5"
  }
 },
 "nbformat": 4,
 "nbformat_minor": 4
}
