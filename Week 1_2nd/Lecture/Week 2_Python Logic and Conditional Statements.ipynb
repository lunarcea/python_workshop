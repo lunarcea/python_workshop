{
 "cells": [
  {
   "cell_type": "markdown",
   "metadata": {},
   "source": [
    "# Python Fundamentals: Logic and Conditional Statements\n",
    "\n",
    "This notebook explores essential Python programming concepts including logical expressions and control structures."
   ]
  },
  {
   "cell_type": "markdown",
   "metadata": {},
   "source": [
    "## 1. Comparison and Boolean Operations\n",
    "\n",
    "Comparison operators allow us to compare values and return boolean results (True/False)."
   ]
  },
  {
   "cell_type": "code",
   "execution_count": 12,
   "metadata": {},
   "outputs": [
    {
     "name": "stdout",
     "output_type": "stream",
     "text": [
      "15 == 15: True\n",
      "15 == 25: False\n",
      "15 != 25: True\n",
      "15 < 25: True\n",
      "15 > 25: False\n",
      "15 <= 15: True\n",
      "15 >= 25: False\n"
     ]
    }
   ],
   "source": [
    "# Basic comparisons\n",
    "a = 15\n",
    "b = 25\n",
    "\n",
    "print(f\"{a} == {a}: {a == a}\")  # Equal to\n",
    "print(f\"{a} == {b}: {a == b}\")  # Equal to\n",
    "\n",
    "print(f\"{a} != {b}: {a != b}\")  # Not equal to\n",
    "\n",
    "print(f\"{a} < {b}: {a < b}\")    # Less than\n",
    "print(f\"{a} > {b}: {a > b}\")    # Greater than\n",
    "\n",
    "print(f\"{a} <= {a}: {a <= a}\")  # Less than or equal to\n",
    "print(f\"{a} >= {b}: {a >= b}\")  # Greater than or equal to"
   ]
  },
  {
   "cell_type": "code",
   "execution_count": 13,
   "metadata": {},
   "outputs": [
    {
     "name": "stdout",
     "output_type": "stream",
     "text": [
      "18 <= 25 < 65: True\n",
      "'apple' < 'banana': True\n",
      "'dog' > 'cat': True\n"
     ]
    }
   ],
   "source": [
    "# Comparison chaining\n",
    "age = 25\n",
    "print(f\"18 <= {age} < 65: {18 <= age < 65}\")  # Check if age is between 18 and 65\n",
    "\n",
    "# String comparisons (based on alphabetical order)\n",
    "fruit1 = \"apple\"\n",
    "fruit2 = \"banana\"\n",
    "\n",
    "print(f\"'{fruit1}' < '{fruit2}': {fruit1 < fruit2}\")  # alphabetical comparison\n",
    "print(f\"'dog' > 'cat': {'dog' > 'cat'}\")"
   ]
  },
  {
   "cell_type": "markdown",
   "metadata": {},
   "source": [
    "## 2. Logical Operations\n",
    "\n",
    "Logical operators (and, or, not) allow us to combine boolean expressions."
   ]
  },
  {
   "cell_type": "code",
   "execution_count": 14,
   "metadata": {},
   "outputs": [
    {
     "name": "stdout",
     "output_type": "stream",
     "text": [
      "is_sunny: True\n",
      "is_warm: False\n",
      "is_sunny AND is_warm: False\n",
      "is_sunny OR is_warm: True\n",
      "NOT is_sunny: False\n",
      "NOT is_warm: True\n"
     ]
    }
   ],
   "source": [
    "# Basic logical operations\n",
    "is_sunny = True\n",
    "is_warm = False\n",
    "\n",
    "print(f\"is_sunny: {is_sunny}\")\n",
    "print(f\"is_warm: {is_warm}\")\n",
    "\n",
    "# Logical AND - both conditions must be True\n",
    "print(f\"is_sunny AND is_warm: {is_sunny and is_warm}\")\n",
    "\n",
    "# Logical OR - at least one condition must be True\n",
    "print(f\"is_sunny OR is_warm: {is_sunny or is_warm}\")\n",
    "\n",
    "# Logical NOT - inverts the boolean value\n",
    "print(f\"NOT is_sunny: {not is_sunny}\")\n",
    "print(f\"NOT is_warm: {not is_warm}\")"
   ]
  },
  {
   "cell_type": "code",
   "execution_count": 15,
   "metadata": {},
   "outputs": [
    {
     "name": "stdout",
     "output_type": "stream",
     "text": [
      "Temperature: 28°C, Humidity: 65%\n",
      "Is it hot (>30°C)? False\n",
      "Is it humid (>60%)? True\n",
      "Is it hot AND humid? False\n",
      "Is it either hot OR humid? True\n"
     ]
    }
   ],
   "source": [
    "# Combining logical operations with comparisons\n",
    "temperature = 28\n",
    "humidity = 65\n",
    "\n",
    "# Check if it's hot and humid\n",
    "is_hot = temperature > 30\n",
    "is_humid = humidity > 60\n",
    "\n",
    "print(f\"Temperature: {temperature}°C, Humidity: {humidity}%\")\n",
    "print(f\"Is it hot (>30°C)? {is_hot}\")\n",
    "print(f\"Is it humid (>60%)? {is_humid}\")\n",
    "print(f\"Is it hot AND humid? {is_hot and is_humid}\")\n",
    "print(f\"Is it either hot OR humid? {is_hot or is_humid}\")"
   ]
  },
  {
   "cell_type": "markdown",
   "metadata": {},
   "source": [
    "### 2.1 Identity and Membership Operators\n",
    "\n",
    "Python provides additional operators to check identity and membership:\n",
    "- **Identity operators**: `is` and `is not` check if two variables reference the same object\n",
    "- **Membership operators**: `in` and `not in` check if a value exists in a sequence"
   ]
  },
  {
   "cell_type": "code",
   "execution_count": 16,
   "metadata": {},
   "outputs": [
    {
     "name": "stdout",
     "output_type": "stream",
     "text": [
      "a: [1, 2, 3], b: [1, 2, 3], c: [1, 2, 3]\n",
      "a is b: False\n",
      "a is c: True\n",
      "a is not b: True\n"
     ]
    }
   ],
   "source": [
    "# Identity operators (is, is not)\n",
    "a = [1, 2, 3]\n",
    "b = [1, 2, 3]\n",
    "c = a  # c references the same object as a\n",
    "\n",
    "print(f\"a: {a}, b: {b}, c: {c}\")\n",
    "print(f\"a is b: {a is b}\")  # False - different objects with same value\n",
    "print(f\"a is c: {a is c}\")  # True - same object\n",
    "print(f\"a is not b: {a is not b}\")  # True"
   ]
  },
  {
   "cell_type": "code",
   "execution_count": 17,
   "metadata": {},
   "outputs": [
    {
     "name": "stdout",
     "output_type": "stream",
     "text": [
      "Shopping list: ['milk', 'eggs', 'bread', 'apples', 'cheese']\n",
      "'eggs' in shopping_list: True\n",
      "'butter' in shopping_list: False\n",
      "'coffee' not in shopping_list: True\n",
      "Message: 'Python programming is fun'\n",
      "'Python' in message: True\n",
      "'python' in message: False\n"
     ]
    }
   ],
   "source": [
    "# Membership operators (in, not in)\n",
    "shopping_list = [\"milk\", \"eggs\", \"bread\", \"apples\", \"cheese\"]\n",
    "\n",
    "print(f\"Shopping list: {shopping_list}\")\n",
    "print(f\"'eggs' in shopping_list: {'eggs' in shopping_list}\")\n",
    "print(f\"'butter' in shopping_list: {'butter' in shopping_list}\")\n",
    "print(f\"'coffee' not in shopping_list: {'coffee' not in shopping_list}\")\n",
    "\n",
    "# String membership\n",
    "message = \"Python programming is fun\"\n",
    "print(f\"Message: '{message}'\")\n",
    "print(f\"'Python' in message: {'Python' in message}\")\n",
    "print(f\"'python' in message: {'python' in message}\")  # Case sensitive!"
   ]
  },
  {
   "cell_type": "markdown",
   "metadata": {},
   "source": [
    "## 3. Conditional Statements\n",
    "\n",
    "Conditional statements allow your program to make decisions based on conditions."
   ]
  },
  {
   "cell_type": "code",
   "execution_count": 18,
   "metadata": {},
   "outputs": [
    {
     "name": "stdout",
     "output_type": "stream",
     "text": [
      "You are eligible to vote.\n",
      "Make sure to register!\n"
     ]
    }
   ],
   "source": [
    "# Basic if statement\n",
    "user_age = 19\n",
    "\n",
    "if user_age >= 18:\n",
    "    print(\"You are eligible to vote.\")\n",
    "    print(\"Make sure to register!\")"
   ]
  },
  {
   "cell_type": "code",
   "execution_count": 19,
   "metadata": {},
   "outputs": [
    {
     "name": "stdout",
     "output_type": "stream",
     "text": [
      "The water is not boiling yet.\n",
      "Current temperature: 95°C\n"
     ]
    }
   ],
   "source": [
    "# if-else statement\n",
    "water_temp = 95\n",
    "\n",
    "if water_temp >= 100:\n",
    "    print(\"The water is boiling.\")\n",
    "else:\n",
    "    print(\"The water is not boiling yet.\")\n",
    "    print(f\"Current temperature: {water_temp}°C\")"
   ]
  },
  {
   "cell_type": "code",
   "execution_count": 20,
   "metadata": {},
   "outputs": [
    {
     "name": "stdout",
     "output_type": "stream",
     "text": [
      "Score: 85\n",
      "Grade: B\n"
     ]
    }
   ],
   "source": [
    "# if-elif-else statement (multiple conditions)\n",
    "score = 85\n",
    "\n",
    "if score >= 90:\n",
    "    grade = \"A\"\n",
    "elif score >= 80:\n",
    "    grade = \"B\"\n",
    "elif score >= 70:\n",
    "    grade = \"C\"\n",
    "elif score >= 60:\n",
    "    grade = \"D\"\n",
    "else:\n",
    "    grade = \"F\"\n",
    "\n",
    "print(f\"Score: {score}\")\n",
    "print(f\"Grade: {grade}\")"
   ]
  },
  {
   "cell_type": "code",
   "execution_count": 21,
   "metadata": {},
   "outputs": [
    {
     "name": "stdout",
     "output_type": "stream",
     "text": [
      "Income requirement met\n",
      "Employment requirement also met\n",
      "Loan approved!\n"
     ]
    }
   ],
   "source": [
    "# Nested if statements\n",
    "income = 75000\n",
    "years_employed = 3\n",
    "\n",
    "if income > 50000:\n",
    "    print(\"Income requirement met\")\n",
    "    \n",
    "    if years_employed >= 2:\n",
    "        print(\"Employment requirement also met\")\n",
    "        print(\"Loan approved!\")\n",
    "    else:\n",
    "        print(\"Employment requirement not met\")\n",
    "        print(\"Need at least 2 years of employment\")\n",
    "else:\n",
    "    print(\"Income requirement not met\")\n",
    "    print(\"Minimum income required: $50,000\")"
   ]
  },
  {
   "cell_type": "code",
   "execution_count": null,
   "metadata": {},
   "outputs": [],
   "source": []
  }
 ],
 "metadata": {
  "kernelspec": {
   "display_name": "Python 3",
   "language": "python",
   "name": "python3"
  },
  "language_info": {
   "codemirror_mode": {
    "name": "ipython",
    "version": 3
   },
   "file_extension": ".py",
   "mimetype": "text/x-python",
   "name": "python",
   "nbconvert_exporter": "python",
   "pygments_lexer": "ipython3",
   "version": "3.8.5"
  }
 },
 "nbformat": 4,
 "nbformat_minor": 4
}
