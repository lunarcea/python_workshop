{
 "cells": [
  {
   "cell_type": "markdown",
   "metadata": {},
   "source": [
    "# Probability Experiment: Coin Flip Simulation\n",
    "\n",
    "This notebook demonstrates how to simulate a series of random coin flips using Python's random module, tracking the outcomes and calculating probabilities."
   ]
  },
  {
   "cell_type": "markdown",
   "metadata": {},
   "source": [
    "## Basic Simulation\n",
    "\n",
    "We'll simulate flipping a fair coin multiple times and record the outcomes. This demonstrates basic probability concepts and random number generation in Python."
   ]
  },
  {
   "cell_type": "code",
   "execution_count": 1,
   "metadata": {},
   "outputs": [
    {
     "name": "stdout",
     "output_type": "stream",
     "text": [
      "Flip 1: Tails\n",
      "Flip 2: Tails\n",
      "Flip 3: Tails\n",
      "Flip 4: Tails\n",
      "Flip 5: Tails\n",
      "Flip 6: Tails\n",
      "Flip 7: Heads\n",
      "Flip 8: Tails\n",
      "Flip 9: Heads\n",
      "Flip 10: Tails\n",
      "\n",
      "--- Simulation Results ---\n",
      "Total flips: 10\n",
      "Heads: 2 (20.0%)\n",
      "Tails: 8 (80.0%)\n"
     ]
    }
   ],
   "source": [
    "# Import the random module to generate random outcomes\n",
    "import random\n",
    "\n",
    "# Set up the simulation parameters\n",
    "num_flips = 10\n",
    "results = []\n",
    "heads_count = 0\n",
    "tails_count = 0\n",
    "\n",
    "# Perform the coin flip simulation using a for loop\n",
    "for flip in range(num_flips):\n",
    "    # Use random.choice() to select randomly from a list\n",
    "    outcome = random.choice(['Heads', 'Tails'])\n",
    "    \n",
    "    # Record the result\n",
    "    results.append(outcome)\n",
    "    \n",
    "    # Update our counters\n",
    "    if outcome == 'Heads':\n",
    "        heads_count += 1\n",
    "    else:\n",
    "        tails_count += 1\n",
    "    \n",
    "    # Display the individual flip result\n",
    "    print(f\"Flip {flip + 1}: {outcome}\")\n",
    "\n",
    "# Calculate percentages\n",
    "heads_percent = (heads_count / num_flips) * 100\n",
    "tails_percent = (tails_count / num_flips) * 100\n",
    "\n",
    "# Display summary statistics\n",
    "print(\"\\n--- Simulation Results ---\")\n",
    "print(f\"Total flips: {num_flips}\")\n",
    "print(f\"Heads: {heads_count} ({heads_percent:.1f}%)\")\n",
    "print(f\"Tails: {tails_count} ({tails_percent:.1f}%)\")"
   ]
  },
  {
   "cell_type": "markdown",
   "metadata": {},
   "source": [
    "## Enhanced Visualization\n",
    "\n",
    "Let's visualize our coin flip results to better understand the outcomes."
   ]
  },
  {
   "cell_type": "code",
   "execution_count": 2,
   "metadata": {},
   "outputs": [
    {
     "name": "stdout",
     "output_type": "stream",
     "text": [
      "Sequence of flips:\n",
      "Tails Tails Tails Tails Tails Tails Heads Tails Heads Tails\n",
      "\n",
      "Distribution:\n",
      "Heads: ██ 2\n",
      "Tails: ████████ 8\n",
      "\n",
      "Running count:\n",
      "After flip 1: 0 Heads, 1 Tails\n",
      "After flip 2: 0 Heads, 2 Tails\n",
      "After flip 3: 0 Heads, 3 Tails\n",
      "After flip 4: 0 Heads, 4 Tails\n",
      "After flip 5: 0 Heads, 5 Tails\n",
      "After flip 6: 0 Heads, 6 Tails\n",
      "After flip 7: 1 Heads, 6 Tails\n",
      "After flip 8: 1 Heads, 7 Tails\n",
      "After flip 9: 2 Heads, 7 Tails\n",
      "After flip 10: 2 Heads, 8 Tails\n"
     ]
    }
   ],
   "source": [
    "# Let's create a simple text-based visualization of our results\n",
    "print(\"Sequence of flips:\")\n",
    "print(\" \".join(results))\n",
    "\n",
    "# Create a simple text-based bar chart\n",
    "print(\"\\nDistribution:\")\n",
    "print(f\"Heads: {'█' * heads_count} {heads_count}\")\n",
    "print(f\"Tails: {'█' * tails_count} {tails_count}\")\n",
    "\n",
    "# Display the running total as we flip coins\n",
    "print(\"\\nRunning count:\")\n",
    "running_heads = 0\n",
    "for i, flip in enumerate(results):\n",
    "    if flip == 'Heads':\n",
    "        running_heads += 1\n",
    "    running_tails = (i + 1) - running_heads\n",
    "    print(f\"After flip {i+1}: {running_heads} Heads, {running_tails} Tails\")"
   ]
  },
  {
   "cell_type": "markdown",
   "metadata": {},
   "source": [
    "## Theoretical vs. Experimental Probability\n",
    "\n",
    "For a fair coin, the theoretical probability of getting heads or tails is 50% each. \n",
    "Let's compare our experimental results with theoretical expectations."
   ]
  },
  {
   "cell_type": "code",
   "execution_count": 3,
   "metadata": {},
   "outputs": [
    {
     "name": "stdout",
     "output_type": "stream",
     "text": [
      "Expected number of heads: 5.0\n",
      "Actual number of heads: 2\n",
      "Difference: 3.0 (30.0% deviation)\n",
      "The experimental results deviate significantly from theoretical probability.\n",
      "With only 10 flips, some deviation is normal - try increasing the number of flips!\n"
     ]
    }
   ],
   "source": [
    "# Let's see how our experimental results compare to theoretical probability\n",
    "theoretical_probability = 0.5  # 50% chance for heads or tails\n",
    "\n",
    "# Calculate the absolute difference between expected and actual\n",
    "heads_expected = num_flips * theoretical_probability\n",
    "heads_difference = abs(heads_count - heads_expected)\n",
    "difference_percentage = (heads_difference / num_flips) * 100\n",
    "\n",
    "print(f\"Expected number of heads: {heads_expected}\")\n",
    "print(f\"Actual number of heads: {heads_count}\")\n",
    "print(f\"Difference: {heads_difference} ({difference_percentage:.1f}% deviation)\")\n",
    "\n",
    "# Check if our results are significantly different from expectation\n",
    "if difference_percentage < 10:\n",
    "    print(\"The experimental results are close to theoretical probability.\")\n",
    "else:\n",
    "    print(\"The experimental results deviate significantly from theoretical probability.\")\n",
    "print(\"With only 10 flips, some deviation is normal - try increasing the number of flips!\")"
   ]
  },
  {
   "cell_type": "markdown",
   "metadata": {},
   "source": [
    "## Experiment Extension\n",
    "\n",
    "To see how increasing the sample size affects the experimental probability, try:\n",
    "\n",
    "1. Change the `num_flips` variable to a larger number (e.g., 100 or 1000)\n",
    "2. Run the simulation again\n",
    "3. Compare how close the experimental probability gets to the theoretical 50%\n",
    "\n",
    "This demonstrates the Law of Large Numbers - as we increase our sample size, our experimental probability should converge toward the theoretical probability."
   ]
  },
  {
   "cell_type": "code",
   "execution_count": null,
   "metadata": {},
   "outputs": [],
   "source": []
  }
 ],
 "metadata": {
  "kernelspec": {
   "display_name": "Python 3",
   "language": "python",
   "name": "python3"
  },
  "language_info": {
   "codemirror_mode": {
    "name": "ipython",
    "version": 3
   },
   "file_extension": ".py",
   "mimetype": "text/x-python",
   "name": "python",
   "nbconvert_exporter": "python",
   "pygments_lexer": "ipython3",
   "version": "3.8.5"
  }
 },
 "nbformat": 4,
 "nbformat_minor": 4
}
