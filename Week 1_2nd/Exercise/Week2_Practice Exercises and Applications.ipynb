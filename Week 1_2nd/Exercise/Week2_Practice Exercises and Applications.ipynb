{
 "cells": [
  {
   "cell_type": "markdown",
   "metadata": {},
   "source": [
    "# Python Programming Exercises and Applications\n",
    "\n",
    "This notebook contains a series of programming exercises and practical applications to help you develop your Python skills. The content progresses from basic concepts to more complex implementations."
   ]
  },
  {
   "cell_type": "markdown",
   "metadata": {},
   "source": [
    "## Part 1: Fundamental Exercises\n",
    "\n",
    "These exercises will test your understanding of Python basics including loops, conditionals, and working with lists."
   ]
  },
  {
   "cell_type": "markdown",
   "metadata": {},
   "source": [
    "### Exercise 1: Numeric Sequence Generation\n",
    "\n",
    "Write a program that displays the first 10 natural numbers (1-10) using a loop."
   ]
  },
  {
   "cell_type": "code",
   "execution_count": 1,
   "metadata": {},
   "outputs": [],
   "source": [
    "# Exercise 1: Use a loop to display numbers from 0 to 10\n",
    "# Your solution here:"
   ]
  },
  {
   "cell_type": "markdown",
   "metadata": {},
   "source": [
    "### Exercise 2: Loop with Completion Message\n",
    "\n",
    "Modify your solution to Exercise 1 to display a completion message after the loop terminates."
   ]
  },
  {
   "cell_type": "code",
   "execution_count": 2,
   "metadata": {},
   "outputs": [],
   "source": [
    "# Exercise 2: Display numbers 0-10 with a completion message\n",
    "# Your solution here:"
   ]
  },
  {
   "cell_type": "markdown",
   "metadata": {},
   "source": [
    "### Exercise 3: Filtering Values\n",
    "\n",
    "Given the list: [15, 28, 39, 47, 63, 84, 155, 168, 192]\n",
    "Write code to display only the numbers greater than 150."
   ]
  },
  {
   "cell_type": "code",
   "execution_count": 3,
   "metadata": {},
   "outputs": [],
   "source": [
    "# Exercise 3: Filter and display values greater than 150\n",
    "# Your solution here:"
   ]
  },
  {
   "cell_type": "markdown",
   "metadata": {},
   "source": [
    "### Exercise 4: Combined Conditions\n",
    "\n",
    "Using the same list: [15, 28, 39, 47, 63, 84, 155, 168, 192]\n",
    "Write code to display only numbers that are:\n",
    "1. Even numbers (divisible by 2)\n",
    "2. Less than 150"
   ]
  },
  {
   "cell_type": "code",
   "execution_count": 4,
   "metadata": {},
   "outputs": [],
   "source": [
    "# Exercise 4: Display even numbers less than 150\n",
    "# Your solution here:"
   ]
  },
  {
   "cell_type": "markdown",
   "metadata": {},
   "source": [
    "## Part 2: Practical Applications\n",
    "\n",
    "This section demonstrates practical applications of Python programming concepts."
   ]
  },
  {
   "cell_type": "markdown",
   "metadata": {},
   "source": [
    "### Application 1: Probability Simulation\n",
    "\n",
    "This program simulates flipping a coin multiple times and analyzes the results."
   ]
  },
  {
   "cell_type": "code",
   "execution_count": 5,
   "metadata": {},
   "outputs": [
    {
     "name": "stdout",
     "output_type": "stream",
     "text": [
      "Starting coin flip simulation...\n",
      "\n",
      "Flip 1: Heads\n",
      "Flip 2: Heads\n",
      "Flip 3: Heads\n",
      "Flip 4: Heads\n",
      "Flip 5: Heads\n",
      "Flip 6: Heads\n",
      "Flip 7: Heads\n",
      "Flip 8: Tails\n",
      "Flip 9: Tails\n",
      "Flip 10: Tails\n",
      "\n",
      "--- Results Summary ---\n",
      "Total flips: 10\n",
      "Heads: 7 (70.0%)\n",
      "Tails: 3 (30.0%)\n"
     ]
    },
    {
     "data": {
      "text/plain": [
       "(7, 3)"
      ]
     },
     "execution_count": 5,
     "metadata": {},
     "output_type": "execute_result"
    }
   ],
   "source": [
    "import random\n",
    "\n",
    "def coin_flip_simulation(num_flips=10):\n",
    "    \"\"\"\n",
    "    Simulates flipping a coin a specified number of times.\n",
    "    \n",
    "    Parameters:\n",
    "        num_flips (int): Number of coin flips to simulate\n",
    "        \n",
    "    Returns:\n",
    "        tuple: Count of heads and tails\n",
    "    \"\"\"\n",
    "    heads_count = 0\n",
    "    tails_count = 0\n",
    "    \n",
    "    print(\"Starting coin flip simulation...\\n\")\n",
    "    \n",
    "    for flip in range(num_flips):\n",
    "        # Generate a random outcome (1 or 2)\n",
    "        result = random.randint(1, 2)\n",
    "        \n",
    "        # Process and display the result\n",
    "        if result == 1:\n",
    "            outcome = \"Heads\"\n",
    "            heads_count += 1\n",
    "        else:\n",
    "            outcome = \"Tails\"\n",
    "            tails_count += 1\n",
    "            \n",
    "        print(f\"Flip {flip + 1}: {outcome}\")\n",
    "    \n",
    "    # Calculate percentages\n",
    "    heads_percentage = (heads_count / num_flips) * 100\n",
    "    tails_percentage = (tails_count / num_flips) * 100\n",
    "    \n",
    "    # Display summary\n",
    "    print(\"\\n--- Results Summary ---\")\n",
    "    print(f\"Total flips: {num_flips}\")\n",
    "    print(f\"Heads: {heads_count} ({heads_percentage:.1f}%)\")\n",
    "    print(f\"Tails: {tails_count} ({tails_percentage:.1f}%)\")\n",
    "    \n",
    "    return (heads_count, tails_count)\n",
    "\n",
    "# Run the simulation with 10 flips\n",
    "coin_flip_simulation(10)"
   ]
  },
  {
   "cell_type": "markdown",
   "metadata": {},
   "source": [
    "### Application 2: Interactive Calculator\n",
    "\n",
    "This program implements a basic calculator with an interactive interface, allowing users to perform arithmetic operations."
   ]
  },
  {
   "cell_type": "code",
   "execution_count": null,
   "metadata": {},
   "outputs": [
    {
     "name": "stdout",
     "output_type": "stream",
     "text": [
      "Welcome to the Interactive Calculator\n"
     ]
    }
   ],
   "source": [
    "def interactive_calculator():\n",
    "    \"\"\"\n",
    "    Provides an interactive calculator interface that allows users to perform\n",
    "    basic arithmetic operations including addition, subtraction, multiplication,\n",
    "    division, exponentiation, and remainder.\n",
    "    \"\"\"\n",
    "    def calculate():\n",
    "        # Display operation options to the user\n",
    "        operation = input('''\n",
    "Select the arithmetic operation to perform:\n",
    "+ : Addition\n",
    "- : Subtraction\n",
    "* : Multiplication\n",
    "/ : Division\n",
    "% : Remainder\n",
    "** : Exponentiation\n",
    "\n",
    "Enter your choice: ''')\n",
    "        \n",
    "        # Get the numbers for calculation\n",
    "        try:\n",
    "            number_1 = float(input('Enter the first number: '))\n",
    "            number_2 = float(input('Enter the second number: '))\n",
    "        except ValueError:\n",
    "            print(\"Error: Please enter valid numeric values.\")\n",
    "            return calculate()\n",
    "        \n",
    "        # Perform the selected operation\n",
    "        if operation == '+':\n",
    "            result = number_1 + number_2\n",
    "            print(f\"{number_1} + {number_2} = {result}\")\n",
    "        \n",
    "        elif operation == '-':\n",
    "            result = number_1 - number_2\n",
    "            print(f\"{number_1} - {number_2} = {result}\")\n",
    "        \n",
    "        elif operation == '*':\n",
    "            result = number_1 * number_2\n",
    "            print(f\"{number_1} * {number_2} = {result}\")\n",
    "        \n",
    "        elif operation == '/':\n",
    "            # Check for division by zero\n",
    "            if number_2 == 0:\n",
    "                print(\"Error: Division by zero is not allowed.\")\n",
    "            else:\n",
    "                result = number_1 / number_2\n",
    "                print(f\"{number_1} / {number_2} = {result}\")\n",
    "        \n",
    "        elif operation == '%':\n",
    "            # Check for modulo by zero\n",
    "            if number_2 == 0:\n",
    "                print(\"Error: Modulo by zero is not allowed.\")\n",
    "            else:\n",
    "                result = number_1 % number_2\n",
    "                print(f\"{number_1} % {number_2} = {result}\")\n",
    "        \n",
    "        elif operation == '**':\n",
    "            result = number_1 ** number_2\n",
    "            print(f\"{number_1} ** {number_2} = {result}\")\n",
    "        \n",
    "        else:\n",
    "            print(\"Invalid operation selected. Please try again.\")\n",
    "        \n",
    "        # Ask if the user wants to continue\n",
    "        continue_calculating()\n",
    "    \n",
    "    def continue_calculating():\n",
    "        \"\"\"Asks the user if they want to perform another calculation.\"\"\"\n",
    "        choice = input('''\n",
    "Would you like to perform another calculation?\n",
    "Y: Yes\n",
    "N: No\n",
    "\n",
    "Enter your choice: ''').upper()\n",
    "        \n",
    "        if choice == 'Y':\n",
    "            calculate()\n",
    "        elif choice == 'N':\n",
    "            print(\"Thank you for using the calculator. Goodbye!\")\n",
    "        else:\n",
    "            print(\"Invalid choice. Please enter Y or N.\")\n",
    "            continue_calculating()\n",
    "    \n",
    "    # Start the calculator\n",
    "    print(\"Welcome to the Interactive Calculator\")\n",
    "    calculate()\n",
    "\n",
    "# Run the calculator\n",
    "# Note: In Jupyter, you can interact with this program by entering values when prompted\n",
    "interactive_calculator()"
   ]
  },
  {
   "cell_type": "markdown",
   "metadata": {},
   "source": [
    "## Part 3: Solutions to Basic Exercises\n",
    "\n",
    "Below are example solutions to the exercises presented in Part 1. Remember that there are often multiple ways to solve programming problems."
   ]
  },
  {
   "cell_type": "code",
   "execution_count": null,
   "metadata": {},
   "outputs": [],
   "source": [
    "# Solution to Exercise 1: Display numbers from 0 to 10\n",
    "\n",
    "print(\"Exercise 1 Solution:\")\n",
    "# Method 1: Using a for loop with range\n",
    "for number in range(11):  # range(11) generates numbers from 0 to 10\n",
    "    print(number)\n",
    "\n",
    "# Method 2: Using a while loop\n",
    "# number = 0\n",
    "# while number <= 10:\n",
    "#     print(number)\n",
    "#     number += 1"
   ]
  },
  {
   "cell_type": "code",
   "execution_count": null,
   "metadata": {},
   "outputs": [],
   "source": [
    "# Solution to Exercise 2: Display numbers with completion message\n",
    "\n",
    "print(\"Exercise 2 Solution:\")\n",
    "# Method 1: Using a for loop with else clause\n",
    "for number in range(11):\n",
    "    print(number)\n",
    "else:\n",
    "    print(\"Sequence complete!\")\n",
    "\n",
    "# Method 2: Using a while loop\n",
    "# number = 0\n",
    "# while number <= 10:\n",
    "#     print(number)\n",
    "#     number += 1\n",
    "# print(\"Sequence complete!\")"
   ]
  },
  {
   "cell_type": "code",
   "execution_count": null,
   "metadata": {},
   "outputs": [],
   "source": [
    "# Solution to Exercise 3: Filter values greater than 150\n",
    "\n",
    "print(\"Exercise 3 Solution:\")\n",
    "number_list = [15, 28, 39, 47, 63, 84, 155, 168, 192]\n",
    "\n",
    "print(\"Numbers greater than 150:\")\n",
    "for number in number_list:\n",
    "    if number > 150:\n",
    "        print(number)"
   ]
  },
  {
   "cell_type": "code",
   "execution_count": null,
   "metadata": {},
   "outputs": [],
   "source": [
    "# Solution to Exercise 4: Filter even numbers less than 150\n",
    "\n",
    "print(\"Exercise 4 Solution:\")\n",
    "number_list = [15, 28, 39, 47, 63, 84, 155, 168, 192]\n",
    "\n",
    "print(\"Even numbers less than 150:\")\n",
    "for number in number_list:\n",
    "    if number < 150 and number % 2 == 0:\n",
    "        print(number)\n",
    "\n",
    "# Alternative approach using a break statement:\n",
    "# print(\"\\nAlternative approach:\")\n",
    "# for number in number_list:\n",
    "#     if number >= 150:\n",
    "#         break  # Stop when we reach 150 or greater\n",
    "#     if number % 2 == 0:\n",
    "#         print(number)"
   ]
  },
  {
   "cell_type": "markdown",
   "metadata": {},
   "source": [
    "## Part 4: Challenge Exercises\n",
    "\n",
    "These additional exercises will help you further develop your Python programming skills."
   ]
  },
  {
   "cell_type": "markdown",
   "metadata": {},
   "source": [
    "### Challenge 1: Enhanced Coin Flip\n",
    "\n",
    "Modify the coin flip simulation to:\n",
    "1. Allow the user to specify the number of flips\n",
    "2. Track the longest streak of consecutive heads or tails\n",
    "3. Visualize the results with a simple text-based chart"
   ]
  },
  {
   "cell_type": "markdown",
   "metadata": {},
   "source": [
    "### Challenge 2: Calculator Enhancements\n",
    "\n",
    "Improve the calculator by:\n",
    "1. Adding memory functions (M+, M-, MR, MC)\n",
    "2. Implementing error handling for invalid inputs\n",
    "3. Adding a history feature to track previous calculations"
   ]
  },
  {
   "cell_type": "markdown",
   "metadata": {},
   "source": [
    "### Challenge 3: List Comprehensions\n",
    "\n",
    "Rewrite the solutions to Exercises 3 and 4 using list comprehensions, which provide a more concise syntax for creating lists based on existing lists."
   ]
  },
  {
   "cell_type": "code",
   "execution_count": null,
   "metadata": {},
   "outputs": [],
   "source": []
  }
 ],
 "metadata": {
  "kernelspec": {
   "display_name": "Python 3",
   "language": "python",
   "name": "python3"
  },
  "language_info": {
   "codemirror_mode": {
    "name": "ipython",
    "version": 3
   },
   "file_extension": ".py",
   "mimetype": "text/x-python",
   "name": "python",
   "nbconvert_exporter": "python",
   "pygments_lexer": "ipython3",
   "version": "3.8.5"
  }
 },
 "nbformat": 4,
 "nbformat_minor": 4
}
